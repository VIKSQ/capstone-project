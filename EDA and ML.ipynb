{
 "cells": [
  {
   "cell_type": "code",
   "execution_count": 1,
   "id": "4c96b908",
   "metadata": {},
   "outputs": [],
   "source": [
    "import pandas as pd\n",
    "import numpy as np\n",
    "import matplotlib.pyplot as plt\n",
    "%matplotlib inline\n",
    "from sklearn.model_selection import train_test_split\n",
    "import seaborn as sns\n",
    "import warnings\n",
    "warnings.filterwarnings('ignore')"
   ]
  },
  {
   "cell_type": "code",
   "execution_count": 2,
   "id": "34d53c16",
   "metadata": {},
   "outputs": [
    {
     "data": {
      "text/html": [
       "<div>\n",
       "<style scoped>\n",
       "    .dataframe tbody tr th:only-of-type {\n",
       "        vertical-align: middle;\n",
       "    }\n",
       "\n",
       "    .dataframe tbody tr th {\n",
       "        vertical-align: top;\n",
       "    }\n",
       "\n",
       "    .dataframe thead th {\n",
       "        text-align: right;\n",
       "    }\n",
       "</style>\n",
       "<table border=\"1\" class=\"dataframe\">\n",
       "  <thead>\n",
       "    <tr style=\"text-align: right;\">\n",
       "      <th></th>\n",
       "      <th>Unnamed: 0.1</th>\n",
       "      <th>Unnamed: 0</th>\n",
       "      <th>productname</th>\n",
       "      <th>brand_names</th>\n",
       "      <th>prices</th>\n",
       "      <th>producttype</th>\n",
       "      <th>category</th>\n",
       "      <th>Occation</th>\n",
       "      <th>Weartype</th>\n",
       "      <th>country_of_origin</th>\n",
       "      <th>return_time</th>\n",
       "    </tr>\n",
       "  </thead>\n",
       "  <tbody>\n",
       "    <tr>\n",
       "      <th>0</th>\n",
       "      <td>0</td>\n",
       "      <td>0</td>\n",
       "      <td>Super Slim Fit Originals Stretch Jeans</td>\n",
       "      <td>mufti</td>\n",
       "      <td>₹3,399</td>\n",
       "      <td>casual</td>\n",
       "      <td>men</td>\n",
       "      <td>NaN</td>\n",
       "      <td>NaN</td>\n",
       "      <td>NaN</td>\n",
       "      <td>NaN</td>\n",
       "    </tr>\n",
       "    <tr>\n",
       "      <th>1</th>\n",
       "      <td>1</td>\n",
       "      <td>1</td>\n",
       "      <td>Super Slim Fit Originals Stretch Jeans</td>\n",
       "      <td>mufti</td>\n",
       "      <td>₹3,499</td>\n",
       "      <td>casual</td>\n",
       "      <td>men</td>\n",
       "      <td>NaN</td>\n",
       "      <td>NaN</td>\n",
       "      <td>NaN</td>\n",
       "      <td>NaN</td>\n",
       "    </tr>\n",
       "    <tr>\n",
       "      <th>2</th>\n",
       "      <td>2</td>\n",
       "      <td>2</td>\n",
       "      <td>Straight Fit Originals Stretch Jeans</td>\n",
       "      <td>mufti</td>\n",
       "      <td>₹3,399</td>\n",
       "      <td>casual</td>\n",
       "      <td>men</td>\n",
       "      <td>NaN</td>\n",
       "      <td>NaN</td>\n",
       "      <td>NaN</td>\n",
       "      <td>NaN</td>\n",
       "    </tr>\n",
       "    <tr>\n",
       "      <th>3</th>\n",
       "      <td>3</td>\n",
       "      <td>3</td>\n",
       "      <td>Super Slim Fit Originals Deluxe Stretch Jeans</td>\n",
       "      <td>mufti</td>\n",
       "      <td>₹4,399</td>\n",
       "      <td>casual</td>\n",
       "      <td>men</td>\n",
       "      <td>NaN</td>\n",
       "      <td>NaN</td>\n",
       "      <td>NaN</td>\n",
       "      <td>NaN</td>\n",
       "    </tr>\n",
       "    <tr>\n",
       "      <th>4</th>\n",
       "      <td>4</td>\n",
       "      <td>4</td>\n",
       "      <td>Super Slim Fit Distressed Stretch Jeans</td>\n",
       "      <td>mufti</td>\n",
       "      <td>₹4,299</td>\n",
       "      <td>casual</td>\n",
       "      <td>men</td>\n",
       "      <td>NaN</td>\n",
       "      <td>NaN</td>\n",
       "      <td>NaN</td>\n",
       "      <td>NaN</td>\n",
       "    </tr>\n",
       "  </tbody>\n",
       "</table>\n",
       "</div>"
      ],
      "text/plain": [
       "   Unnamed: 0.1  Unnamed: 0                                    productname  \\\n",
       "0             0           0         Super Slim Fit Originals Stretch Jeans   \n",
       "1             1           1         Super Slim Fit Originals Stretch Jeans   \n",
       "2             2           2           Straight Fit Originals Stretch Jeans   \n",
       "3             3           3  Super Slim Fit Originals Deluxe Stretch Jeans   \n",
       "4             4           4        Super Slim Fit Distressed Stretch Jeans   \n",
       "\n",
       "  brand_names  prices producttype category Occation Weartype  \\\n",
       "0       mufti  ₹3,399      casual      men      NaN      NaN   \n",
       "1       mufti  ₹3,499      casual      men      NaN      NaN   \n",
       "2       mufti  ₹3,399      casual      men      NaN      NaN   \n",
       "3       mufti  ₹4,399      casual      men      NaN      NaN   \n",
       "4       mufti  ₹4,299      casual      men      NaN      NaN   \n",
       "\n",
       "  country_of_origin return_time  \n",
       "0               NaN         NaN  \n",
       "1               NaN         NaN  \n",
       "2               NaN         NaN  \n",
       "3               NaN         NaN  \n",
       "4               NaN         NaN  "
      ]
     },
     "execution_count": 2,
     "metadata": {},
     "output_type": "execute_result"
    }
   ],
   "source": [
    "d1= pd.read_csv('dataframe1.csv')\n",
    "d1.head()"
   ]
  },
  {
   "cell_type": "code",
   "execution_count": 3,
   "id": "e6d07078",
   "metadata": {},
   "outputs": [
    {
     "data": {
      "text/html": [
       "<div>\n",
       "<style scoped>\n",
       "    .dataframe tbody tr th:only-of-type {\n",
       "        vertical-align: middle;\n",
       "    }\n",
       "\n",
       "    .dataframe tbody tr th {\n",
       "        vertical-align: top;\n",
       "    }\n",
       "\n",
       "    .dataframe thead th {\n",
       "        text-align: right;\n",
       "    }\n",
       "</style>\n",
       "<table border=\"1\" class=\"dataframe\">\n",
       "  <thead>\n",
       "    <tr style=\"text-align: right;\">\n",
       "      <th></th>\n",
       "      <th>Unnamed: 0.1</th>\n",
       "      <th>Unnamed: 0</th>\n",
       "      <th>productname</th>\n",
       "      <th>prices</th>\n",
       "      <th>producttype</th>\n",
       "      <th>category</th>\n",
       "      <th>brand_names</th>\n",
       "      <th>country_of_origin</th>\n",
       "      <th>Weartype</th>\n",
       "      <th>return_time</th>\n",
       "      <th>Occation</th>\n",
       "      <th>color</th>\n",
       "      <th>materialtype</th>\n",
       "      <th>Reviews</th>\n",
       "    </tr>\n",
       "  </thead>\n",
       "  <tbody>\n",
       "    <tr>\n",
       "      <th>0</th>\n",
       "      <td>0</td>\n",
       "      <td>0</td>\n",
       "      <td>Rust Cotton Flared Printed Short Kurti</td>\n",
       "      <td>₹900</td>\n",
       "      <td>Kurti</td>\n",
       "      <td>woman</td>\n",
       "      <td>Biba</td>\n",
       "      <td>india</td>\n",
       "      <td>topwear</td>\n",
       "      <td>15 days</td>\n",
       "      <td>Regular</td>\n",
       "      <td>NaN</td>\n",
       "      <td>NaN</td>\n",
       "      <td>NaN</td>\n",
       "    </tr>\n",
       "    <tr>\n",
       "      <th>1</th>\n",
       "      <td>1</td>\n",
       "      <td>1</td>\n",
       "      <td>Black Cotton Blend Printed Kurti</td>\n",
       "      <td>₹1,000</td>\n",
       "      <td>Kurti</td>\n",
       "      <td>woman</td>\n",
       "      <td>Biba</td>\n",
       "      <td>india</td>\n",
       "      <td>topwear</td>\n",
       "      <td>15 days</td>\n",
       "      <td>Regular</td>\n",
       "      <td>NaN</td>\n",
       "      <td>NaN</td>\n",
       "      <td>NaN</td>\n",
       "    </tr>\n",
       "    <tr>\n",
       "      <th>2</th>\n",
       "      <td>2</td>\n",
       "      <td>2</td>\n",
       "      <td>Black Woolen Short Yarndyed Kurti</td>\n",
       "      <td>₹900</td>\n",
       "      <td>Kurti</td>\n",
       "      <td>woman</td>\n",
       "      <td>Biba</td>\n",
       "      <td>india</td>\n",
       "      <td>topwear</td>\n",
       "      <td>15 days</td>\n",
       "      <td>Regular</td>\n",
       "      <td>NaN</td>\n",
       "      <td>NaN</td>\n",
       "      <td>NaN</td>\n",
       "    </tr>\n",
       "    <tr>\n",
       "      <th>3</th>\n",
       "      <td>3</td>\n",
       "      <td>3</td>\n",
       "      <td>Pink Woolen Short Yarndyed Kurti</td>\n",
       "      <td>₹900</td>\n",
       "      <td>Kurti</td>\n",
       "      <td>woman</td>\n",
       "      <td>Biba</td>\n",
       "      <td>india</td>\n",
       "      <td>topwear</td>\n",
       "      <td>15 days</td>\n",
       "      <td>Regular</td>\n",
       "      <td>NaN</td>\n",
       "      <td>NaN</td>\n",
       "      <td>NaN</td>\n",
       "    </tr>\n",
       "    <tr>\n",
       "      <th>4</th>\n",
       "      <td>4</td>\n",
       "      <td>4</td>\n",
       "      <td>Yellow Cotton Blend Printed Kurti</td>\n",
       "      <td>₹500</td>\n",
       "      <td>Kurti</td>\n",
       "      <td>woman</td>\n",
       "      <td>Biba</td>\n",
       "      <td>india</td>\n",
       "      <td>topwear</td>\n",
       "      <td>15 days</td>\n",
       "      <td>Regular</td>\n",
       "      <td>NaN</td>\n",
       "      <td>NaN</td>\n",
       "      <td>NaN</td>\n",
       "    </tr>\n",
       "  </tbody>\n",
       "</table>\n",
       "</div>"
      ],
      "text/plain": [
       "   Unnamed: 0.1  Unnamed: 0                             productname  prices  \\\n",
       "0             0           0  Rust Cotton Flared Printed Short Kurti    ₹900   \n",
       "1             1           1        Black Cotton Blend Printed Kurti  ₹1,000   \n",
       "2             2           2       Black Woolen Short Yarndyed Kurti    ₹900   \n",
       "3             3           3        Pink Woolen Short Yarndyed Kurti    ₹900   \n",
       "4             4           4       Yellow Cotton Blend Printed Kurti    ₹500   \n",
       "\n",
       "  producttype category brand_names country_of_origin Weartype return_time  \\\n",
       "0       Kurti    woman        Biba             india  topwear     15 days   \n",
       "1       Kurti    woman        Biba             india  topwear     15 days   \n",
       "2       Kurti    woman        Biba             india  topwear     15 days   \n",
       "3       Kurti    woman        Biba             india  topwear     15 days   \n",
       "4       Kurti    woman        Biba             india  topwear     15 days   \n",
       "\n",
       "  Occation color materialtype  Reviews  \n",
       "0  Regular   NaN          NaN      NaN  \n",
       "1  Regular   NaN          NaN      NaN  \n",
       "2  Regular   NaN          NaN      NaN  \n",
       "3  Regular   NaN          NaN      NaN  \n",
       "4  Regular   NaN          NaN      NaN  "
      ]
     },
     "execution_count": 3,
     "metadata": {},
     "output_type": "execute_result"
    }
   ],
   "source": [
    "d2 = pd.read_csv(\"dataframe2.csv\")\n",
    "d2.head()"
   ]
  },
  {
   "cell_type": "code",
   "execution_count": 4,
   "id": "cc12d99d",
   "metadata": {},
   "outputs": [
    {
     "data": {
      "text/html": [
       "<div>\n",
       "<style scoped>\n",
       "    .dataframe tbody tr th:only-of-type {\n",
       "        vertical-align: middle;\n",
       "    }\n",
       "\n",
       "    .dataframe tbody tr th {\n",
       "        vertical-align: top;\n",
       "    }\n",
       "\n",
       "    .dataframe thead th {\n",
       "        text-align: right;\n",
       "    }\n",
       "</style>\n",
       "<table border=\"1\" class=\"dataframe\">\n",
       "  <thead>\n",
       "    <tr style=\"text-align: right;\">\n",
       "      <th></th>\n",
       "      <th>Unnamed: 0.1</th>\n",
       "      <th>Unnamed: 0</th>\n",
       "      <th>productname</th>\n",
       "      <th>prices</th>\n",
       "      <th>producttype</th>\n",
       "      <th>category</th>\n",
       "      <th>brand_names</th>\n",
       "      <th>country_of_origin</th>\n",
       "      <th>Weartype</th>\n",
       "      <th>return_time</th>\n",
       "      <th>Occation</th>\n",
       "      <th>materialtype</th>\n",
       "      <th>Reviews</th>\n",
       "    </tr>\n",
       "  </thead>\n",
       "  <tbody>\n",
       "    <tr>\n",
       "      <th>0</th>\n",
       "      <td>0</td>\n",
       "      <td>0</td>\n",
       "      <td>Boys Red Printed Round Neck Full Slee...</td>\n",
       "      <td>Sale price\\nRs. 858</td>\n",
       "      <td>T-Shirt</td>\n",
       "      <td>Kids</td>\n",
       "      <td>Monte Carlo</td>\n",
       "      <td>India</td>\n",
       "      <td>topwear</td>\n",
       "      <td>7 days</td>\n",
       "      <td>Casual</td>\n",
       "      <td>Cotton Blend</td>\n",
       "      <td>172</td>\n",
       "    </tr>\n",
       "    <tr>\n",
       "      <th>1</th>\n",
       "      <td>1</td>\n",
       "      <td>1</td>\n",
       "      <td>Boys Green Printed Round Neck Full Sl...</td>\n",
       "      <td>Sale price\\nRs. 858</td>\n",
       "      <td>T-Shirt</td>\n",
       "      <td>Kids</td>\n",
       "      <td>Monte Carlo</td>\n",
       "      <td>India</td>\n",
       "      <td>topwear</td>\n",
       "      <td>7 days</td>\n",
       "      <td>Casual</td>\n",
       "      <td>Cotton Blend</td>\n",
       "      <td>121</td>\n",
       "    </tr>\n",
       "    <tr>\n",
       "      <th>2</th>\n",
       "      <td>2</td>\n",
       "      <td>2</td>\n",
       "      <td>Boys Off White Printed Round Neck Ful...</td>\n",
       "      <td>Sale price\\nRs. 858</td>\n",
       "      <td>T-Shirt</td>\n",
       "      <td>Kids</td>\n",
       "      <td>Monte Carlo</td>\n",
       "      <td>India</td>\n",
       "      <td>topwear</td>\n",
       "      <td>7 days</td>\n",
       "      <td>Casual</td>\n",
       "      <td>Cotton Blend</td>\n",
       "      <td>149</td>\n",
       "    </tr>\n",
       "    <tr>\n",
       "      <th>3</th>\n",
       "      <td>3</td>\n",
       "      <td>3</td>\n",
       "      <td>Boys White Printed T-Shirt</td>\n",
       "      <td>Sale price\\nRs. 741</td>\n",
       "      <td>T-Shirt</td>\n",
       "      <td>Kids</td>\n",
       "      <td>Monte Carlo</td>\n",
       "      <td>India</td>\n",
       "      <td>topwear</td>\n",
       "      <td>7 days</td>\n",
       "      <td>Casual</td>\n",
       "      <td>Cotton Blend</td>\n",
       "      <td>187</td>\n",
       "    </tr>\n",
       "    <tr>\n",
       "      <th>4</th>\n",
       "      <td>4</td>\n",
       "      <td>4</td>\n",
       "      <td>Boys Green Printed T-Shirt</td>\n",
       "      <td>Sale price\\nRs. 614</td>\n",
       "      <td>T-Shirt</td>\n",
       "      <td>Kids</td>\n",
       "      <td>Monte Carlo</td>\n",
       "      <td>India</td>\n",
       "      <td>topwear</td>\n",
       "      <td>7 days</td>\n",
       "      <td>Casual</td>\n",
       "      <td>Cotton Blend</td>\n",
       "      <td>162</td>\n",
       "    </tr>\n",
       "  </tbody>\n",
       "</table>\n",
       "</div>"
      ],
      "text/plain": [
       "   Unnamed: 0.1  Unnamed: 0                               productname  \\\n",
       "0             0           0  Boys Red Printed Round Neck Full Slee...   \n",
       "1             1           1  Boys Green Printed Round Neck Full Sl...   \n",
       "2             2           2  Boys Off White Printed Round Neck Ful...   \n",
       "3             3           3                Boys White Printed T-Shirt   \n",
       "4             4           4                Boys Green Printed T-Shirt   \n",
       "\n",
       "                prices producttype category  brand_names country_of_origin  \\\n",
       "0  Sale price\\nRs. 858     T-Shirt     Kids  Monte Carlo             India   \n",
       "1  Sale price\\nRs. 858     T-Shirt     Kids  Monte Carlo             India   \n",
       "2  Sale price\\nRs. 858     T-Shirt     Kids  Monte Carlo             India   \n",
       "3  Sale price\\nRs. 741     T-Shirt     Kids  Monte Carlo             India   \n",
       "4  Sale price\\nRs. 614     T-Shirt     Kids  Monte Carlo             India   \n",
       "\n",
       "  Weartype return_time Occation  materialtype Reviews  \n",
       "0  topwear      7 days   Casual  Cotton Blend     172  \n",
       "1  topwear      7 days   Casual  Cotton Blend     121  \n",
       "2  topwear      7 days   Casual  Cotton Blend     149  \n",
       "3  topwear      7 days   Casual  Cotton Blend     187  \n",
       "4  topwear      7 days   Casual  Cotton Blend     162  "
      ]
     },
     "execution_count": 4,
     "metadata": {},
     "output_type": "execute_result"
    }
   ],
   "source": [
    "d3= pd.read_csv('dataframe3.csv')\n",
    "d3.head()"
   ]
  },
  {
   "cell_type": "code",
   "execution_count": 5,
   "id": "37c68da4",
   "metadata": {},
   "outputs": [
    {
     "data": {
      "text/html": [
       "<div>\n",
       "<style scoped>\n",
       "    .dataframe tbody tr th:only-of-type {\n",
       "        vertical-align: middle;\n",
       "    }\n",
       "\n",
       "    .dataframe tbody tr th {\n",
       "        vertical-align: top;\n",
       "    }\n",
       "\n",
       "    .dataframe thead th {\n",
       "        text-align: right;\n",
       "    }\n",
       "</style>\n",
       "<table border=\"1\" class=\"dataframe\">\n",
       "  <thead>\n",
       "    <tr style=\"text-align: right;\">\n",
       "      <th></th>\n",
       "      <th>Unnamed: 0.1</th>\n",
       "      <th>Unnamed: 0</th>\n",
       "      <th>productname</th>\n",
       "      <th>brand_names</th>\n",
       "      <th>prices</th>\n",
       "      <th>producttype</th>\n",
       "      <th>category</th>\n",
       "      <th>Occation</th>\n",
       "      <th>Weartype</th>\n",
       "      <th>country_of_origin</th>\n",
       "      <th>return_time</th>\n",
       "      <th>color</th>\n",
       "      <th>materialtype</th>\n",
       "      <th>Reviews</th>\n",
       "    </tr>\n",
       "  </thead>\n",
       "  <tbody>\n",
       "    <tr>\n",
       "      <th>0</th>\n",
       "      <td>0</td>\n",
       "      <td>0</td>\n",
       "      <td>Super Slim Fit Originals Stretch Jeans</td>\n",
       "      <td>mufti</td>\n",
       "      <td>₹3,399</td>\n",
       "      <td>casual</td>\n",
       "      <td>men</td>\n",
       "      <td>NaN</td>\n",
       "      <td>NaN</td>\n",
       "      <td>NaN</td>\n",
       "      <td>NaN</td>\n",
       "      <td>NaN</td>\n",
       "      <td>NaN</td>\n",
       "      <td>NaN</td>\n",
       "    </tr>\n",
       "    <tr>\n",
       "      <th>1</th>\n",
       "      <td>1</td>\n",
       "      <td>1</td>\n",
       "      <td>Super Slim Fit Originals Stretch Jeans</td>\n",
       "      <td>mufti</td>\n",
       "      <td>₹3,499</td>\n",
       "      <td>casual</td>\n",
       "      <td>men</td>\n",
       "      <td>NaN</td>\n",
       "      <td>NaN</td>\n",
       "      <td>NaN</td>\n",
       "      <td>NaN</td>\n",
       "      <td>NaN</td>\n",
       "      <td>NaN</td>\n",
       "      <td>NaN</td>\n",
       "    </tr>\n",
       "    <tr>\n",
       "      <th>2</th>\n",
       "      <td>2</td>\n",
       "      <td>2</td>\n",
       "      <td>Straight Fit Originals Stretch Jeans</td>\n",
       "      <td>mufti</td>\n",
       "      <td>₹3,399</td>\n",
       "      <td>casual</td>\n",
       "      <td>men</td>\n",
       "      <td>NaN</td>\n",
       "      <td>NaN</td>\n",
       "      <td>NaN</td>\n",
       "      <td>NaN</td>\n",
       "      <td>NaN</td>\n",
       "      <td>NaN</td>\n",
       "      <td>NaN</td>\n",
       "    </tr>\n",
       "    <tr>\n",
       "      <th>3</th>\n",
       "      <td>3</td>\n",
       "      <td>3</td>\n",
       "      <td>Super Slim Fit Originals Deluxe Stretch Jeans</td>\n",
       "      <td>mufti</td>\n",
       "      <td>₹4,399</td>\n",
       "      <td>casual</td>\n",
       "      <td>men</td>\n",
       "      <td>NaN</td>\n",
       "      <td>NaN</td>\n",
       "      <td>NaN</td>\n",
       "      <td>NaN</td>\n",
       "      <td>NaN</td>\n",
       "      <td>NaN</td>\n",
       "      <td>NaN</td>\n",
       "    </tr>\n",
       "    <tr>\n",
       "      <th>4</th>\n",
       "      <td>4</td>\n",
       "      <td>4</td>\n",
       "      <td>Super Slim Fit Distressed Stretch Jeans</td>\n",
       "      <td>mufti</td>\n",
       "      <td>₹4,299</td>\n",
       "      <td>casual</td>\n",
       "      <td>men</td>\n",
       "      <td>NaN</td>\n",
       "      <td>NaN</td>\n",
       "      <td>NaN</td>\n",
       "      <td>NaN</td>\n",
       "      <td>NaN</td>\n",
       "      <td>NaN</td>\n",
       "      <td>NaN</td>\n",
       "    </tr>\n",
       "    <tr>\n",
       "      <th>...</th>\n",
       "      <td>...</td>\n",
       "      <td>...</td>\n",
       "      <td>...</td>\n",
       "      <td>...</td>\n",
       "      <td>...</td>\n",
       "      <td>...</td>\n",
       "      <td>...</td>\n",
       "      <td>...</td>\n",
       "      <td>...</td>\n",
       "      <td>...</td>\n",
       "      <td>...</td>\n",
       "      <td>...</td>\n",
       "      <td>...</td>\n",
       "      <td>...</td>\n",
       "    </tr>\n",
       "    <tr>\n",
       "      <th>882</th>\n",
       "      <td>298</td>\n",
       "      <td>298</td>\n",
       "      <td>Warm fleece joggers</td>\n",
       "      <td>polo</td>\n",
       "      <td>Rs.1,999.00</td>\n",
       "      <td>sportswear</td>\n",
       "      <td>kids</td>\n",
       "      <td>Celebration</td>\n",
       "      <td>topwear</td>\n",
       "      <td>India</td>\n",
       "      <td>30 days</td>\n",
       "      <td>NaN</td>\n",
       "      <td>Cotton Blend</td>\n",
       "      <td>187</td>\n",
       "    </tr>\n",
       "    <tr>\n",
       "      <th>883</th>\n",
       "      <td>299</td>\n",
       "      <td>299</td>\n",
       "      <td>DryMove™ Running vest</td>\n",
       "      <td>polo</td>\n",
       "      <td>Rs.2,299.00</td>\n",
       "      <td>sportswear</td>\n",
       "      <td>kids</td>\n",
       "      <td>Celebration</td>\n",
       "      <td>topwear</td>\n",
       "      <td>India</td>\n",
       "      <td>30 days</td>\n",
       "      <td>NaN</td>\n",
       "      <td>Cotton Blend</td>\n",
       "      <td>89</td>\n",
       "    </tr>\n",
       "    <tr>\n",
       "      <th>884</th>\n",
       "      <td>300</td>\n",
       "      <td>300</td>\n",
       "      <td>Track jacket in DryMove™</td>\n",
       "      <td>polo</td>\n",
       "      <td>Rs.2,699.00</td>\n",
       "      <td>sportswear</td>\n",
       "      <td>kids</td>\n",
       "      <td>Celebration</td>\n",
       "      <td>topwear</td>\n",
       "      <td>India</td>\n",
       "      <td>30 days</td>\n",
       "      <td>NaN</td>\n",
       "      <td>Cotton Blend</td>\n",
       "      <td>128</td>\n",
       "    </tr>\n",
       "    <tr>\n",
       "      <th>885</th>\n",
       "      <td>301</td>\n",
       "      <td>301</td>\n",
       "      <td>DryMove™ Basketball shorts</td>\n",
       "      <td>polo</td>\n",
       "      <td>Rs.1,499.00</td>\n",
       "      <td>sportswear</td>\n",
       "      <td>kids</td>\n",
       "      <td>Celebration</td>\n",
       "      <td>topwear</td>\n",
       "      <td>India</td>\n",
       "      <td>30 days</td>\n",
       "      <td>NaN</td>\n",
       "      <td>Cotton Blend</td>\n",
       "      <td>33</td>\n",
       "    </tr>\n",
       "    <tr>\n",
       "      <th>886</th>\n",
       "      <td>302</td>\n",
       "      <td>302</td>\n",
       "      <td>DryMove™ Sports shorts</td>\n",
       "      <td>polo</td>\n",
       "      <td>Rs.1,499.00</td>\n",
       "      <td>sportswear</td>\n",
       "      <td>kids</td>\n",
       "      <td>Celebration</td>\n",
       "      <td>topwear</td>\n",
       "      <td>India</td>\n",
       "      <td>30 days</td>\n",
       "      <td>NaN</td>\n",
       "      <td>Cotton Blend</td>\n",
       "      <td>116</td>\n",
       "    </tr>\n",
       "  </tbody>\n",
       "</table>\n",
       "<p>3521 rows × 14 columns</p>\n",
       "</div>"
      ],
      "text/plain": [
       "     Unnamed: 0.1  Unnamed: 0                                    productname  \\\n",
       "0               0           0         Super Slim Fit Originals Stretch Jeans   \n",
       "1               1           1         Super Slim Fit Originals Stretch Jeans   \n",
       "2               2           2           Straight Fit Originals Stretch Jeans   \n",
       "3               3           3  Super Slim Fit Originals Deluxe Stretch Jeans   \n",
       "4               4           4        Super Slim Fit Distressed Stretch Jeans   \n",
       "..            ...         ...                                            ...   \n",
       "882           298         298                            Warm fleece joggers   \n",
       "883           299         299                          DryMove™ Running vest   \n",
       "884           300         300                       Track jacket in DryMove™   \n",
       "885           301         301                     DryMove™ Basketball shorts   \n",
       "886           302         302                         DryMove™ Sports shorts   \n",
       "\n",
       "    brand_names       prices producttype category     Occation Weartype  \\\n",
       "0         mufti       ₹3,399      casual      men          NaN      NaN   \n",
       "1         mufti       ₹3,499      casual      men          NaN      NaN   \n",
       "2         mufti       ₹3,399      casual      men          NaN      NaN   \n",
       "3         mufti       ₹4,399      casual      men          NaN      NaN   \n",
       "4         mufti       ₹4,299      casual      men          NaN      NaN   \n",
       "..          ...          ...         ...      ...          ...      ...   \n",
       "882        polo  Rs.1,999.00  sportswear     kids  Celebration  topwear   \n",
       "883        polo  Rs.2,299.00  sportswear     kids  Celebration  topwear   \n",
       "884        polo  Rs.2,699.00  sportswear     kids  Celebration  topwear   \n",
       "885        polo  Rs.1,499.00  sportswear     kids  Celebration  topwear   \n",
       "886        polo  Rs.1,499.00  sportswear     kids  Celebration  topwear   \n",
       "\n",
       "    country_of_origin return_time color  materialtype Reviews  \n",
       "0                 NaN         NaN   NaN           NaN     NaN  \n",
       "1                 NaN         NaN   NaN           NaN     NaN  \n",
       "2                 NaN         NaN   NaN           NaN     NaN  \n",
       "3                 NaN         NaN   NaN           NaN     NaN  \n",
       "4                 NaN         NaN   NaN           NaN     NaN  \n",
       "..                ...         ...   ...           ...     ...  \n",
       "882             India     30 days   NaN  Cotton Blend     187  \n",
       "883             India     30 days   NaN  Cotton Blend      89  \n",
       "884             India     30 days   NaN  Cotton Blend     128  \n",
       "885             India     30 days   NaN  Cotton Blend      33  \n",
       "886             India     30 days   NaN  Cotton Blend     116  \n",
       "\n",
       "[3521 rows x 14 columns]"
      ]
     },
     "execution_count": 5,
     "metadata": {},
     "output_type": "execute_result"
    }
   ],
   "source": [
    "# lets make final dataframe of 3 csv file to one dataframe by using concat function\n",
    "\n",
    "df = pd.concat([d1, d2, d3], axis=0)\n",
    "df"
   ]
  },
  {
   "cell_type": "markdown",
   "id": "d96ba241",
   "metadata": {},
   "source": [
    "in this data the rows and columns which is combination of countinuous and one object one is target variable and other are\n",
    "independent variable we have 3521 rows and 14 columns present indataset"
   ]
  },
  {
   "cell_type": "code",
   "execution_count": 6,
   "id": "d37ae83a",
   "metadata": {},
   "outputs": [
    {
     "name": "stdout",
     "output_type": "stream",
     "text": [
      "size of dataset : (3521, 14)\n",
      "rows : 3521 columns : 14\n"
     ]
    }
   ],
   "source": [
    "print('size of dataset :',df.shape)\n",
    "print('rows : {} columns : {}'.format(df.shape[0],df.shape[1]))"
   ]
  },
  {
   "cell_type": "code",
   "execution_count": 7,
   "id": "12061410",
   "metadata": {},
   "outputs": [
    {
     "name": "stdout",
     "output_type": "stream",
     "text": [
      "no of columns 12\n"
     ]
    }
   ],
   "source": [
    "# we see that two unnecessary columns present which is identifier so we remove this columns\n",
    "\n",
    "df.drop(['Unnamed: 0.1','Unnamed: 0'], axis=1, inplace = True)\n",
    "print('no of columns',df.shape[1])"
   ]
  },
  {
   "cell_type": "code",
   "execution_count": 8,
   "id": "946fd3ff",
   "metadata": {},
   "outputs": [
    {
     "data": {
      "text/plain": [
       "productname          object\n",
       "brand_names          object\n",
       "prices               object\n",
       "producttype          object\n",
       "category             object\n",
       "Occation             object\n",
       "Weartype             object\n",
       "country_of_origin    object\n",
       "return_time          object\n",
       "color                object\n",
       "materialtype         object\n",
       "Reviews              object\n",
       "dtype: object"
      ]
     },
     "execution_count": 8,
     "metadata": {},
     "output_type": "execute_result"
    }
   ],
   "source": [
    "df.dtypes"
   ]
  },
  {
   "cell_type": "code",
   "execution_count": 99,
   "id": "4f51107d",
   "metadata": {},
   "outputs": [
    {
     "name": "stdout",
     "output_type": "stream",
     "text": [
      "ROUND NECK T-SHIRTS                         116\n",
      "Boys NAvy Blue Printed T-Shirt               49\n",
      "Boys Green Printed T-Shirt                   43\n",
      "Men Blue Stripe Polo Collar Half Slee...     42\n",
      "Men Navy Dark Wash Slim Tapered Jeans        36\n",
      "                                           ... \n",
      "Black Cotton Straight Palazzo                 1\n",
      "Navy Rayon Palazzo Pants                      1\n",
      "Fuchsia LIVA Palazzo                          1\n",
      "Black LIVA Palazzo                            1\n",
      "DryMove™ Running vest                         1\n",
      "Name: productname, Length: 1374, dtype: int64\n",
      "\n",
      "\n",
      "1374\n",
      "Biba             700\n",
      "Monte Carlo      584\n",
      "peter england    565\n",
      "mufti            359\n",
      "monte carlo      336\n",
      "allensolly       320\n",
      "polo             303\n",
      "HM               242\n",
      "Allen Solly      112\n",
      "Name: brand_names, dtype: int64\n",
      "\n",
      "\n",
      "9\n",
      "11.444598    142\n",
      "13.198148    139\n",
      "12.597110    132\n",
      "9.279308     116\n",
      "8.429638     115\n",
      "            ... \n",
      "12.328868      1\n",
      "13.853923      1\n",
      "13.159764      1\n",
      "10.653086      1\n",
      "9.157714       1\n",
      "Name: prices, Length: 223, dtype: int64\n",
      "\n",
      "\n",
      "223\n",
      "casual                        679\n",
      "T-Shirt                       480\n",
      "Half Sleeve T-Shirt           336\n",
      "sportswear                    303\n",
      "Top                           264\n",
      "Lowers                        248\n",
      "Dress                         214\n",
      "SLIM FIT JEANS                160\n",
      "ROUND NECK T-SHIRTS           116\n",
      "Jeans                         112\n",
      "Kurti                         109\n",
      "DENIM                          98\n",
      "FORMAL SHIRTS                  96\n",
      "TRACK PANTS                    70\n",
      "GRAPHIC T-SHIRTS               70\n",
      "Palazzo                        69\n",
      "REGULAR STRAIGHT FIT JEANS     51\n",
      "palazzo                        31\n",
      "Shirt                          10\n",
      "LOUNGEWEAR                      2\n",
      "Yarndyed                        1\n",
      "Tunic                           1\n",
      "Palazzos                        1\n",
      "Name: producttype, dtype: int64\n",
      "\n",
      "\n",
      "23\n",
      "men      1822\n",
      "Kids      930\n",
      "kids      415\n",
      "woman     354\n",
      "Name: category, dtype: int64\n",
      "\n",
      "\n",
      "4\n",
      "casual         1580\n",
      "Casual          696\n",
      "Celebration     649\n",
      "Regular         596\n",
      "Name: Occation, dtype: int64\n",
      "\n",
      "\n",
      "4\n",
      "topwear       2678\n",
      "bottomwear     843\n",
      "Name: Weartype, dtype: int64\n",
      "\n",
      "\n",
      "2\n",
      "India    2243\n",
      "india     932\n",
      "Biba      346\n",
      "Name: country_of_origin, dtype: int64\n",
      "\n",
      "\n",
      "3\n",
      "7 days     2276\n",
      "15 days     942\n",
      "30 days     303\n",
      "Name: return_time, dtype: int64\n",
      "\n",
      "\n",
      "3\n",
      "pink                     2933\n",
      "White                      57\n",
      "Blue                       50\n",
      "Pink                       47\n",
      "Black                      44\n",
      "                         ... \n",
      "Black/Speedchaser           1\n",
      "Dark greige/Grey marl       1\n",
      "Cream/Connections           1\n",
      "Khaki green/Hardcore        1\n",
      "Lilac                       1\n",
      "Name: color, Length: 138, dtype: int64\n",
      "\n",
      "\n",
      "138\n",
      "Cotton Blend    2956\n",
      "100%Cotton       242\n",
      "Cotton           131\n",
      "Straight          86\n",
      "Flared            29\n",
      "With Dupatta      25\n",
      "A-Line            21\n",
      "Tiered            14\n",
      "Gathered           6\n",
      "Rayon              4\n",
      "Polyester          3\n",
      "Churidar           2\n",
      "Front open         1\n",
      "Cambric            1\n",
      "Name: materialtype, dtype: int64\n",
      "\n",
      "\n",
      "14\n",
      "4.641589    2662\n",
      "5.572055      15\n",
      "3.174802      12\n",
      "3.391211      12\n",
      "1.000000      11\n",
      "            ... \n",
      "5.360108       1\n",
      "5.818648       1\n",
      "5.091643       1\n",
      "4.717694       1\n",
      "2.289428       1\n",
      "Name: Reviews, Length: 197, dtype: int64\n",
      "\n",
      "\n",
      "197\n"
     ]
    }
   ],
   "source": [
    "for i in df.columns:\n",
    "    print(df[i].value_counts())\n",
    "    print('\\n')\n",
    "    print(df[i].nunique())"
   ]
  },
  {
   "cell_type": "code",
   "execution_count": 13,
   "id": "aa451462",
   "metadata": {},
   "outputs": [
    {
     "name": "stdout",
     "output_type": "stream",
     "text": [
      "<class 'pandas.core.frame.DataFrame'>\n",
      "Int64Index: 3521 entries, 0 to 886\n",
      "Data columns (total 12 columns):\n",
      " #   Column             Non-Null Count  Dtype \n",
      "---  ------             --------------  ----- \n",
      " 0   productname        3521 non-null   object\n",
      " 1   brand_names        3521 non-null   object\n",
      " 2   prices             3521 non-null   object\n",
      " 3   producttype        3521 non-null   object\n",
      " 4   category           3521 non-null   object\n",
      " 5   Occation           2842 non-null   object\n",
      " 6   Weartype           2842 non-null   object\n",
      " 7   country_of_origin  2277 non-null   object\n",
      " 8   return_time        2277 non-null   object\n",
      " 9   color              700 non-null    object\n",
      " 10  materialtype       1452 non-null   object\n",
      " 11  Reviews            1319 non-null   object\n",
      "dtypes: object(12)\n",
      "memory usage: 357.6+ KB\n"
     ]
    }
   ],
   "source": [
    "df.info()"
   ]
  },
  {
   "cell_type": "code",
   "execution_count": 49,
   "id": "7050242a",
   "metadata": {},
   "outputs": [
    {
     "data": {
      "text/plain": [
       "productname             0\n",
       "brand_names             0\n",
       "prices                  0\n",
       "producttype             0\n",
       "category                0\n",
       "Occation              679\n",
       "Weartype              679\n",
       "country_of_origin    1244\n",
       "return_time          1244\n",
       "color                2821\n",
       "materialtype         2069\n",
       "Reviews              2660\n",
       "dtype: int64"
      ]
     },
     "execution_count": 49,
     "metadata": {},
     "output_type": "execute_result"
    }
   ],
   "source": [
    "# checking the null values present or not\n",
    "df.isna().sum()"
   ]
  },
  {
   "cell_type": "code",
   "execution_count": 18,
   "id": "e3ce1674",
   "metadata": {},
   "outputs": [],
   "source": [
    "df['prices']=df['prices'].str.replace(\"'\",'')"
   ]
  },
  {
   "cell_type": "code",
   "execution_count": 30,
   "id": "8c06ffd7",
   "metadata": {},
   "outputs": [],
   "source": [
    "df['prices'] = df['prices'].str.replace(',', '')"
   ]
  },
  {
   "cell_type": "code",
   "execution_count": 36,
   "id": "0b09b323",
   "metadata": {},
   "outputs": [],
   "source": [
    "df['prices'] = df['prices'].astype(int)"
   ]
  },
  {
   "cell_type": "code",
   "execution_count": 58,
   "id": "ffbc631f",
   "metadata": {},
   "outputs": [
    {
     "data": {
      "text/plain": [
       "array([ nan, 172., 121., 149., 187., 162., 102.,  40.,  82.,  48.,  43.,\n",
       "       185., 168.,  31.,  13., 192.,  67.,  74.,  66., 118., 111.,  96.,\n",
       "       181., 150.,  90.,  91., 126.,  53., 112.,  22.,  98., 124., 193.,\n",
       "        95.,  79.,  44.,  62.,  51., 171., 177., 169., 186.,  32., 109.,\n",
       "        46., 170., 180., 100., 195., 161., 174.,  18., 110.,  50.,  15.,\n",
       "        64., 190.,  39., 198.,  60.,  28., 188., 143.,  70., 114., 119.,\n",
       "       138., 189., 157., 108.,  99., 129.,  14., 122., 133.,  38., 125.,\n",
       "       151.,  26., 141., 148., 167., 176., 103.,  92., 116., 199., 144.,\n",
       "       158., 104., 194.,  37., 152., 153.,  81.,  71., 120.,  65., 183.,\n",
       "        11.,  29., 127., 147., 200., 140.,  78., 117.,  27., 137., 155.,\n",
       "        80., 159., 173., 130.,  58., 123.,  47., 131.,  41.,  56., 165.,\n",
       "        85.,  30.,  84., 101.,  16.,  97., 145., 184.,  86.,  76., 175.,\n",
       "        36.,  42.,  94., 139.,  77.,  72., 134.,  83.,  12., 182.,  59.,\n",
       "        19., 160., 156.,  87.,  23.,  63.,  45., 196.,  88.,  25.,  75.,\n",
       "        55.,  24.,  68.,  34., 132., 191., 106., 135., 115., 146.,  93.,\n",
       "       164., 163.,  61., 107.,  73.,  49.,  57.,  20.,  10., 179.,  89.,\n",
       "        33., 178., 128., 142., 105.,  35., 197., 154.,  69.,   2.,   8.,\n",
       "         4., 229.,   6.,   1.,   3., 334., 394.,   5., 524.,   9.,  52.])"
      ]
     },
     "execution_count": 58,
     "metadata": {},
     "output_type": "execute_result"
    }
   ],
   "source": [
    "df['Reviews'].unique()"
   ]
  },
  {
   "cell_type": "code",
   "execution_count": 54,
   "id": "d9da9450",
   "metadata": {},
   "outputs": [],
   "source": [
    "df['Reviews']=df['Reviews'].str.replace(\"nan\",'78')"
   ]
  },
  {
   "cell_type": "code",
   "execution_count": 48,
   "id": "6683ffe6",
   "metadata": {},
   "outputs": [],
   "source": [
    "# there are lot of null vlaues which filled throgh fillna method"
   ]
  },
  {
   "cell_type": "code",
   "execution_count": 59,
   "id": "8918d43c",
   "metadata": {},
   "outputs": [],
   "source": [
    "df['Occation']=df['Occation'].fillna(df['Occation'].mode()[0])\n",
    "df['Weartype']=df['Weartype'].fillna(df['Weartype'].mode()[0])\n",
    "df['country_of_origin']=df['country_of_origin'].fillna(df['country_of_origin'].mode()[0])\n",
    "df['return_time']= df['return_time'].fillna(df['return_time'].mode()[0])\n",
    "df['color'] = df['color'].fillna(df['color'].mode()[0])\n",
    "df['materialtype']=df['materialtype'].fillna(df['materialtype'].mode()[0])\n",
    "df['Reviews']=df['Reviews'].fillna(df['Reviews'].mean())"
   ]
  },
  {
   "cell_type": "code",
   "execution_count": 61,
   "id": "f7a4cf7c",
   "metadata": {},
   "outputs": [],
   "source": [
    "# we see that review columns is object type so that its convert to intizer\n",
    "df['Reviews']=df['Reviews'].astype(int)"
   ]
  },
  {
   "cell_type": "code",
   "execution_count": 62,
   "id": "5966d025",
   "metadata": {},
   "outputs": [
    {
     "data": {
      "text/plain": [
       "productname          0\n",
       "brand_names          0\n",
       "prices               0\n",
       "producttype          0\n",
       "category             0\n",
       "Occation             0\n",
       "Weartype             0\n",
       "country_of_origin    0\n",
       "return_time          0\n",
       "color                0\n",
       "materialtype         0\n",
       "Reviews              0\n",
       "dtype: int64"
      ]
     },
     "execution_count": 62,
     "metadata": {},
     "output_type": "execute_result"
    }
   ],
   "source": [
    "# again checking nulls\n",
    "df.isnull().sum()"
   ]
  },
  {
   "cell_type": "code",
   "execution_count": 63,
   "id": "746f5060",
   "metadata": {},
   "outputs": [
    {
     "data": {
      "text/html": [
       "<div>\n",
       "<style scoped>\n",
       "    .dataframe tbody tr th:only-of-type {\n",
       "        vertical-align: middle;\n",
       "    }\n",
       "\n",
       "    .dataframe tbody tr th {\n",
       "        vertical-align: top;\n",
       "    }\n",
       "\n",
       "    .dataframe thead th {\n",
       "        text-align: right;\n",
       "    }\n",
       "</style>\n",
       "<table border=\"1\" class=\"dataframe\">\n",
       "  <thead>\n",
       "    <tr style=\"text-align: right;\">\n",
       "      <th></th>\n",
       "      <th>productname</th>\n",
       "      <th>brand_names</th>\n",
       "      <th>producttype</th>\n",
       "      <th>category</th>\n",
       "      <th>Occation</th>\n",
       "      <th>Weartype</th>\n",
       "      <th>country_of_origin</th>\n",
       "      <th>return_time</th>\n",
       "      <th>color</th>\n",
       "      <th>materialtype</th>\n",
       "    </tr>\n",
       "  </thead>\n",
       "  <tbody>\n",
       "    <tr>\n",
       "      <th>count</th>\n",
       "      <td>3521</td>\n",
       "      <td>3521</td>\n",
       "      <td>3521</td>\n",
       "      <td>3521</td>\n",
       "      <td>3521</td>\n",
       "      <td>3521</td>\n",
       "      <td>3521</td>\n",
       "      <td>3521</td>\n",
       "      <td>3521</td>\n",
       "      <td>3521</td>\n",
       "    </tr>\n",
       "    <tr>\n",
       "      <th>unique</th>\n",
       "      <td>1374</td>\n",
       "      <td>9</td>\n",
       "      <td>23</td>\n",
       "      <td>4</td>\n",
       "      <td>4</td>\n",
       "      <td>2</td>\n",
       "      <td>3</td>\n",
       "      <td>3</td>\n",
       "      <td>138</td>\n",
       "      <td>14</td>\n",
       "    </tr>\n",
       "    <tr>\n",
       "      <th>top</th>\n",
       "      <td>ROUND NECK T-SHIRTS</td>\n",
       "      <td>Biba</td>\n",
       "      <td>casual</td>\n",
       "      <td>men</td>\n",
       "      <td>casual</td>\n",
       "      <td>topwear</td>\n",
       "      <td>India</td>\n",
       "      <td>7 days</td>\n",
       "      <td>pink</td>\n",
       "      <td>Cotton Blend</td>\n",
       "    </tr>\n",
       "    <tr>\n",
       "      <th>freq</th>\n",
       "      <td>116</td>\n",
       "      <td>700</td>\n",
       "      <td>679</td>\n",
       "      <td>1822</td>\n",
       "      <td>1580</td>\n",
       "      <td>2678</td>\n",
       "      <td>2243</td>\n",
       "      <td>2276</td>\n",
       "      <td>2933</td>\n",
       "      <td>2956</td>\n",
       "    </tr>\n",
       "  </tbody>\n",
       "</table>\n",
       "</div>"
      ],
      "text/plain": [
       "                productname brand_names producttype category Occation  \\\n",
       "count                  3521        3521        3521     3521     3521   \n",
       "unique                 1374           9          23        4        4   \n",
       "top     ROUND NECK T-SHIRTS        Biba      casual      men   casual   \n",
       "freq                    116         700         679     1822     1580   \n",
       "\n",
       "       Weartype country_of_origin return_time color  materialtype  \n",
       "count      3521              3521        3521  3521          3521  \n",
       "unique        2                 3           3   138            14  \n",
       "top     topwear             India      7 days  pink  Cotton Blend  \n",
       "freq       2678              2243        2276  2933          2956  "
      ]
     },
     "execution_count": 63,
     "metadata": {},
     "output_type": "execute_result"
    }
   ],
   "source": [
    "# checking object statistics of data\n",
    "df.describe(include=object)"
   ]
  },
  {
   "cell_type": "code",
   "execution_count": 64,
   "id": "d1af0f70",
   "metadata": {},
   "outputs": [],
   "source": [
    "# lets visualizing data"
   ]
  },
  {
   "cell_type": "code",
   "execution_count": 68,
   "id": "47a9cd4f",
   "metadata": {},
   "outputs": [
    {
     "data": {
      "image/png": "[encoded data removed]",
      "text/plain": [
       "<Figure size 1300x500 with 1 Axes>"
      ]
     },
     "metadata": {},
     "output_type": "display_data"
    }
   ],
   "source": [
    "plt.figure(figsize=(13,5))\n",
    "sns.countplot(x='producttype',data=df)\n",
    "plt.title('producttypes')\n",
    "plt.show()"
   ]
  },
  {
   "cell_type": "code",
   "execution_count": 69,
   "id": "05d8d143",
   "metadata": {},
   "outputs": [
    {
     "name": "stdout",
     "output_type": "stream",
     "text": [
      "men      1822\n",
      "Kids      930\n",
      "kids      415\n",
      "woman     354\n",
      "Name: category, dtype: int64\n"
     ]
    },
    {
     "data": {
      "image/png": "[encoded data removed]",
      "text/plain": [
       "<Figure size 640x480 with 1 Axes>"
      ]
     },
     "metadata": {},
     "output_type": "display_data"
    }
   ],
   "source": [
    "print(df['category'].value_counts())\n",
    "sns.countplot(x='category',data=df)\n",
    "plt.show()"
   ]
  },
  {
   "cell_type": "code",
   "execution_count": 72,
   "id": "7d5954fb",
   "metadata": {},
   "outputs": [
    {
     "data": {
      "image/png": "[encoded data removed]",
      "text/plain": [
       "<Figure size 500x500 with 1 Axes>"
      ]
     },
     "metadata": {},
     "output_type": "display_data"
    }
   ],
   "source": [
    "sns.catplot(x='category',y='Reviews',data=df)\n",
    "plt.show()"
   ]
  },
  {
   "cell_type": "code",
   "execution_count": 73,
   "id": "ffd3a08e",
   "metadata": {},
   "outputs": [],
   "source": [
    "# we see that more reviews give to kids categories and man and woman have same reviews gain "
   ]
  },
  {
   "cell_type": "code",
   "execution_count": 76,
   "id": "2e9a7446",
   "metadata": {},
   "outputs": [
    {
     "name": "stdout",
     "output_type": "stream",
     "text": [
      "Index(['Biba', 'Monte Carlo', 'peter england', 'mufti'], dtype='object')\n"
     ]
    },
    {
     "data": {
      "image/png": "[encoded data removed]",
      "text/plain": [
       "<Figure size 800x400 with 1 Axes>"
      ]
     },
     "metadata": {},
     "output_type": "display_data"
    }
   ],
   "source": [
    "print(df['brand_names'].value_counts().index[:4])\n",
    "plt.figure(figsize=(8,4))\n",
    "sns.countplot(x='brand_names',data=df)\n",
    "plt.show()"
   ]
  },
  {
   "cell_type": "markdown",
   "id": "0fa689d6",
   "metadata": {},
   "source": [
    "we see that biba brand top most and monte carlo is second most prefeerred brand to among customers and also check all brands \n",
    "are  buying peoples"
   ]
  },
  {
   "cell_type": "code",
   "execution_count": 86,
   "id": "d0ea2a60",
   "metadata": {},
   "outputs": [
    {
     "name": "stdout",
     "output_type": "stream",
     "text": [
      "Index(['Cotton Blend', '100%Cotton', 'Cotton'], dtype='object')\n"
     ]
    },
    {
     "data": {
      "image/png": "[encoded data removed]",
      "text/plain": [
       "<Figure size 640x480 with 1 Axes>"
      ]
     },
     "metadata": {},
     "output_type": "display_data"
    }
   ],
   "source": [
    "print(df['materialtype'].value_counts().index[:3])\n",
    "mat=df['materialtype'].value_counts().index[ :5]\n",
    "mat_count=df['materialtype'].value_counts().values[:5]\n",
    "\n",
    "plt.pie(mat_count,labels=mat,explode=[0,0,0.05,0.05,0.5])\n",
    "plt.title('top five materials')\n",
    "plt.show()"
   ]
  },
  {
   "cell_type": "markdown",
   "id": "f8b73121",
   "metadata": {},
   "source": [
    "we see that cotton blend material is widley usedby the customers and second cotton used by the customers so that we can \n",
    "observe that this columns is used for ml model"
   ]
  },
  {
   "cell_type": "code",
   "execution_count": 91,
   "id": "b91a28a1",
   "metadata": {},
   "outputs": [
    {
     "name": "stdout",
     "output_type": "stream",
     "text": [
      "Index(['casual', 'T-Shirt', 'Half Sleeve T-Shirt'], dtype='object')\n"
     ]
    },
    {
     "data": {
      "image/png": "[encoded data removed]",
      "text/plain": [
       "<Figure size 640x480 with 1 Axes>"
      ]
     },
     "metadata": {},
     "output_type": "display_data"
    }
   ],
   "source": [
    "print(df['producttype'].value_counts().index[:3])\n",
    "mat1=df['producttype'].value_counts().index[ :8]\n",
    "mat_count1=df['producttype'].value_counts().values[:8]\n",
    "\n",
    "plt.pie(mat_count1,labels=mat1,explode=[0,0,0,0,0,0.05,0.05,0.5])\n",
    "plt.title('top products')\n",
    "plt.show()"
   ]
  },
  {
   "cell_type": "markdown",
   "id": "56d2a9b2",
   "metadata": {},
   "source": [
    "in this observe various type of product used by customers in this more no of people used the more product"
   ]
  },
  {
   "cell_type": "code",
   "execution_count": 92,
   "id": "740af8ee",
   "metadata": {},
   "outputs": [
    {
     "data": {
      "text/html": [
       "<div>\n",
       "<style scoped>\n",
       "    .dataframe tbody tr th:only-of-type {\n",
       "        vertical-align: middle;\n",
       "    }\n",
       "\n",
       "    .dataframe tbody tr th {\n",
       "        vertical-align: top;\n",
       "    }\n",
       "\n",
       "    .dataframe thead th {\n",
       "        text-align: right;\n",
       "    }\n",
       "</style>\n",
       "<table border=\"1\" class=\"dataframe\">\n",
       "  <thead>\n",
       "    <tr style=\"text-align: right;\">\n",
       "      <th></th>\n",
       "      <th>prices</th>\n",
       "      <th>Reviews</th>\n",
       "    </tr>\n",
       "  </thead>\n",
       "  <tbody>\n",
       "    <tr>\n",
       "      <th>count</th>\n",
       "      <td>3521.000000</td>\n",
       "      <td>3521.000000</td>\n",
       "    </tr>\n",
       "    <tr>\n",
       "      <th>mean</th>\n",
       "      <td>1476.930702</td>\n",
       "      <td>100.123828</td>\n",
       "    </tr>\n",
       "    <tr>\n",
       "      <th>std</th>\n",
       "      <td>896.810637</td>\n",
       "      <td>32.824118</td>\n",
       "    </tr>\n",
       "    <tr>\n",
       "      <th>min</th>\n",
       "      <td>250.000000</td>\n",
       "      <td>1.000000</td>\n",
       "    </tr>\n",
       "    <tr>\n",
       "      <th>25%</th>\n",
       "      <td>779.000000</td>\n",
       "      <td>100.000000</td>\n",
       "    </tr>\n",
       "    <tr>\n",
       "      <th>50%</th>\n",
       "      <td>1299.000000</td>\n",
       "      <td>100.000000</td>\n",
       "    </tr>\n",
       "    <tr>\n",
       "      <th>75%</th>\n",
       "      <td>1999.000000</td>\n",
       "      <td>100.000000</td>\n",
       "    </tr>\n",
       "    <tr>\n",
       "      <th>max</th>\n",
       "      <td>4999.000000</td>\n",
       "      <td>524.000000</td>\n",
       "    </tr>\n",
       "  </tbody>\n",
       "</table>\n",
       "</div>"
      ],
      "text/plain": [
       "            prices      Reviews\n",
       "count  3521.000000  3521.000000\n",
       "mean   1476.930702   100.123828\n",
       "std     896.810637    32.824118\n",
       "min     250.000000     1.000000\n",
       "25%     779.000000   100.000000\n",
       "50%    1299.000000   100.000000\n",
       "75%    1999.000000   100.000000\n",
       "max    4999.000000   524.000000"
      ]
     },
     "execution_count": 92,
     "metadata": {},
     "output_type": "execute_result"
    }
   ],
   "source": [
    "df.describe()"
   ]
  },
  {
   "cell_type": "code",
   "execution_count": 93,
   "id": "c360b9e9",
   "metadata": {},
   "outputs": [
    {
     "name": "stdout",
     "output_type": "stream",
     "text": [
      "categorical columns: ['productname', 'brand_names', 'producttype', 'category', 'Occation', 'Weartype', 'country_of_origin', 'return_time', 'color', 'materialtype']\n",
      "\n",
      "\n",
      "numerical columns: ['prices', 'Reviews']\n"
     ]
    }
   ],
   "source": [
    "# seperate the object columns and numerical columns\n",
    "categorical_col=[]\n",
    "for i in df.dtypes.index:\n",
    "    if df.dtypes[i]== \"object\":\n",
    "        categorical_col.append(i)\n",
    "print('categorical columns:',categorical_col)\n",
    "print('\\n')\n",
    "\n",
    "\n",
    "#checking numerical columns\n",
    "numerical_col=[]\n",
    "for i in df.dtypes.index:\n",
    "    if df.dtypes[i]!='object':\n",
    "        numerical_col.append(i)\n",
    "print('numerical columns:',numerical_col)"
   ]
  },
  {
   "cell_type": "code",
   "execution_count": 94,
   "id": "57f202cf",
   "metadata": {},
   "outputs": [
    {
     "data": {
      "image/png": "[encoded data removed]",
      "text/plain": [
       "<Figure size 1000x800 with 2 Axes>"
      ]
     },
     "metadata": {},
     "output_type": "display_data"
    }
   ],
   "source": [
    "#checking the distribution of data\n",
    "plt.figure(figsize=(10,8), facecolor='white')\n",
    "plotnumber=1\n",
    "for col in numerical_col:\n",
    "    if plotnumber<=2:\n",
    "        ax=plt.subplot(2,1,plotnumber)\n",
    "        sns.distplot(df[col],color='g')\n",
    "        plt.xlabel(col,fontsize=12)\n",
    "    plotnumber+=1\n",
    "plt.show()"
   ]
  },
  {
   "cell_type": "code",
   "execution_count": 95,
   "id": "fd0ddfcb",
   "metadata": {},
   "outputs": [
    {
     "data": {
      "text/plain": [
       "prices     1.120626\n",
       "Reviews    2.143864\n",
       "dtype: float64"
      ]
     },
     "execution_count": 95,
     "metadata": {},
     "output_type": "execute_result"
    }
   ],
   "source": [
    "# checking skewness\n",
    "df.skew()"
   ]
  },
  {
   "cell_type": "code",
   "execution_count": 96,
   "id": "0b3eda1f",
   "metadata": {},
   "outputs": [],
   "source": [
    "#apply cube root method to remove skewness in volume\n",
    "df['prices']= np.cbrt(df['prices'])\n",
    "df['Reviews']= np.cbrt(df['Reviews'])"
   ]
  },
  {
   "cell_type": "code",
   "execution_count": 97,
   "id": "d7ee627c",
   "metadata": {},
   "outputs": [
    {
     "data": {
      "text/plain": [
       "prices     0.420336\n",
       "Reviews   -2.199156\n",
       "dtype: float64"
      ]
     },
     "execution_count": 97,
     "metadata": {},
     "output_type": "execute_result"
    }
   ],
   "source": [
    "df.skew()"
   ]
  },
  {
   "cell_type": "code",
   "execution_count": 98,
   "id": "de01a5b9",
   "metadata": {},
   "outputs": [
    {
     "data": {
      "text/html": [
       "<div>\n",
       "<style scoped>\n",
       "    .dataframe tbody tr th:only-of-type {\n",
       "        vertical-align: middle;\n",
       "    }\n",
       "\n",
       "    .dataframe tbody tr th {\n",
       "        vertical-align: top;\n",
       "    }\n",
       "\n",
       "    .dataframe thead th {\n",
       "        text-align: right;\n",
       "    }\n",
       "</style>\n",
       "<table border=\"1\" class=\"dataframe\">\n",
       "  <thead>\n",
       "    <tr style=\"text-align: right;\">\n",
       "      <th></th>\n",
       "      <th>prices</th>\n",
       "      <th>Reviews</th>\n",
       "    </tr>\n",
       "  </thead>\n",
       "  <tbody>\n",
       "    <tr>\n",
       "      <th>prices</th>\n",
       "      <td>1.000000</td>\n",
       "      <td>0.028069</td>\n",
       "    </tr>\n",
       "    <tr>\n",
       "      <th>Reviews</th>\n",
       "      <td>0.028069</td>\n",
       "      <td>1.000000</td>\n",
       "    </tr>\n",
       "  </tbody>\n",
       "</table>\n",
       "</div>"
      ],
      "text/plain": [
       "           prices   Reviews\n",
       "prices   1.000000  0.028069\n",
       "Reviews  0.028069  1.000000"
      ]
     },
     "execution_count": 98,
     "metadata": {},
     "output_type": "execute_result"
    }
   ],
   "source": [
    "# checking correlation\n",
    "df.corr()"
   ]
  },
  {
   "cell_type": "code",
   "execution_count": 100,
   "id": "a4235c57",
   "metadata": {},
   "outputs": [],
   "source": [
    "# we see there are some columns where lots of category present so we drop this columns for our model building\n",
    "df.drop(['color','productname'],axis=1,inplace=True)"
   ]
  },
  {
   "cell_type": "code",
   "execution_count": 102,
   "id": "ca75d95c",
   "metadata": {},
   "outputs": [],
   "source": [
    "# there are lots of columns which isobject sothat we use encoding to encode them with labelencoder\n",
    "\n",
    "from sklearn.preprocessing import LabelEncoder"
   ]
  },
  {
   "cell_type": "code",
   "execution_count": 103,
   "id": "5f2f2c11",
   "metadata": {},
   "outputs": [
    {
     "data": {
      "text/html": [
       "<div>\n",
       "<style scoped>\n",
       "    .dataframe tbody tr th:only-of-type {\n",
       "        vertical-align: middle;\n",
       "    }\n",
       "\n",
       "    .dataframe tbody tr th {\n",
       "        vertical-align: top;\n",
       "    }\n",
       "\n",
       "    .dataframe thead th {\n",
       "        text-align: right;\n",
       "    }\n",
       "</style>\n",
       "<table border=\"1\" class=\"dataframe\">\n",
       "  <thead>\n",
       "    <tr style=\"text-align: right;\">\n",
       "      <th></th>\n",
       "      <th>brand_names</th>\n",
       "      <th>prices</th>\n",
       "      <th>producttype</th>\n",
       "      <th>category</th>\n",
       "      <th>Occation</th>\n",
       "      <th>Weartype</th>\n",
       "      <th>country_of_origin</th>\n",
       "      <th>return_time</th>\n",
       "      <th>materialtype</th>\n",
       "      <th>Reviews</th>\n",
       "    </tr>\n",
       "  </thead>\n",
       "  <tbody>\n",
       "    <tr>\n",
       "      <th>0</th>\n",
       "      <td>6</td>\n",
       "      <td>15.035472</td>\n",
       "      <td>20</td>\n",
       "      <td>2</td>\n",
       "      <td>3</td>\n",
       "      <td>1</td>\n",
       "      <td>1</td>\n",
       "      <td>2</td>\n",
       "      <td>5</td>\n",
       "      <td>4.641589</td>\n",
       "    </tr>\n",
       "    <tr>\n",
       "      <th>1</th>\n",
       "      <td>6</td>\n",
       "      <td>15.181499</td>\n",
       "      <td>20</td>\n",
       "      <td>2</td>\n",
       "      <td>3</td>\n",
       "      <td>1</td>\n",
       "      <td>1</td>\n",
       "      <td>2</td>\n",
       "      <td>5</td>\n",
       "      <td>4.641589</td>\n",
       "    </tr>\n",
       "    <tr>\n",
       "      <th>2</th>\n",
       "      <td>6</td>\n",
       "      <td>15.035472</td>\n",
       "      <td>20</td>\n",
       "      <td>2</td>\n",
       "      <td>3</td>\n",
       "      <td>1</td>\n",
       "      <td>1</td>\n",
       "      <td>2</td>\n",
       "      <td>5</td>\n",
       "      <td>4.641589</td>\n",
       "    </tr>\n",
       "    <tr>\n",
       "      <th>3</th>\n",
       "      <td>6</td>\n",
       "      <td>16.385184</td>\n",
       "      <td>20</td>\n",
       "      <td>2</td>\n",
       "      <td>3</td>\n",
       "      <td>1</td>\n",
       "      <td>1</td>\n",
       "      <td>2</td>\n",
       "      <td>5</td>\n",
       "      <td>4.641589</td>\n",
       "    </tr>\n",
       "    <tr>\n",
       "      <th>4</th>\n",
       "      <td>6</td>\n",
       "      <td>16.260073</td>\n",
       "      <td>20</td>\n",
       "      <td>2</td>\n",
       "      <td>3</td>\n",
       "      <td>1</td>\n",
       "      <td>1</td>\n",
       "      <td>2</td>\n",
       "      <td>5</td>\n",
       "      <td>4.641589</td>\n",
       "    </tr>\n",
       "    <tr>\n",
       "      <th>...</th>\n",
       "      <td>...</td>\n",
       "      <td>...</td>\n",
       "      <td>...</td>\n",
       "      <td>...</td>\n",
       "      <td>...</td>\n",
       "      <td>...</td>\n",
       "      <td>...</td>\n",
       "      <td>...</td>\n",
       "      <td>...</td>\n",
       "      <td>...</td>\n",
       "    </tr>\n",
       "    <tr>\n",
       "      <th>882</th>\n",
       "      <td>8</td>\n",
       "      <td>12.597110</td>\n",
       "      <td>22</td>\n",
       "      <td>1</td>\n",
       "      <td>1</td>\n",
       "      <td>1</td>\n",
       "      <td>1</td>\n",
       "      <td>1</td>\n",
       "      <td>5</td>\n",
       "      <td>5.718479</td>\n",
       "    </tr>\n",
       "    <tr>\n",
       "      <th>883</th>\n",
       "      <td>8</td>\n",
       "      <td>13.198148</td>\n",
       "      <td>22</td>\n",
       "      <td>1</td>\n",
       "      <td>1</td>\n",
       "      <td>1</td>\n",
       "      <td>1</td>\n",
       "      <td>1</td>\n",
       "      <td>5</td>\n",
       "      <td>4.464745</td>\n",
       "    </tr>\n",
       "    <tr>\n",
       "      <th>884</th>\n",
       "      <td>8</td>\n",
       "      <td>13.923047</td>\n",
       "      <td>22</td>\n",
       "      <td>1</td>\n",
       "      <td>1</td>\n",
       "      <td>1</td>\n",
       "      <td>1</td>\n",
       "      <td>1</td>\n",
       "      <td>5</td>\n",
       "      <td>5.039684</td>\n",
       "    </tr>\n",
       "    <tr>\n",
       "      <th>885</th>\n",
       "      <td>8</td>\n",
       "      <td>11.444598</td>\n",
       "      <td>22</td>\n",
       "      <td>1</td>\n",
       "      <td>1</td>\n",
       "      <td>1</td>\n",
       "      <td>1</td>\n",
       "      <td>1</td>\n",
       "      <td>5</td>\n",
       "      <td>3.207534</td>\n",
       "    </tr>\n",
       "    <tr>\n",
       "      <th>886</th>\n",
       "      <td>8</td>\n",
       "      <td>11.444598</td>\n",
       "      <td>22</td>\n",
       "      <td>1</td>\n",
       "      <td>1</td>\n",
       "      <td>1</td>\n",
       "      <td>1</td>\n",
       "      <td>1</td>\n",
       "      <td>5</td>\n",
       "      <td>4.876999</td>\n",
       "    </tr>\n",
       "  </tbody>\n",
       "</table>\n",
       "<p>3521 rows × 10 columns</p>\n",
       "</div>"
      ],
      "text/plain": [
       "     brand_names     prices  producttype  category  Occation  Weartype  \\\n",
       "0              6  15.035472           20         2         3         1   \n",
       "1              6  15.181499           20         2         3         1   \n",
       "2              6  15.035472           20         2         3         1   \n",
       "3              6  16.385184           20         2         3         1   \n",
       "4              6  16.260073           20         2         3         1   \n",
       "..           ...        ...          ...       ...       ...       ...   \n",
       "882            8  12.597110           22         1         1         1   \n",
       "883            8  13.198148           22         1         1         1   \n",
       "884            8  13.923047           22         1         1         1   \n",
       "885            8  11.444598           22         1         1         1   \n",
       "886            8  11.444598           22         1         1         1   \n",
       "\n",
       "     country_of_origin  return_time  materialtype   Reviews  \n",
       "0                    1            2             5  4.641589  \n",
       "1                    1            2             5  4.641589  \n",
       "2                    1            2             5  4.641589  \n",
       "3                    1            2             5  4.641589  \n",
       "4                    1            2             5  4.641589  \n",
       "..                 ...          ...           ...       ...  \n",
       "882                  1            1             5  5.718479  \n",
       "883                  1            1             5  4.464745  \n",
       "884                  1            1             5  5.039684  \n",
       "885                  1            1             5  3.207534  \n",
       "886                  1            1             5  4.876999  \n",
       "\n",
       "[3521 rows x 10 columns]"
      ]
     },
     "execution_count": 103,
     "metadata": {},
     "output_type": "execute_result"
    }
   ],
   "source": [
    "for i in df.columns:\n",
    "    if df[i].dtypes== 'object':\n",
    "        encoder = LabelEncoder()\n",
    "        df[i] = encoder.fit_transform(df[i])\n",
    "df"
   ]
  },
  {
   "cell_type": "code",
   "execution_count": 104,
   "id": "8dfefc04",
   "metadata": {},
   "outputs": [
    {
     "name": "stdout",
     "output_type": "stream",
     "text": [
      "(3521, 9)\n",
      "(3521,)\n"
     ]
    }
   ],
   "source": [
    "# lets seperate the features and target variables\n",
    "x = df.drop('prices',axis=1)\n",
    "y = df['prices']\n",
    "\n",
    "print(x.shape)\n",
    "print(y.shape)"
   ]
  },
  {
   "cell_type": "code",
   "execution_count": 105,
   "id": "2e3c3270",
   "metadata": {},
   "outputs": [
    {
     "data": {
      "text/html": [
       "<div>\n",
       "<style scoped>\n",
       "    .dataframe tbody tr th:only-of-type {\n",
       "        vertical-align: middle;\n",
       "    }\n",
       "\n",
       "    .dataframe tbody tr th {\n",
       "        vertical-align: top;\n",
       "    }\n",
       "\n",
       "    .dataframe thead th {\n",
       "        text-align: right;\n",
       "    }\n",
       "</style>\n",
       "<table border=\"1\" class=\"dataframe\">\n",
       "  <thead>\n",
       "    <tr style=\"text-align: right;\">\n",
       "      <th></th>\n",
       "      <th>brand_names</th>\n",
       "      <th>producttype</th>\n",
       "      <th>category</th>\n",
       "      <th>Occation</th>\n",
       "      <th>Weartype</th>\n",
       "      <th>country_of_origin</th>\n",
       "      <th>return_time</th>\n",
       "      <th>materialtype</th>\n",
       "      <th>Reviews</th>\n",
       "    </tr>\n",
       "  </thead>\n",
       "  <tbody>\n",
       "    <tr>\n",
       "      <th>0</th>\n",
       "      <td>6</td>\n",
       "      <td>20</td>\n",
       "      <td>2</td>\n",
       "      <td>3</td>\n",
       "      <td>1</td>\n",
       "      <td>1</td>\n",
       "      <td>2</td>\n",
       "      <td>5</td>\n",
       "      <td>4.641589</td>\n",
       "    </tr>\n",
       "    <tr>\n",
       "      <th>1</th>\n",
       "      <td>6</td>\n",
       "      <td>20</td>\n",
       "      <td>2</td>\n",
       "      <td>3</td>\n",
       "      <td>1</td>\n",
       "      <td>1</td>\n",
       "      <td>2</td>\n",
       "      <td>5</td>\n",
       "      <td>4.641589</td>\n",
       "    </tr>\n",
       "    <tr>\n",
       "      <th>2</th>\n",
       "      <td>6</td>\n",
       "      <td>20</td>\n",
       "      <td>2</td>\n",
       "      <td>3</td>\n",
       "      <td>1</td>\n",
       "      <td>1</td>\n",
       "      <td>2</td>\n",
       "      <td>5</td>\n",
       "      <td>4.641589</td>\n",
       "    </tr>\n",
       "    <tr>\n",
       "      <th>3</th>\n",
       "      <td>6</td>\n",
       "      <td>20</td>\n",
       "      <td>2</td>\n",
       "      <td>3</td>\n",
       "      <td>1</td>\n",
       "      <td>1</td>\n",
       "      <td>2</td>\n",
       "      <td>5</td>\n",
       "      <td>4.641589</td>\n",
       "    </tr>\n",
       "    <tr>\n",
       "      <th>4</th>\n",
       "      <td>6</td>\n",
       "      <td>20</td>\n",
       "      <td>2</td>\n",
       "      <td>3</td>\n",
       "      <td>1</td>\n",
       "      <td>1</td>\n",
       "      <td>2</td>\n",
       "      <td>5</td>\n",
       "      <td>4.641589</td>\n",
       "    </tr>\n",
       "  </tbody>\n",
       "</table>\n",
       "</div>"
      ],
      "text/plain": [
       "   brand_names  producttype  category  Occation  Weartype  country_of_origin  \\\n",
       "0            6           20         2         3         1                  1   \n",
       "1            6           20         2         3         1                  1   \n",
       "2            6           20         2         3         1                  1   \n",
       "3            6           20         2         3         1                  1   \n",
       "4            6           20         2         3         1                  1   \n",
       "\n",
       "   return_time  materialtype   Reviews  \n",
       "0            2             5  4.641589  \n",
       "1            2             5  4.641589  \n",
       "2            2             5  4.641589  \n",
       "3            2             5  4.641589  \n",
       "4            2             5  4.641589  "
      ]
     },
     "execution_count": 105,
     "metadata": {},
     "output_type": "execute_result"
    }
   ],
   "source": [
    "# now we scaling our data using standard scaler\n",
    "from sklearn.preprocessing import StandardScaler\n",
    "scaler = StandardScaler()\n",
    "scaler.fit_transform(x)\n",
    "x.head()"
   ]
  },
  {
   "cell_type": "code",
   "execution_count": 106,
   "id": "3e3ace83",
   "metadata": {},
   "outputs": [],
   "source": [
    "#model building\n",
    "from sklearn.linear_model import LinearRegression\n",
    "from sklearn.metrics import mean_absolute_error\n",
    "from sklearn.metrics import mean_squared_error\n",
    "from sklearn.metrics import r2_score\n",
    "from sklearn.ensemble import GradientBoostingRegressor\n",
    "from sklearn.ensemble import RandomForestRegressor\n",
    "from sklearn.tree import DecisionTreeRegressor"
   ]
  },
  {
   "cell_type": "code",
   "execution_count": 107,
   "id": "67e44cf1",
   "metadata": {},
   "outputs": [],
   "source": [
    "# create train test split\n",
    "x_train,x_test,y_train,y_test=train_test_split(x,y,test_size=0.30,random_state=124)"
   ]
  },
  {
   "cell_type": "code",
   "execution_count": 108,
   "id": "289a4a88",
   "metadata": {},
   "outputs": [
    {
     "name": "stdout",
     "output_type": "stream",
     "text": [
      "r2score :  0.4111365134367744\n",
      "mean absolute error : 1.3318087873453837\n",
      "mean squared error : 2.8612244175681876\n",
      "root mean squared error : 1.6915154204346432\n"
     ]
    }
   ],
   "source": [
    "lr= LinearRegression()\n",
    "lr.fit(x_train,y_train)\n",
    "pred= lr.predict(x_test)\n",
    "print('r2score : ',r2_score(y_test,pred))\n",
    "print('mean absolute error :', mean_absolute_error(y_test,pred))\n",
    "print('mean squared error :', mean_squared_error(y_test,pred))\n",
    "print('root mean squared error :', np.sqrt(mean_squared_error(y_test,pred)))"
   ]
  },
  {
   "cell_type": "code",
   "execution_count": 109,
   "id": "1dc5bce9",
   "metadata": {},
   "outputs": [
    {
     "name": "stdout",
     "output_type": "stream",
     "text": [
      "r2score :  0.6514680322890364\n",
      "mean absolute error : 0.9824403979094545\n",
      "mean squared error : 1.6934793871119482\n",
      "root mean squared error : 1.3013375377326009\n"
     ]
    }
   ],
   "source": [
    "dt=DecisionTreeRegressor()\n",
    "dt.fit(x_train,y_train)\n",
    "pred1= dt.predict(x_test)\n",
    "print('r2score : ',r2_score(y_test,pred1))\n",
    "print('mean absolute error :', mean_absolute_error(y_test,pred1))\n",
    "print('mean squared error :', mean_squared_error(y_test,pred1))\n",
    "print('root mean squared error :', np.sqrt(mean_squared_error(y_test,pred1)))"
   ]
  },
  {
   "cell_type": "code",
   "execution_count": 110,
   "id": "ce449149",
   "metadata": {},
   "outputs": [
    {
     "name": "stdout",
     "output_type": "stream",
     "text": [
      "r2score :  0.6664456254380328\n",
      "mean absolute error : 0.9698046872028864\n",
      "mean squared error : 1.620704871095647\n",
      "root mean squared error : 1.2730690755397553\n"
     ]
    }
   ],
   "source": [
    "rfc= RandomForestRegressor()\n",
    "rfc.fit(x_train,y_train)\n",
    "pred2= rfc.predict(x_test)\n",
    "print('r2score : ',r2_score(y_test,pred2))\n",
    "print('mean absolute error :', mean_absolute_error(y_test,pred2))\n",
    "print('mean squared error :', mean_squared_error(y_test,pred2))\n",
    "print('root mean squared error :', np.sqrt(mean_squared_error(y_test,pred2)))"
   ]
  },
  {
   "cell_type": "code",
   "execution_count": 111,
   "id": "5eb915f4",
   "metadata": {},
   "outputs": [
    {
     "name": "stdout",
     "output_type": "stream",
     "text": [
      "r2score :  0.4111365134367744\n",
      "mean absolute error : 0.9634825422985985\n",
      "mean squared error : 1.5923918154123275\n",
      "root mean squared error : 1.2619000813900947\n"
     ]
    }
   ],
   "source": [
    "gbt= GradientBoostingRegressor()\n",
    "gbt.fit(x_train,y_train)\n",
    "pred3= gbt.predict(x_test)\n",
    "print('r2score : ',r2_score(y_test,pred))\n",
    "print('mean absolute error :', mean_absolute_error(y_test,pred3))\n",
    "print('mean squared error :', mean_squared_error(y_test,pred3))\n",
    "print('root mean squared error :', np.sqrt(mean_squared_error(y_test,pred3)))"
   ]
  },
  {
   "cell_type": "markdown",
   "id": "d6ced844",
   "metadata": {},
   "source": [
    "we have see that the random forest model is best model because rmse valuee is lower than other model and accuracy is high with other model hence we tune the model for higher accracy achieved"
   ]
  },
  {
   "cell_type": "code",
   "execution_count": 113,
   "id": "3fd46a8a",
   "metadata": {},
   "outputs": [],
   "source": [
    "from sklearn.model_selection import GridSearchCV\n",
    "\n",
    "params= {'max_depth':[10,20,30],'min_samples_split':[8,10,12],'n_estimators':[10,50,100]}"
   ]
  },
  {
   "cell_type": "code",
   "execution_count": 114,
   "id": "d9ee38a5",
   "metadata": {},
   "outputs": [],
   "source": [
    "grid_search = GridSearchCV(estimator=rfc,param_grid=params)"
   ]
  },
  {
   "cell_type": "code",
   "execution_count": 115,
   "id": "b9c4681e",
   "metadata": {},
   "outputs": [
    {
     "data": {
      "text/html": [
       "<style>#sk-container-id-1 {color: black;background-color: white;}#sk-container-id-1 pre{padding: 0;}#sk-container-id-1 div.sk-toggleable {background-color: white;}#sk-container-id-1 label.sk-toggleable__label {cursor: pointer;display: block;width: 100%;margin-bottom: 0;padding: 0.3em;box-sizing: border-box;text-align: center;}#sk-container-id-1 label.sk-toggleable__label-arrow:before {content: \"▸\";float: left;margin-right: 0.25em;color: #696969;}#sk-container-id-1 label.sk-toggleable__label-arrow:hover:before {color: black;}#sk-container-id-1 div.sk-estimator:hover label.sk-toggleable__label-arrow:before {color: black;}#sk-container-id-1 div.sk-toggleable__content {max-height: 0;max-width: 0;overflow: hidden;text-align: left;background-color: #f0f8ff;}#sk-container-id-1 div.sk-toggleable__content pre {margin: 0.2em;color: black;border-radius: 0.25em;background-color: #f0f8ff;}#sk-container-id-1 input.sk-toggleable__control:checked~div.sk-toggleable__content {max-height: 200px;max-width: 100%;overflow: auto;}#sk-container-id-1 input.sk-toggleable__control:checked~label.sk-toggleable__label-arrow:before {content: \"▾\";}#sk-container-id-1 div.sk-estimator input.sk-toggleable__control:checked~label.sk-toggleable__label {background-color: #d4ebff;}#sk-container-id-1 div.sk-label input.sk-toggleable__control:checked~label.sk-toggleable__label {background-color: #d4ebff;}#sk-container-id-1 input.sk-hidden--visually {border: 0;clip: rect(1px 1px 1px 1px);clip: rect(1px, 1px, 1px, 1px);height: 1px;margin: -1px;overflow: hidden;padding: 0;position: absolute;width: 1px;}#sk-container-id-1 div.sk-estimator {font-family: monospace;background-color: #f0f8ff;border: 1px dotted black;border-radius: 0.25em;box-sizing: border-box;margin-bottom: 0.5em;}#sk-container-id-1 div.sk-estimator:hover {background-color: #d4ebff;}#sk-container-id-1 div.sk-parallel-item::after {content: \"\";width: 100%;border-bottom: 1px solid gray;flex-grow: 1;}#sk-container-id-1 div.sk-label:hover label.sk-toggleable__label {background-color: #d4ebff;}#sk-container-id-1 div.sk-serial::before {content: \"\";position: absolute;border-left: 1px solid gray;box-sizing: border-box;top: 0;bottom: 0;left: 50%;z-index: 0;}#sk-container-id-1 div.sk-serial {display: flex;flex-direction: column;align-items: center;background-color: white;padding-right: 0.2em;padding-left: 0.2em;position: relative;}#sk-container-id-1 div.sk-item {position: relative;z-index: 1;}#sk-container-id-1 div.sk-parallel {display: flex;align-items: stretch;justify-content: center;background-color: white;position: relative;}#sk-container-id-1 div.sk-item::before, #sk-container-id-1 div.sk-parallel-item::before {content: \"\";position: absolute;border-left: 1px solid gray;box-sizing: border-box;top: 0;bottom: 0;left: 50%;z-index: -1;}#sk-container-id-1 div.sk-parallel-item {display: flex;flex-direction: column;z-index: 1;position: relative;background-color: white;}#sk-container-id-1 div.sk-parallel-item:first-child::after {align-self: flex-end;width: 50%;}#sk-container-id-1 div.sk-parallel-item:last-child::after {align-self: flex-start;width: 50%;}#sk-container-id-1 div.sk-parallel-item:only-child::after {width: 0;}#sk-container-id-1 div.sk-dashed-wrapped {border: 1px dashed gray;margin: 0 0.4em 0.5em 0.4em;box-sizing: border-box;padding-bottom: 0.4em;background-color: white;}#sk-container-id-1 div.sk-label label {font-family: monospace;font-weight: bold;display: inline-block;line-height: 1.2em;}#sk-container-id-1 div.sk-label-container {text-align: center;}#sk-container-id-1 div.sk-container {/* jupyter's `normalize.less` sets `[hidden] { display: none; }` but bootstrap.min.css set `[hidden] { display: none !important; }` so we also need the `!important` here to be able to override the default hidden behavior on the sphinx rendered scikit-learn.org. See: https://github.com/scikit-learn/scikit-learn/issues/21755 */display: inline-block !important;position: relative;}#sk-container-id-1 div.sk-text-repr-fallback {display: none;}</style><div id=\"sk-container-id-1\" class=\"sk-top-container\"><div class=\"sk-text-repr-fallback\"><pre>GridSearchCV(estimator=RandomForestRegressor(),\n",
       "             param_grid={&#x27;max_depth&#x27;: [10, 20, 30],\n",
       "                         &#x27;min_samples_split&#x27;: [8, 10, 12],\n",
       "                         &#x27;n_estimators&#x27;: [10, 50, 100]})</pre><b>In a Jupyter environment, please rerun this cell to show the HTML representation or trust the notebook. <br />On GitHub, the HTML representation is unable to render, please try loading this page with nbviewer.org.</b></div><div class=\"sk-container\" hidden><div class=\"sk-item sk-dashed-wrapped\"><div class=\"sk-label-container\"><div class=\"sk-label sk-toggleable\"><input class=\"sk-toggleable__control sk-hidden--visually\" id=\"sk-estimator-id-1\" type=\"checkbox\" ><label for=\"sk-estimator-id-1\" class=\"sk-toggleable__label sk-toggleable__label-arrow\">GridSearchCV</label><div class=\"sk-toggleable__content\"><pre>GridSearchCV(estimator=RandomForestRegressor(),\n",
       "             param_grid={&#x27;max_depth&#x27;: [10, 20, 30],\n",
       "                         &#x27;min_samples_split&#x27;: [8, 10, 12],\n",
       "                         &#x27;n_estimators&#x27;: [10, 50, 100]})</pre></div></div></div><div class=\"sk-parallel\"><div class=\"sk-parallel-item\"><div class=\"sk-item\"><div class=\"sk-label-container\"><div class=\"sk-label sk-toggleable\"><input class=\"sk-toggleable__control sk-hidden--visually\" id=\"sk-estimator-id-2\" type=\"checkbox\" ><label for=\"sk-estimator-id-2\" class=\"sk-toggleable__label sk-toggleable__label-arrow\">estimator: RandomForestRegressor</label><div class=\"sk-toggleable__content\"><pre>RandomForestRegressor()</pre></div></div></div><div class=\"sk-serial\"><div class=\"sk-item\"><div class=\"sk-estimator sk-toggleable\"><input class=\"sk-toggleable__control sk-hidden--visually\" id=\"sk-estimator-id-3\" type=\"checkbox\" ><label for=\"sk-estimator-id-3\" class=\"sk-toggleable__label sk-toggleable__label-arrow\">RandomForestRegressor</label><div class=\"sk-toggleable__content\"><pre>RandomForestRegressor()</pre></div></div></div></div></div></div></div></div></div></div>"
      ],
      "text/plain": [
       "GridSearchCV(estimator=RandomForestRegressor(),\n",
       "             param_grid={'max_depth': [10, 20, 30],\n",
       "                         'min_samples_split': [8, 10, 12],\n",
       "                         'n_estimators': [10, 50, 100]})"
      ]
     },
     "execution_count": 115,
     "metadata": {},
     "output_type": "execute_result"
    }
   ],
   "source": [
    "grid_search.fit(x_train,y_train)"
   ]
  },
  {
   "cell_type": "code",
   "execution_count": 116,
   "id": "9f643fcc",
   "metadata": {},
   "outputs": [
    {
     "data": {
      "text/plain": [
       "{'max_depth': 10, 'min_samples_split': 12, 'n_estimators': 50}"
      ]
     },
     "execution_count": 116,
     "metadata": {},
     "output_type": "execute_result"
    }
   ],
   "source": [
    "grid_search.best_params_"
   ]
  },
  {
   "cell_type": "code",
   "execution_count": 117,
   "id": "6843a006",
   "metadata": {},
   "outputs": [
    {
     "name": "stdout",
     "output_type": "stream",
     "text": [
      "r2score :\n",
      "  0.6720592213047752\n"
     ]
    }
   ],
   "source": [
    "#now we chck to increase performance of our model with using this criteria and finalize our model\n",
    "final_model= RandomForestRegressor(max_depth=10,min_samples_split=12,n_estimators=50)\n",
    "final_model.fit(x_train,y_train)\n",
    "pred_= final_model.predict(x_test)\n",
    "print('r2score :\\n ',r2_score(y_test,pred_))"
   ]
  },
  {
   "cell_type": "markdown",
   "id": "73aa10c0",
   "metadata": {},
   "source": [
    "after hyperperameter tuning our accuracy is slightly increases so we proceed with random forest model for prediction of prices\n",
    "and save this model for future prediction"
   ]
  },
  {
   "cell_type": "code",
   "execution_count": 123,
   "id": "86e14c00",
   "metadata": {},
   "outputs": [
    {
     "data": {
      "image/png": "[encoded data removed]",
      "text/plain": [
       "<Figure size 500x600 with 1 Axes>"
      ]
     },
     "metadata": {},
     "output_type": "display_data"
    }
   ],
   "source": [
    "#lets check throgh plot of accracy\n",
    "plt.figure(figsize=(5,6))\n",
    "plt.scatter(x=y_test,y=pred1)\n",
    "plt.xlabel('actual')\n",
    "plt.ylabel('predicted')\n",
    "plt.title('actual vs predicted')\n",
    "plt.show()"
   ]
  },
  {
   "cell_type": "code",
   "execution_count": null,
   "id": "ea476a7d",
   "metadata": {},
   "outputs": [],
   "source": []
  }
 ],
 "metadata": {
  "kernelspec": {
   "display_name": "Python 3 (ipykernel)",
   "language": "python",
   "name": "python3"
  },
  "language_info": {
   "codemirror_mode": {
    "name": "ipython",
    "version": 3
   },
   "file_extension": ".py",
   "mimetype": "text/x-python",
   "name": "python",
   "nbconvert_exporter": "python",
   "pygments_lexer": "ipython3",
   "version": "3.10.9"
  }
 },
 "nbformat": 4,
 "nbformat_minor": 5
}
