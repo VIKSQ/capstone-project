{
 "cells": [
  {
   "cell_type": "code",
   "execution_count": 1,
   "id": "643459f8",
   "metadata": {},
   "outputs": [],
   "source": [
    "from bs4 import BeautifulSoup\n",
    "import requests\n",
    "import selenium\n",
    "import pandas as pd\n",
    "from selenium import webdriver\n",
    "import numpy as np\n",
    "import warnings\n",
    "warnings.filterwarnings('ignore')\n",
    "from selenium.webdriver.common.by import By\n",
    "import time"
   ]
  },
  {
   "cell_type": "code",
   "execution_count": 13,
   "id": "937ff98f",
   "metadata": {},
   "outputs": [],
   "source": [
    "driver= webdriver.Chrome()\n",
    "driver.get(\"https://www.muftijeans.in/\")"
   ]
  },
  {
   "cell_type": "code",
   "execution_count": 4,
   "id": "698282f2",
   "metadata": {},
   "outputs": [
    {
     "name": "stdout",
     "output_type": "stream",
     "text": [
      "70\n"
     ]
    }
   ],
   "source": [
    "productname = []\n",
    "prod1 = driver.find_elements(By.XPATH,'//a[@class=\"product-item-link\"]')\n",
    "for i in prod1:\n",
    "    productname.append(i.text)\n",
    "print(len(productname))    "
   ]
  },
  {
   "cell_type": "code",
   "execution_count": 7,
   "id": "bf570ed5",
   "metadata": {},
   "outputs": [
    {
     "name": "stdout",
     "output_type": "stream",
     "text": [
      "70\n"
     ]
    }
   ],
   "source": [
    "prices = []\n",
    "price= driver.find_elements(By.XPATH,'//div[@class=\"price-box price-final_price\"]')\n",
    "for i in price:\n",
    "    prices.append(i.text)\n",
    "print(len(prices))    "
   ]
  },
  {
   "cell_type": "code",
   "execution_count": 9,
   "id": "b3824013",
   "metadata": {},
   "outputs": [
    {
     "name": "stdout",
     "output_type": "stream",
     "text": [
      "160\n"
     ]
    }
   ],
   "source": [
    "prod2= driver.find_elements(By.XPATH,'//a[@class=\"product-item-link\"]')\n",
    "\n",
    "for i in prod2:\n",
    "    productname.append(i.text)\n",
    "print(len(productname))    "
   ]
  },
  {
   "cell_type": "code",
   "execution_count": 10,
   "id": "17a1cbc1",
   "metadata": {},
   "outputs": [
    {
     "name": "stdout",
     "output_type": "stream",
     "text": [
      "160\n"
     ]
    }
   ],
   "source": [
    "prodt = driver.find_elements(By.XPATH,'//div[@class=\"price-box price-final_price\"]')\n",
    "\n",
    "for i in prodt:\n",
    "    prices.append(i.text)\n",
    "print(len(prices))    "
   ]
  },
  {
   "cell_type": "code",
   "execution_count": 15,
   "id": "18592f78",
   "metadata": {},
   "outputs": [
    {
     "name": "stdout",
     "output_type": "stream",
     "text": [
      "249\n"
     ]
    }
   ],
   "source": [
    "prod4 = driver.find_elements(By.XPATH,'//a[@class=\"product-item-link\"]')\n",
    "\n",
    "for i in prod4:\n",
    "    productname.append(i.text)\n",
    "print(len(productname))    "
   ]
  },
  {
   "cell_type": "code",
   "execution_count": 16,
   "id": "83479d84",
   "metadata": {},
   "outputs": [
    {
     "name": "stdout",
     "output_type": "stream",
     "text": [
      "249\n"
     ]
    }
   ],
   "source": [
    "pric1= driver.find_elements(By.XPATH,'//div[@class=\"price-box price-final_price\"]')\n",
    "for i in pric1:\n",
    "    prices.append(i.text)\n",
    "    \n",
    "print(len(prices))    "
   ]
  },
  {
   "cell_type": "code",
   "execution_count": 17,
   "id": "b5f65e12",
   "metadata": {},
   "outputs": [
    {
     "name": "stdout",
     "output_type": "stream",
     "text": [
      "359\n"
     ]
    }
   ],
   "source": [
    "prod5= driver.find_elements(By.XPATH,'//a[@class=\"product-item-link\"]')\n",
    "\n",
    "for i in prod5:\n",
    "    productname.append(i.text)\n",
    "print(len(productname))     "
   ]
  },
  {
   "cell_type": "code",
   "execution_count": 18,
   "id": "34992cd5",
   "metadata": {},
   "outputs": [
    {
     "name": "stdout",
     "output_type": "stream",
     "text": [
      "359\n"
     ]
    }
   ],
   "source": [
    "pric2= driver.find_elements(By.XPATH,'//div[@class=\"price-box price-final_price\"]')\n",
    "\n",
    "for i  in pric2:\n",
    "    prices.append(i.text)\n",
    "print(len(prices))    "
   ]
  },
  {
   "cell_type": "code",
   "execution_count": 20,
   "id": "cc8a29da",
   "metadata": {},
   "outputs": [],
   "source": [
    "driver.close()"
   ]
  },
  {
   "cell_type": "code",
   "execution_count": 25,
   "id": "5e4d9ab1",
   "metadata": {},
   "outputs": [
    {
     "name": "stdout",
     "output_type": "stream",
     "text": [
      "359\n"
     ]
    }
   ],
   "source": [
    "brand_names=[]\n",
    "x = 'mufti'\n",
    "for i in range(359):\n",
    "    brand_names.append(x)\n",
    "print(len(brand_names))    "
   ]
  },
  {
   "cell_type": "code",
   "execution_count": 23,
   "id": "5dbeb66c",
   "metadata": {},
   "outputs": [],
   "source": [
    "driver1= webdriver.Chrome()\n",
    "driver1.get(\"https://allensolly.abfrl.in/\")"
   ]
  },
  {
   "cell_type": "code",
   "execution_count": 27,
   "id": "f05f8aa5",
   "metadata": {},
   "outputs": [
    {
     "name": "stdout",
     "output_type": "stream",
     "text": [
      "423\n"
     ]
    }
   ],
   "source": [
    "prod33= driver1.find_elements(By.XPATH,'//div[@class=\"ProductCard_description__BQzle\"]')\n",
    "for i in prod33:\n",
    "    productname.append(i.text)\n",
    "print(len(productname))    "
   ]
  },
  {
   "cell_type": "code",
   "execution_count": 31,
   "id": "862503dd",
   "metadata": {},
   "outputs": [
    {
     "name": "stdout",
     "output_type": "stream",
     "text": [
      "423\n"
     ]
    }
   ],
   "source": [
    "prod36 = driver1.find_elements(By.XPATH,'//span[@class=\"price\"]')\n",
    "for i in prod36:\n",
    "    prices.append(i.text)\n",
    "print(len(prices))    \n"
   ]
  },
  {
   "cell_type": "code",
   "execution_count": 34,
   "id": "4718eaac",
   "metadata": {},
   "outputs": [
    {
     "name": "stdout",
     "output_type": "stream",
     "text": [
      "487\n"
     ]
    }
   ],
   "source": [
    "prodd1 = driver1.find_elements(By.XPATH,'//div[@class=\"ProductCard_description__BQzle\"]')\n",
    "for i in prodd1:\n",
    "    productname.append(i.text)\n",
    "print(len(productname))    "
   ]
  },
  {
   "cell_type": "code",
   "execution_count": 35,
   "id": "d4813e75",
   "metadata": {},
   "outputs": [
    {
     "name": "stdout",
     "output_type": "stream",
     "text": [
      "487\n"
     ]
    }
   ],
   "source": [
    "prod38 = driver1.find_elements(By.XPATH,'//span[@class=\"price\"]')\n",
    "for i in prod38:\n",
    "    prices.append(i.text)\n",
    "print(len(prices))"
   ]
  },
  {
   "cell_type": "code",
   "execution_count": 36,
   "id": "0a642960",
   "metadata": {},
   "outputs": [
    {
     "name": "stdout",
     "output_type": "stream",
     "text": [
      "583\n"
     ]
    }
   ],
   "source": [
    "prod23 = driver1.find_elements(By.XPATH,'//div[@class=\"ProductCard_description__BQzle\"]')\n",
    "\n",
    "for i in prod23:\n",
    "    productname.append(i.text)\n",
    "print(len(productname))    "
   ]
  },
  {
   "cell_type": "code",
   "execution_count": 37,
   "id": "daa49df4",
   "metadata": {},
   "outputs": [
    {
     "name": "stdout",
     "output_type": "stream",
     "text": [
      "583\n"
     ]
    }
   ],
   "source": [
    "prod25 = driver1.find_elements(By.XPATH,'//span[@class=\"price\"]')\n",
    "for i in prod25:\n",
    "    prices.append(i.text)\n",
    "print(len(prices))"
   ]
  },
  {
   "cell_type": "code",
   "execution_count": 38,
   "id": "a159d948",
   "metadata": {},
   "outputs": [
    {
     "name": "stdout",
     "output_type": "stream",
     "text": [
      "583\n"
     ]
    }
   ],
   "source": [
    "y='allensolly'\n",
    "for i in range(224):\n",
    "    brand_names.append(y)\n",
    "print(len(brand_names))    \n",
    "    "
   ]
  },
  {
   "cell_type": "code",
   "execution_count": 39,
   "id": "fbd95c8d",
   "metadata": {},
   "outputs": [
    {
     "name": "stdout",
     "output_type": "stream",
     "text": [
      "679\n"
     ]
    }
   ],
   "source": [
    "prod20 = driver1.find_elements(By.XPATH,'//div[@class=\"ProductCard_description__BQzle\"]')\n",
    "\n",
    "for i in prod20:\n",
    "    productname.append(i.text)\n",
    "print(len(productname)) "
   ]
  },
  {
   "cell_type": "code",
   "execution_count": 40,
   "id": "5b0d09b0",
   "metadata": {},
   "outputs": [
    {
     "name": "stdout",
     "output_type": "stream",
     "text": [
      "679\n"
     ]
    }
   ],
   "source": [
    "prod28 = driver1.find_elements(By.XPATH,'//span[@class=\"price\"]')\n",
    "for i in prod28:\n",
    "    prices.append(i.text)\n",
    "print(len(prices))"
   ]
  },
  {
   "cell_type": "code",
   "execution_count": 41,
   "id": "6d9100d7",
   "metadata": {},
   "outputs": [
    {
     "name": "stdout",
     "output_type": "stream",
     "text": [
      "679\n"
     ]
    }
   ],
   "source": [
    "producttype = []\n",
    "z= 'casual'\n",
    "for i in range(679):\n",
    "    producttype.append(z)\n",
    "print(len(producttype))    "
   ]
  },
  {
   "cell_type": "code",
   "execution_count": 44,
   "id": "674d7129",
   "metadata": {},
   "outputs": [
    {
     "name": "stdout",
     "output_type": "stream",
     "text": [
      "775\n"
     ]
    }
   ],
   "source": [
    "y1='allensolly'\n",
    "for i in range(96):\n",
    "    brand_names.append(y1)\n",
    "print(len(brand_names))"
   ]
  },
  {
   "cell_type": "code",
   "execution_count": 51,
   "id": "df6414ef",
   "metadata": {},
   "outputs": [],
   "source": [
    "category = []\n",
    "f = 'men'\n",
    "for i in range(679):\n",
    "    category.append(f)"
   ]
  },
  {
   "cell_type": "code",
   "execution_count": 53,
   "id": "f0d5be19",
   "metadata": {},
   "outputs": [],
   "source": [
    "data = {'productname':productname, 'brand_names':brand_names, 'prices':prices, 'producttype': producttype,\n",
    "         'category':category}"
   ]
  },
  {
   "cell_type": "code",
   "execution_count": 54,
   "id": "a4ec5ce3",
   "metadata": {},
   "outputs": [
    {
     "data": {
      "text/html": [
       "<div>\n",
       "<style scoped>\n",
       "    .dataframe tbody tr th:only-of-type {\n",
       "        vertical-align: middle;\n",
       "    }\n",
       "\n",
       "    .dataframe tbody tr th {\n",
       "        vertical-align: top;\n",
       "    }\n",
       "\n",
       "    .dataframe thead th {\n",
       "        text-align: right;\n",
       "    }\n",
       "</style>\n",
       "<table border=\"1\" class=\"dataframe\">\n",
       "  <thead>\n",
       "    <tr style=\"text-align: right;\">\n",
       "      <th></th>\n",
       "      <th>productname</th>\n",
       "      <th>brand_names</th>\n",
       "      <th>prices</th>\n",
       "      <th>producttype</th>\n",
       "      <th>category</th>\n",
       "    </tr>\n",
       "  </thead>\n",
       "  <tbody>\n",
       "    <tr>\n",
       "      <th>0</th>\n",
       "      <td>Super Slim Fit Originals Stretch Jeans</td>\n",
       "      <td>mufti</td>\n",
       "      <td>₹3,399</td>\n",
       "      <td>casual</td>\n",
       "      <td>men</td>\n",
       "    </tr>\n",
       "    <tr>\n",
       "      <th>1</th>\n",
       "      <td>Super Slim Fit Originals Stretch Jeans</td>\n",
       "      <td>mufti</td>\n",
       "      <td>₹3,499</td>\n",
       "      <td>casual</td>\n",
       "      <td>men</td>\n",
       "    </tr>\n",
       "    <tr>\n",
       "      <th>2</th>\n",
       "      <td>Straight Fit Originals Stretch Jeans</td>\n",
       "      <td>mufti</td>\n",
       "      <td>₹3,399</td>\n",
       "      <td>casual</td>\n",
       "      <td>men</td>\n",
       "    </tr>\n",
       "    <tr>\n",
       "      <th>3</th>\n",
       "      <td>Super Slim Fit Originals Deluxe Stretch Jeans</td>\n",
       "      <td>mufti</td>\n",
       "      <td>₹4,399</td>\n",
       "      <td>casual</td>\n",
       "      <td>men</td>\n",
       "    </tr>\n",
       "    <tr>\n",
       "      <th>4</th>\n",
       "      <td>Super Slim Fit Distressed Stretch Jeans</td>\n",
       "      <td>mufti</td>\n",
       "      <td>₹4,299</td>\n",
       "      <td>casual</td>\n",
       "      <td>men</td>\n",
       "    </tr>\n",
       "    <tr>\n",
       "      <th>...</th>\n",
       "      <td>...</td>\n",
       "      <td>...</td>\n",
       "      <td>...</td>\n",
       "      <td>...</td>\n",
       "      <td>...</td>\n",
       "    </tr>\n",
       "    <tr>\n",
       "      <th>674</th>\n",
       "      <td>Men Grey Skinny Fit Mid Wash Jeans</td>\n",
       "      <td>allensolly</td>\n",
       "      <td>₹ 2,799</td>\n",
       "      <td>casual</td>\n",
       "      <td>men</td>\n",
       "    </tr>\n",
       "    <tr>\n",
       "      <th>675</th>\n",
       "      <td>Men Black Slim Fit Dark Wash Jeans</td>\n",
       "      <td>allensolly</td>\n",
       "      <td>₹ 2,799</td>\n",
       "      <td>casual</td>\n",
       "      <td>men</td>\n",
       "    </tr>\n",
       "    <tr>\n",
       "      <th>676</th>\n",
       "      <td>Men Navy Skinny Fit Mid Wash Jeans</td>\n",
       "      <td>allensolly</td>\n",
       "      <td>₹ 3,999</td>\n",
       "      <td>casual</td>\n",
       "      <td>men</td>\n",
       "    </tr>\n",
       "    <tr>\n",
       "      <th>677</th>\n",
       "      <td>Men Grey Skinny Fit Dark Wash Jeans</td>\n",
       "      <td>allensolly</td>\n",
       "      <td>₹ 3,999</td>\n",
       "      <td>casual</td>\n",
       "      <td>men</td>\n",
       "    </tr>\n",
       "    <tr>\n",
       "      <th>678</th>\n",
       "      <td>Men Navy Skinny Fit Dark Wash Jeans</td>\n",
       "      <td>allensolly</td>\n",
       "      <td>₹ 4,999</td>\n",
       "      <td>casual</td>\n",
       "      <td>men</td>\n",
       "    </tr>\n",
       "  </tbody>\n",
       "</table>\n",
       "<p>679 rows × 5 columns</p>\n",
       "</div>"
      ],
      "text/plain": [
       "                                       productname brand_names   prices  \\\n",
       "0           Super Slim Fit Originals Stretch Jeans       mufti   ₹3,399   \n",
       "1           Super Slim Fit Originals Stretch Jeans       mufti   ₹3,499   \n",
       "2             Straight Fit Originals Stretch Jeans       mufti   ₹3,399   \n",
       "3    Super Slim Fit Originals Deluxe Stretch Jeans       mufti   ₹4,399   \n",
       "4          Super Slim Fit Distressed Stretch Jeans       mufti   ₹4,299   \n",
       "..                                             ...         ...      ...   \n",
       "674             Men Grey Skinny Fit Mid Wash Jeans  allensolly  ₹ 2,799   \n",
       "675             Men Black Slim Fit Dark Wash Jeans  allensolly  ₹ 2,799   \n",
       "676             Men Navy Skinny Fit Mid Wash Jeans  allensolly  ₹ 3,999   \n",
       "677            Men Grey Skinny Fit Dark Wash Jeans  allensolly  ₹ 3,999   \n",
       "678            Men Navy Skinny Fit Dark Wash Jeans  allensolly  ₹ 4,999   \n",
       "\n",
       "    producttype category  \n",
       "0        casual      men  \n",
       "1        casual      men  \n",
       "2        casual      men  \n",
       "3        casual      men  \n",
       "4        casual      men  \n",
       "..          ...      ...  \n",
       "674      casual      men  \n",
       "675      casual      men  \n",
       "676      casual      men  \n",
       "677      casual      men  \n",
       "678      casual      men  \n",
       "\n",
       "[679 rows x 5 columns]"
      ]
     },
     "execution_count": 54,
     "metadata": {},
     "output_type": "execute_result"
    }
   ],
   "source": [
    "df = pd.DataFrame(data)\n",
    "df"
   ]
  },
  {
   "cell_type": "code",
   "execution_count": 55,
   "id": "1af60fc7",
   "metadata": {},
   "outputs": [],
   "source": [
    "df.to_csv('datafame.csv')"
   ]
  },
  {
   "cell_type": "code",
   "execution_count": 2,
   "id": "2b642622",
   "metadata": {},
   "outputs": [],
   "source": [
    "driver = webdriver.Chrome()\n",
    "driver.get('https://www.peterengland.com/')"
   ]
  },
  {
   "cell_type": "code",
   "execution_count": 5,
   "id": "9c73509e",
   "metadata": {},
   "outputs": [
    {
     "name": "stdout",
     "output_type": "stream",
     "text": [
      "96\n"
     ]
    }
   ],
   "source": [
    "productname = []\n",
    "pr2 = driver.find_elements(By.XPATH,'//div[@class=\"ProductCard_description__BQzle\"]')\n",
    "\n",
    "for i in pr2:\n",
    "    productname.append(i.text)\n",
    "print(len(productname))    "
   ]
  },
  {
   "cell_type": "code",
   "execution_count": 6,
   "id": "77da5d5b",
   "metadata": {},
   "outputs": [
    {
     "name": "stdout",
     "output_type": "stream",
     "text": [
      "96\n"
     ]
    }
   ],
   "source": [
    "producttype= []\n",
    "pr3 = driver.find_elements(By.XPATH,'//div[@class=\"ProductCard_title__9M6wy\"]')\n",
    "for i in pr3:\n",
    "    producttype.append(i.text)\n",
    "print(len(producttype))    "
   ]
  },
  {
   "cell_type": "code",
   "execution_count": 9,
   "id": "1fd647e7",
   "metadata": {},
   "outputs": [],
   "source": [
    "prices=[]"
   ]
  },
  {
   "cell_type": "code",
   "execution_count": 10,
   "id": "b7de0558",
   "metadata": {},
   "outputs": [
    {
     "name": "stdout",
     "output_type": "stream",
     "text": [
      "96\n"
     ]
    }
   ],
   "source": [
    "pr3 = driver.find_elements(By.XPATH,'//span[@class=\"price\"]')\n",
    "for i in pr3:\n",
    "    prices.append(i.text)\n",
    "print(len(prices))"
   ]
  },
  {
   "cell_type": "code",
   "execution_count": 7,
   "id": "99ab4edc",
   "metadata": {},
   "outputs": [
    {
     "name": "stdout",
     "output_type": "stream",
     "text": [
      "96\n"
     ]
    }
   ],
   "source": [
    "color = []\n",
    "pr4= driver.find_elements(By.XPATH,'//div[@class=\"ProductCard_productColorText___jpq0\"]')\n",
    "for i in pr4:\n",
    "    color.append(i.text)\n",
    "print(len(color))    "
   ]
  },
  {
   "cell_type": "code",
   "execution_count": 13,
   "id": "c681f932",
   "metadata": {},
   "outputs": [
    {
     "name": "stdout",
     "output_type": "stream",
     "text": [
      "96\n"
     ]
    }
   ],
   "source": [
    "category = []\n",
    "x= 'men'\n",
    "for i in range(96):\n",
    "    category.append(x)\n",
    "print(len(category))"
   ]
  },
  {
   "cell_type": "code",
   "execution_count": 15,
   "id": "3805e038",
   "metadata": {},
   "outputs": [
    {
     "name": "stdout",
     "output_type": "stream",
     "text": [
      "212\n"
     ]
    }
   ],
   "source": [
    "pr6 = driver.find_elements(By.XPATH,'//div[@class=\"ProductCard_title__9M6wy\"]')\n",
    "for i in pr6:\n",
    "    producttype.append(i.text)\n",
    "print(len(producttype))    "
   ]
  },
  {
   "cell_type": "code",
   "execution_count": 16,
   "id": "2f3d11e3",
   "metadata": {},
   "outputs": [
    {
     "name": "stdout",
     "output_type": "stream",
     "text": [
      "212\n"
     ]
    }
   ],
   "source": [
    "pr7 = driver.find_elements(By.XPATH,'//span[@class=\"price\"]')\n",
    "for i in pr7:\n",
    "    prices.append(i.text)\n",
    "print(len(prices))    "
   ]
  },
  {
   "cell_type": "code",
   "execution_count": 17,
   "id": "ab7c3e30",
   "metadata": {},
   "outputs": [
    {
     "name": "stdout",
     "output_type": "stream",
     "text": [
      "212\n"
     ]
    }
   ],
   "source": [
    "pr8 = driver.find_elements(By.XPATH,'//span[@class=\"ProductCard_colorOption__Lss5h undefined \"]')\n",
    "\n",
    "for i in pr8:\n",
    "    color.append(i.text)\n",
    "print(len(color))    "
   ]
  },
  {
   "cell_type": "code",
   "execution_count": 18,
   "id": "99ffe040",
   "metadata": {},
   "outputs": [
    {
     "name": "stdout",
     "output_type": "stream",
     "text": [
      "212\n"
     ]
    }
   ],
   "source": [
    "brand_names=[]\n",
    "x2 = 'peter england'\n",
    "for i in range(212):\n",
    "    brand_names.append(x2)\n",
    "print(len(brand_names))    "
   ]
  },
  {
   "cell_type": "code",
   "execution_count": 19,
   "id": "a6b5e46a",
   "metadata": {},
   "outputs": [
    {
     "name": "stdout",
     "output_type": "stream",
     "text": [
      "212\n"
     ]
    }
   ],
   "source": [
    "Occation = []\n",
    "x3 = 'casual'\n",
    "for i in range(212):\n",
    "    Occation.append(x3)\n",
    "print(len(Occation))    "
   ]
  },
  {
   "cell_type": "code",
   "execution_count": 20,
   "id": "3b455ed0",
   "metadata": {},
   "outputs": [
    {
     "name": "stdout",
     "output_type": "stream",
     "text": [
      "212\n"
     ]
    }
   ],
   "source": [
    "Weartype = []\n",
    "x4= 'topwear'\n",
    "for i in range(212):\n",
    "    Weartype.append(x4)\n",
    "print(len(Weartype))    "
   ]
  },
  {
   "cell_type": "code",
   "execution_count": 21,
   "id": "a54c0bf1",
   "metadata": {},
   "outputs": [
    {
     "name": "stdout",
     "output_type": "stream",
     "text": [
      "263\n"
     ]
    }
   ],
   "source": [
    "pr12 = driver.find_elements(By.XPATH,'//div[@class=\"ProductCard_description__BQzle\"]')\n",
    "\n",
    "for i in pr12:\n",
    "    productname.append(i.text)\n",
    "print(len(productname)) "
   ]
  },
  {
   "cell_type": "code",
   "execution_count": 22,
   "id": "674c2be5",
   "metadata": {},
   "outputs": [
    {
     "name": "stdout",
     "output_type": "stream",
     "text": [
      "263\n"
     ]
    }
   ],
   "source": [
    "pr13 = driver.find_elements(By.XPATH,'//div[@class=\"ProductCard_title__9M6wy\"]')\n",
    "for i in pr13:\n",
    "    producttype.append(i.text)\n",
    "print(len(producttype))"
   ]
  },
  {
   "cell_type": "code",
   "execution_count": 23,
   "id": "c595f7bb",
   "metadata": {},
   "outputs": [
    {
     "name": "stdout",
     "output_type": "stream",
     "text": [
      "263\n"
     ]
    }
   ],
   "source": [
    "pr14 = driver.find_elements(By.XPATH,'//span[@class=\"price\"]')\n",
    "for i in pr14:\n",
    "    prices.append(i.text)\n",
    "print(len(prices))"
   ]
  },
  {
   "cell_type": "code",
   "execution_count": 24,
   "id": "b28b190c",
   "metadata": {},
   "outputs": [
    {
     "name": "stdout",
     "output_type": "stream",
     "text": [
      "263\n"
     ]
    }
   ],
   "source": [
    "pr15 = driver.find_elements(By.XPATH,'//span[@class=\"ProductCard_colorOption__Lss5h undefined \"]')\n",
    "\n",
    "for i in pr15:\n",
    "    color.append(i.text)\n",
    "print(len(color)) "
   ]
  },
  {
   "cell_type": "code",
   "execution_count": 25,
   "id": "dc68e3c0",
   "metadata": {},
   "outputs": [
    {
     "name": "stdout",
     "output_type": "stream",
     "text": [
      "263\n"
     ]
    }
   ],
   "source": [
    "x5 = 'bottomwear'\n",
    "for i in range(51):\n",
    "    Weartype.append(x5)\n",
    "print(len(Weartype))    \n"
   ]
  },
  {
   "cell_type": "code",
   "execution_count": 26,
   "id": "947ca629",
   "metadata": {},
   "outputs": [
    {
     "name": "stdout",
     "output_type": "stream",
     "text": [
      "423\n"
     ]
    }
   ],
   "source": [
    "pr18 = driver.find_elements(By.XPATH,'//div[@class=\"ProductCard_description__BQzle\"]')\n",
    "\n",
    "for i in pr18:\n",
    "    productname.append(i.text)\n",
    "print(len(productname))"
   ]
  },
  {
   "cell_type": "code",
   "execution_count": 27,
   "id": "e68156ae",
   "metadata": {},
   "outputs": [
    {
     "name": "stdout",
     "output_type": "stream",
     "text": [
      "423\n"
     ]
    }
   ],
   "source": [
    "pr19 = driver.find_elements(By.XPATH,'//div[@class=\"ProductCard_title__9M6wy\"]')\n",
    "for i in pr19:\n",
    "    producttype.append(i.text)\n",
    "print(len(producttype))"
   ]
  },
  {
   "cell_type": "code",
   "execution_count": 28,
   "id": "be959ae3",
   "metadata": {},
   "outputs": [
    {
     "name": "stdout",
     "output_type": "stream",
     "text": [
      "423\n"
     ]
    }
   ],
   "source": [
    "pr21 = driver.find_elements(By.XPATH,'//span[@class=\"price\"]')\n",
    "for i in pr21:\n",
    "    prices.append(i.text)\n",
    "print(len(prices))"
   ]
  },
  {
   "cell_type": "code",
   "execution_count": 29,
   "id": "71c0f838",
   "metadata": {},
   "outputs": [
    {
     "name": "stdout",
     "output_type": "stream",
     "text": [
      "423\n"
     ]
    }
   ],
   "source": [
    "pr22 = driver.find_elements(By.XPATH,'//div[@class=\"ProductCard_productColorText___jpq0\"]')\n",
    "\n",
    "for i in pr22:\n",
    "    color.append(i.text)\n",
    "print(len(color))"
   ]
  },
  {
   "cell_type": "code",
   "execution_count": 30,
   "id": "179532b3",
   "metadata": {},
   "outputs": [
    {
     "name": "stdout",
     "output_type": "stream",
     "text": [
      "423\n"
     ]
    }
   ],
   "source": [
    "x5 = 'bottomwear'\n",
    "for i in range(160):\n",
    "    Weartype.append(x5)\n",
    "print(len(Weartype))"
   ]
  },
  {
   "cell_type": "code",
   "execution_count": 31,
   "id": "0e41c553",
   "metadata": {},
   "outputs": [
    {
     "name": "stdout",
     "output_type": "stream",
     "text": [
      "493\n"
     ]
    }
   ],
   "source": [
    "pr23 = driver.find_elements(By.XPATH,'//div[@class=\"ProductCard_description__BQzle\"]')\n",
    "\n",
    "for i in pr23:\n",
    "    productname.append(i.text)\n",
    "print(len(productname))"
   ]
  },
  {
   "cell_type": "code",
   "execution_count": 32,
   "id": "e50b4f9f",
   "metadata": {},
   "outputs": [
    {
     "name": "stdout",
     "output_type": "stream",
     "text": [
      "493\n"
     ]
    }
   ],
   "source": [
    "pr24 = driver.find_elements(By.XPATH,'//div[@class=\"ProductCard_title__9M6wy\"]')\n",
    "for i in pr24:\n",
    "    producttype.append(i.text)\n",
    "print(len(producttype))"
   ]
  },
  {
   "cell_type": "code",
   "execution_count": 33,
   "id": "cc8fb196",
   "metadata": {},
   "outputs": [
    {
     "name": "stdout",
     "output_type": "stream",
     "text": [
      "493\n"
     ]
    }
   ],
   "source": [
    "pr25 = driver.find_elements(By.XPATH,'//span[@class=\"price\"]')\n",
    "for i in pr25:\n",
    "    prices.append(i.text)\n",
    "print(len(prices))"
   ]
  },
  {
   "cell_type": "code",
   "execution_count": 34,
   "id": "43fda02a",
   "metadata": {},
   "outputs": [
    {
     "name": "stdout",
     "output_type": "stream",
     "text": [
      "493\n"
     ]
    }
   ],
   "source": [
    "pr26 = driver.find_elements(By.XPATH,'//span[@class=\"ProductCard_colorOption__Lss5h undefined \"]')\n",
    "\n",
    "for i in pr26:\n",
    "    color.append(i.text)\n",
    "print(len(color))"
   ]
  },
  {
   "cell_type": "code",
   "execution_count": 35,
   "id": "4cc8d25b",
   "metadata": {},
   "outputs": [
    {
     "name": "stdout",
     "output_type": "stream",
     "text": [
      "493\n"
     ]
    }
   ],
   "source": [
    "x5 = 'topwear'\n",
    "for i in range(70):\n",
    "    Weartype.append(x5)\n",
    "print(len(Weartype))"
   ]
  },
  {
   "cell_type": "code",
   "execution_count": 36,
   "id": "4d28c587",
   "metadata": {},
   "outputs": [
    {
     "name": "stdout",
     "output_type": "stream",
     "text": [
      "565\n"
     ]
    }
   ],
   "source": [
    "pr27 = driver.find_elements(By.XPATH,'//div[@class=\"ProductCard_description__BQzle\"]')\n",
    "\n",
    "for i in pr27:\n",
    "    productname.append(i.text)\n",
    "print(len(productname))"
   ]
  },
  {
   "cell_type": "code",
   "execution_count": 37,
   "id": "638363d5",
   "metadata": {},
   "outputs": [
    {
     "name": "stdout",
     "output_type": "stream",
     "text": [
      "565\n"
     ]
    }
   ],
   "source": [
    "pr28 = driver.find_elements(By.XPATH,'//div[@class=\"ProductCard_title__9M6wy\"]')\n",
    "for i in pr28:\n",
    "    producttype.append(i.text)\n",
    "print(len(producttype))"
   ]
  },
  {
   "cell_type": "code",
   "execution_count": 38,
   "id": "8feb5a1f",
   "metadata": {},
   "outputs": [
    {
     "name": "stdout",
     "output_type": "stream",
     "text": [
      "565\n"
     ]
    }
   ],
   "source": [
    "pr29 = driver.find_elements(By.XPATH,'//span[@class=\"price\"]')\n",
    "for i in pr29:\n",
    "    prices.append(i.text)\n",
    "print(len(prices))"
   ]
  },
  {
   "cell_type": "code",
   "execution_count": 39,
   "id": "3e9b3107",
   "metadata": {},
   "outputs": [
    {
     "name": "stdout",
     "output_type": "stream",
     "text": [
      "565\n"
     ]
    }
   ],
   "source": [
    "pr30 = driver.find_elements(By.XPATH,'//span[@class=\"ProductCard_colorOption__Lss5h undefined \"]')\n",
    "\n",
    "for i in pr30:\n",
    "    color.append(i.text)\n",
    "print(len(color))"
   ]
  },
  {
   "cell_type": "code",
   "execution_count": 40,
   "id": "9f2cacd3",
   "metadata": {},
   "outputs": [
    {
     "name": "stdout",
     "output_type": "stream",
     "text": [
      "565\n"
     ]
    }
   ],
   "source": [
    "x55 = 'bottomwear'\n",
    "for i in range(72):\n",
    "    Weartype.append(x55)\n",
    "print(len(Weartype))"
   ]
  },
  {
   "cell_type": "code",
   "execution_count": 41,
   "id": "96d1fefb",
   "metadata": {},
   "outputs": [
    {
     "name": "stdout",
     "output_type": "stream",
     "text": [
      "565\n"
     ]
    }
   ],
   "source": [
    "x3 = 'casual'\n",
    "for i in range(353):\n",
    "    Occation.append(x3)\n",
    "print(len(Occation))"
   ]
  },
  {
   "cell_type": "code",
   "execution_count": 42,
   "id": "c72c0eae",
   "metadata": {},
   "outputs": [
    {
     "name": "stdout",
     "output_type": "stream",
     "text": [
      "565\n"
     ]
    }
   ],
   "source": [
    "x2 = 'peter england'\n",
    "for i in range(353):\n",
    "    brand_names.append(x2)\n",
    "print(len(brand_names)) "
   ]
  },
  {
   "cell_type": "code",
   "execution_count": 43,
   "id": "5f928713",
   "metadata": {},
   "outputs": [
    {
     "name": "stdout",
     "output_type": "stream",
     "text": [
      "565\n"
     ]
    }
   ],
   "source": [
    "x= 'men'\n",
    "for i in range(469):\n",
    "    category.append(x)\n",
    "print(len(category))"
   ]
  },
  {
   "cell_type": "code",
   "execution_count": 44,
   "id": "5944521f",
   "metadata": {},
   "outputs": [],
   "source": [
    "driver.close()"
   ]
  },
  {
   "cell_type": "code",
   "execution_count": 45,
   "id": "60f55159",
   "metadata": {},
   "outputs": [],
   "source": [
    "data1 = {'productname':productname, 'brand_names':brand_names, 'prices':prices, 'producttype': producttype,\n",
    "         'category':category, 'Occation':Occation, 'Weartype': Weartype}"
   ]
  },
  {
   "cell_type": "code",
   "execution_count": 46,
   "id": "942c5973",
   "metadata": {},
   "outputs": [
    {
     "data": {
      "text/html": [
       "<div>\n",
       "<style scoped>\n",
       "    .dataframe tbody tr th:only-of-type {\n",
       "        vertical-align: middle;\n",
       "    }\n",
       "\n",
       "    .dataframe tbody tr th {\n",
       "        vertical-align: top;\n",
       "    }\n",
       "\n",
       "    .dataframe thead th {\n",
       "        text-align: right;\n",
       "    }\n",
       "</style>\n",
       "<table border=\"1\" class=\"dataframe\">\n",
       "  <thead>\n",
       "    <tr style=\"text-align: right;\">\n",
       "      <th></th>\n",
       "      <th>productname</th>\n",
       "      <th>brand_names</th>\n",
       "      <th>prices</th>\n",
       "      <th>producttype</th>\n",
       "      <th>category</th>\n",
       "      <th>Occation</th>\n",
       "      <th>Weartype</th>\n",
       "    </tr>\n",
       "  </thead>\n",
       "  <tbody>\n",
       "    <tr>\n",
       "      <th>0</th>\n",
       "      <td>Men Purple Regular Fit Formal Full Sleeves For...</td>\n",
       "      <td>peter england</td>\n",
       "      <td>₹ 1,199</td>\n",
       "      <td>FORMAL SHIRTS</td>\n",
       "      <td>men</td>\n",
       "      <td>casual</td>\n",
       "      <td>topwear</td>\n",
       "    </tr>\n",
       "    <tr>\n",
       "      <th>1</th>\n",
       "      <td>Men Pink Super Slim Fit Formal Full Sleeves Fo...</td>\n",
       "      <td>peter england</td>\n",
       "      <td>₹ 2,299</td>\n",
       "      <td>FORMAL SHIRTS</td>\n",
       "      <td>men</td>\n",
       "      <td>casual</td>\n",
       "      <td>topwear</td>\n",
       "    </tr>\n",
       "    <tr>\n",
       "      <th>2</th>\n",
       "      <td>Men Blue Athletic Fit Formal Full Sleeves Form...</td>\n",
       "      <td>peter england</td>\n",
       "      <td>₹ 1,599</td>\n",
       "      <td>FORMAL SHIRTS</td>\n",
       "      <td>men</td>\n",
       "      <td>casual</td>\n",
       "      <td>topwear</td>\n",
       "    </tr>\n",
       "    <tr>\n",
       "      <th>3</th>\n",
       "      <td>Men Black Super Slim Fit Formal Full Sleeves F...</td>\n",
       "      <td>peter england</td>\n",
       "      <td>₹ 1,999</td>\n",
       "      <td>FORMAL SHIRTS</td>\n",
       "      <td>men</td>\n",
       "      <td>casual</td>\n",
       "      <td>topwear</td>\n",
       "    </tr>\n",
       "    <tr>\n",
       "      <th>4</th>\n",
       "      <td>Men White Regular Fit Formal Full Sleeves Form...</td>\n",
       "      <td>peter england</td>\n",
       "      <td>₹ 1,199</td>\n",
       "      <td>FORMAL SHIRTS</td>\n",
       "      <td>men</td>\n",
       "      <td>casual</td>\n",
       "      <td>topwear</td>\n",
       "    </tr>\n",
       "    <tr>\n",
       "      <th>...</th>\n",
       "      <td>...</td>\n",
       "      <td>...</td>\n",
       "      <td>...</td>\n",
       "      <td>...</td>\n",
       "      <td>...</td>\n",
       "      <td>...</td>\n",
       "      <td>...</td>\n",
       "    </tr>\n",
       "    <tr>\n",
       "      <th>560</th>\n",
       "      <td>Men BrownPrint Casual Track Pants</td>\n",
       "      <td>peter england</td>\n",
       "      <td>₹ 1,119</td>\n",
       "      <td>TRACK PANTS</td>\n",
       "      <td>men</td>\n",
       "      <td>casual</td>\n",
       "      <td>bottomwear</td>\n",
       "    </tr>\n",
       "    <tr>\n",
       "      <th>561</th>\n",
       "      <td>Men OliveSolid Casual Track Pants</td>\n",
       "      <td>peter england</td>\n",
       "      <td>₹ 1,799</td>\n",
       "      <td>TRACK PANTS</td>\n",
       "      <td>men</td>\n",
       "      <td>casual</td>\n",
       "      <td>bottomwear</td>\n",
       "    </tr>\n",
       "    <tr>\n",
       "      <th>562</th>\n",
       "      <td>Men GreyStripe Casual Track Pants</td>\n",
       "      <td>peter england</td>\n",
       "      <td>₹ 1,599</td>\n",
       "      <td>TRACK PANTS</td>\n",
       "      <td>men</td>\n",
       "      <td>casual</td>\n",
       "      <td>bottomwear</td>\n",
       "    </tr>\n",
       "    <tr>\n",
       "      <th>563</th>\n",
       "      <td>Men GreyPrint Casual Track Pants</td>\n",
       "      <td>peter england</td>\n",
       "      <td>₹ 1,599</td>\n",
       "      <td>TRACK PANTS</td>\n",
       "      <td>men</td>\n",
       "      <td>casual</td>\n",
       "      <td>bottomwear</td>\n",
       "    </tr>\n",
       "    <tr>\n",
       "      <th>564</th>\n",
       "      <td>Men NavyGraphic Print Casual Track Pants</td>\n",
       "      <td>peter england</td>\n",
       "      <td>₹ 1,999</td>\n",
       "      <td>TRACK PANTS</td>\n",
       "      <td>men</td>\n",
       "      <td>casual</td>\n",
       "      <td>bottomwear</td>\n",
       "    </tr>\n",
       "  </tbody>\n",
       "</table>\n",
       "<p>565 rows × 7 columns</p>\n",
       "</div>"
      ],
      "text/plain": [
       "                                           productname    brand_names  \\\n",
       "0    Men Purple Regular Fit Formal Full Sleeves For...  peter england   \n",
       "1    Men Pink Super Slim Fit Formal Full Sleeves Fo...  peter england   \n",
       "2    Men Blue Athletic Fit Formal Full Sleeves Form...  peter england   \n",
       "3    Men Black Super Slim Fit Formal Full Sleeves F...  peter england   \n",
       "4    Men White Regular Fit Formal Full Sleeves Form...  peter england   \n",
       "..                                                 ...            ...   \n",
       "560                  Men BrownPrint Casual Track Pants  peter england   \n",
       "561                  Men OliveSolid Casual Track Pants  peter england   \n",
       "562                  Men GreyStripe Casual Track Pants  peter england   \n",
       "563                   Men GreyPrint Casual Track Pants  peter england   \n",
       "564           Men NavyGraphic Print Casual Track Pants  peter england   \n",
       "\n",
       "      prices    producttype category Occation    Weartype  \n",
       "0    ₹ 1,199  FORMAL SHIRTS      men   casual     topwear  \n",
       "1    ₹ 2,299  FORMAL SHIRTS      men   casual     topwear  \n",
       "2    ₹ 1,599  FORMAL SHIRTS      men   casual     topwear  \n",
       "3    ₹ 1,999  FORMAL SHIRTS      men   casual     topwear  \n",
       "4    ₹ 1,199  FORMAL SHIRTS      men   casual     topwear  \n",
       "..       ...            ...      ...      ...         ...  \n",
       "560  ₹ 1,119    TRACK PANTS      men   casual  bottomwear  \n",
       "561  ₹ 1,799    TRACK PANTS      men   casual  bottomwear  \n",
       "562  ₹ 1,599    TRACK PANTS      men   casual  bottomwear  \n",
       "563  ₹ 1,599    TRACK PANTS      men   casual  bottomwear  \n",
       "564  ₹ 1,999    TRACK PANTS      men   casual  bottomwear  \n",
       "\n",
       "[565 rows x 7 columns]"
      ]
     },
     "execution_count": 46,
     "metadata": {},
     "output_type": "execute_result"
    }
   ],
   "source": [
    "df1 = pd.DataFrame(data1)\n",
    "df1"
   ]
  },
  {
   "cell_type": "code",
   "execution_count": 47,
   "id": "fba0dd06",
   "metadata": {},
   "outputs": [],
   "source": [
    "df1.to_csv('datafame1.csv')"
   ]
  },
  {
   "cell_type": "code",
   "execution_count": 2,
   "id": "95bc9156",
   "metadata": {},
   "outputs": [],
   "source": [
    "driver1 = webdriver.Chrome()\n",
    "driver1.get('https://www.montecarlo.in/')"
   ]
  },
  {
   "cell_type": "code",
   "execution_count": 3,
   "id": "3ba740b9",
   "metadata": {},
   "outputs": [],
   "source": [
    "productname = []"
   ]
  },
  {
   "cell_type": "code",
   "execution_count": 12,
   "id": "fdbaf191",
   "metadata": {},
   "outputs": [],
   "source": [
    "driver1.refresh()"
   ]
  },
  {
   "cell_type": "code",
   "execution_count": 4,
   "id": "c25d9ecd",
   "metadata": {},
   "outputs": [],
   "source": [
    "start = 0\n",
    "end = 3\n",
    "for page in range(start,end):\n",
    "    item= driver1.find_elements(By.XPATH,'//a[@class=\"product-item-meta__title\"]')\n",
    "    for i in item:\n",
    "        productname.append(i.text)\n",
    "    next1 = driver1.find_element(By.CLASS_NAME,\"pagination__nav-item\")\n",
    "    next1.click()\n",
    "    time.sleep(3)"
   ]
  },
  {
   "cell_type": "code",
   "execution_count": 5,
   "id": "39640a1c",
   "metadata": {},
   "outputs": [
    {
     "data": {
      "text/plain": [
       "144"
      ]
     },
     "execution_count": 5,
     "metadata": {},
     "output_type": "execute_result"
    }
   ],
   "source": [
    "len(productname)"
   ]
  },
  {
   "cell_type": "code",
   "execution_count": 6,
   "id": "137057a6",
   "metadata": {},
   "outputs": [],
   "source": [
    "prices=[]"
   ]
  },
  {
   "cell_type": "code",
   "execution_count": 7,
   "id": "6e937cc6",
   "metadata": {},
   "outputs": [],
   "source": [
    "start = 0\n",
    "end = 3\n",
    "for page in range(start,end):\n",
    "    item1= driver1.find_elements(By.XPATH,'//span[@class=\"price price--highlight\"]')\n",
    "    for i in item1:\n",
    "        prices.append(i.text)\n",
    "    next_1 = driver1.find_element(By.CLASS_NAME,'pagination__nav-item')\n",
    "    next_1.click()\n",
    "    time.sleep(3)"
   ]
  },
  {
   "cell_type": "code",
   "execution_count": 8,
   "id": "d7fc3746",
   "metadata": {},
   "outputs": [
    {
     "name": "stdout",
     "output_type": "stream",
     "text": [
      "144\n"
     ]
    }
   ],
   "source": [
    "print(len(prices))"
   ]
  },
  {
   "cell_type": "code",
   "execution_count": 9,
   "id": "a80f649e",
   "metadata": {},
   "outputs": [
    {
     "name": "stdout",
     "output_type": "stream",
     "text": [
      "144\n"
     ]
    }
   ],
   "source": [
    "brand_names = []\n",
    "s= 'monte carlo'\n",
    "for i in range(144):\n",
    "    brand_names.append(s)\n",
    "print(len(brand_names))    "
   ]
  },
  {
   "cell_type": "code",
   "execution_count": 11,
   "id": "371f54f4",
   "metadata": {},
   "outputs": [
    {
     "name": "stdout",
     "output_type": "stream",
     "text": [
      "144\n"
     ]
    }
   ],
   "source": [
    "country_of_origin = []\n",
    "s1 = 'india'\n",
    "for i in range(144):\n",
    "    country_of_origin.append(s1)\n",
    "print(len(country_of_origin))    "
   ]
  },
  {
   "cell_type": "code",
   "execution_count": 12,
   "id": "bdcba859",
   "metadata": {},
   "outputs": [
    {
     "name": "stdout",
     "output_type": "stream",
     "text": [
      "144\n"
     ]
    }
   ],
   "source": [
    "category = []\n",
    "s3 = 'men'\n",
    "for i in range(144):\n",
    "    category.append(s3)\n",
    "print(len(category))    "
   ]
  },
  {
   "cell_type": "code",
   "execution_count": 13,
   "id": "5280342e",
   "metadata": {},
   "outputs": [
    {
     "name": "stdout",
     "output_type": "stream",
     "text": [
      "144\n"
     ]
    }
   ],
   "source": [
    "return_time = []\n",
    "s4='7 days'\n",
    "for i in range(144):\n",
    "    return_time.append(s4)\n",
    "print(len(return_time))    "
   ]
  },
  {
   "cell_type": "code",
   "execution_count": 15,
   "id": "9be36b88",
   "metadata": {},
   "outputs": [
    {
     "name": "stdout",
     "output_type": "stream",
     "text": [
      "144\n"
     ]
    }
   ],
   "source": [
    "Weartype=[]\n",
    "s5='topwear'\n",
    "for i in range(144):\n",
    "    Weartype.append(s5)\n",
    "print(len(Weartype))    "
   ]
  },
  {
   "cell_type": "code",
   "execution_count": 17,
   "id": "092392ca",
   "metadata": {},
   "outputs": [],
   "source": [
    "start = 0\n",
    "end = 3\n",
    "for page in range(start,end):\n",
    "    item1= driver1.find_elements(By.XPATH,'//a[@class=\"product-item-meta__title\"]')\n",
    "    for i in item1:\n",
    "        productname.append(i.text)\n",
    "    next2 = driver1.find_element(By.CLASS_NAME,\"pagination__nav-item\")\n",
    "    next2.click()\n",
    "    time.sleep(3)"
   ]
  },
  {
   "cell_type": "code",
   "execution_count": 18,
   "id": "91922c23",
   "metadata": {},
   "outputs": [
    {
     "name": "stdout",
     "output_type": "stream",
     "text": [
      "336\n"
     ]
    }
   ],
   "source": [
    "print(len(productname))"
   ]
  },
  {
   "cell_type": "code",
   "execution_count": 19,
   "id": "cbd0326f",
   "metadata": {},
   "outputs": [],
   "source": [
    "start = 0\n",
    "end = 3\n",
    "for page in range(start,end):\n",
    "    item3= driver1.find_elements(By.XPATH,'//span[@class=\"price price--highlight\"]')\n",
    "    for i in item3:\n",
    "        prices.append(i.text)\n",
    "    next_2 = driver1.find_element(By.CLASS_NAME,'pagination__nav-item')\n",
    "    next_2.click()\n",
    "    time.sleep(3)"
   ]
  },
  {
   "cell_type": "code",
   "execution_count": 21,
   "id": "39d335e1",
   "metadata": {},
   "outputs": [
    {
     "name": "stdout",
     "output_type": "stream",
     "text": [
      "288\n"
     ]
    }
   ],
   "source": [
    "print(len(prices))"
   ]
  },
  {
   "cell_type": "code",
   "execution_count": 22,
   "id": "fc1afb9b",
   "metadata": {},
   "outputs": [
    {
     "name": "stdout",
     "output_type": "stream",
     "text": [
      "336\n"
     ]
    }
   ],
   "source": [
    "item5 = driver1.find_elements(By.XPATH,'//span[@class=\"price price--highlight\"]')\n",
    "for i in item5:\n",
    "    prices.append(i.text)\n",
    "print(len(prices))    "
   ]
  },
  {
   "cell_type": "code",
   "execution_count": 23,
   "id": "17f414f5",
   "metadata": {},
   "outputs": [
    {
     "name": "stdout",
     "output_type": "stream",
     "text": [
      "336\n"
     ]
    }
   ],
   "source": [
    "producttype=[]\n",
    "s6='Half Sleeve T-Shirt'\n",
    "for i in range(336):\n",
    "    producttype.append(s6)\n",
    "print(len(producttype))    \n"
   ]
  },
  {
   "cell_type": "code",
   "execution_count": 25,
   "id": "c8704950",
   "metadata": {},
   "outputs": [
    {
     "name": "stdout",
     "output_type": "stream",
     "text": [
      "336\n"
     ]
    }
   ],
   "source": [
    "s3 = 'men'\n",
    "for i in range(192):\n",
    "    category.append(s3)\n",
    "print(len(category))"
   ]
  },
  {
   "cell_type": "code",
   "execution_count": 26,
   "id": "dffdad6b",
   "metadata": {},
   "outputs": [
    {
     "name": "stdout",
     "output_type": "stream",
     "text": [
      "336\n"
     ]
    }
   ],
   "source": [
    "s= 'monte carlo'\n",
    "for i in range(192):\n",
    "    brand_names.append(s)\n",
    "print(len(brand_names))"
   ]
  },
  {
   "cell_type": "code",
   "execution_count": 27,
   "id": "5bde986e",
   "metadata": {},
   "outputs": [
    {
     "name": "stdout",
     "output_type": "stream",
     "text": [
      "336\n"
     ]
    }
   ],
   "source": [
    "s1 = 'india'\n",
    "for i in range(192):\n",
    "    country_of_origin.append(s1)\n",
    "print(len(country_of_origin)) "
   ]
  },
  {
   "cell_type": "code",
   "execution_count": 28,
   "id": "c34d2ca6",
   "metadata": {},
   "outputs": [
    {
     "name": "stdout",
     "output_type": "stream",
     "text": [
      "336\n"
     ]
    }
   ],
   "source": [
    "s4='7 days'\n",
    "for i in range(192):\n",
    "    return_time.append(s4)\n",
    "print(len(return_time))"
   ]
  },
  {
   "cell_type": "code",
   "execution_count": 29,
   "id": "4228eceb",
   "metadata": {},
   "outputs": [
    {
     "name": "stdout",
     "output_type": "stream",
     "text": [
      "336\n"
     ]
    }
   ],
   "source": [
    "s5='topwear'\n",
    "for i in range(192):\n",
    "    Weartype.append(s5)\n",
    "print(len(Weartype))"
   ]
  },
  {
   "cell_type": "code",
   "execution_count": 30,
   "id": "dee72bd4",
   "metadata": {},
   "outputs": [
    {
     "name": "stdout",
     "output_type": "stream",
     "text": [
      "336\n"
     ]
    }
   ],
   "source": [
    "Occation=[]\n",
    "h ='casual'\n",
    "for i in range(336):\n",
    "    Occation.append(h)\n",
    "print(len(Occation))    "
   ]
  },
  {
   "cell_type": "code",
   "execution_count": 32,
   "id": "899a0e06",
   "metadata": {},
   "outputs": [],
   "source": [
    "data3= {'productname':productname, 'prices':prices, 'producttype':producttype, 'category':category, 'brand_names':brand_names,\n",
    "         'country_of_origin':country_of_origin, 'Weartype':Weartype,'return_time':return_time,'Occation':Occation}"
   ]
  },
  {
   "cell_type": "code",
   "execution_count": 33,
   "id": "1920de06",
   "metadata": {},
   "outputs": [
    {
     "data": {
      "text/html": [
       "<div>\n",
       "<style scoped>\n",
       "    .dataframe tbody tr th:only-of-type {\n",
       "        vertical-align: middle;\n",
       "    }\n",
       "\n",
       "    .dataframe tbody tr th {\n",
       "        vertical-align: top;\n",
       "    }\n",
       "\n",
       "    .dataframe thead th {\n",
       "        text-align: right;\n",
       "    }\n",
       "</style>\n",
       "<table border=\"1\" class=\"dataframe\">\n",
       "  <thead>\n",
       "    <tr style=\"text-align: right;\">\n",
       "      <th></th>\n",
       "      <th>productname</th>\n",
       "      <th>prices</th>\n",
       "      <th>producttype</th>\n",
       "      <th>category</th>\n",
       "      <th>brand_names</th>\n",
       "      <th>country_of_origin</th>\n",
       "      <th>Weartype</th>\n",
       "      <th>return_time</th>\n",
       "      <th>Occation</th>\n",
       "    </tr>\n",
       "  </thead>\n",
       "  <tbody>\n",
       "    <tr>\n",
       "      <th>0</th>\n",
       "      <td>Men Grey Stripe Polo Collar Half Slee...</td>\n",
       "      <td>Sale price\\nRs. 1,695</td>\n",
       "      <td>Half Sleeve T-Shirt</td>\n",
       "      <td>men</td>\n",
       "      <td>monte carlo</td>\n",
       "      <td>india</td>\n",
       "      <td>topwear</td>\n",
       "      <td>7 days</td>\n",
       "      <td>casual</td>\n",
       "    </tr>\n",
       "    <tr>\n",
       "      <th>1</th>\n",
       "      <td>Men Pink Stripe Polo Collar Half Slee...</td>\n",
       "      <td>Sale price\\nRs. 1,345</td>\n",
       "      <td>Half Sleeve T-Shirt</td>\n",
       "      <td>men</td>\n",
       "      <td>monte carlo</td>\n",
       "      <td>india</td>\n",
       "      <td>topwear</td>\n",
       "      <td>7 days</td>\n",
       "      <td>casual</td>\n",
       "    </tr>\n",
       "    <tr>\n",
       "      <th>2</th>\n",
       "      <td>Men Lime Green Solid Polo Collar Half...</td>\n",
       "      <td>Sale price\\nRs. 1,190</td>\n",
       "      <td>Half Sleeve T-Shirt</td>\n",
       "      <td>men</td>\n",
       "      <td>monte carlo</td>\n",
       "      <td>india</td>\n",
       "      <td>topwear</td>\n",
       "      <td>7 days</td>\n",
       "      <td>casual</td>\n",
       "    </tr>\n",
       "    <tr>\n",
       "      <th>3</th>\n",
       "      <td>Men Turquoise Blue Stripe Polo Collar...</td>\n",
       "      <td>Sale price\\nRs. 1,490</td>\n",
       "      <td>Half Sleeve T-Shirt</td>\n",
       "      <td>men</td>\n",
       "      <td>monte carlo</td>\n",
       "      <td>india</td>\n",
       "      <td>topwear</td>\n",
       "      <td>7 days</td>\n",
       "      <td>casual</td>\n",
       "    </tr>\n",
       "    <tr>\n",
       "      <th>4</th>\n",
       "      <td>Men Charcoal Stripe Polo Collar Half ...</td>\n",
       "      <td>Sale price\\nRs. 1,490</td>\n",
       "      <td>Half Sleeve T-Shirt</td>\n",
       "      <td>men</td>\n",
       "      <td>monte carlo</td>\n",
       "      <td>india</td>\n",
       "      <td>topwear</td>\n",
       "      <td>7 days</td>\n",
       "      <td>casual</td>\n",
       "    </tr>\n",
       "    <tr>\n",
       "      <th>...</th>\n",
       "      <td>...</td>\n",
       "      <td>...</td>\n",
       "      <td>...</td>\n",
       "      <td>...</td>\n",
       "      <td>...</td>\n",
       "      <td>...</td>\n",
       "      <td>...</td>\n",
       "      <td>...</td>\n",
       "      <td>...</td>\n",
       "    </tr>\n",
       "    <tr>\n",
       "      <th>331</th>\n",
       "      <td>Men Blue Jaquard T-Shirt</td>\n",
       "      <td>Sale price\\nRs. 1,190</td>\n",
       "      <td>Half Sleeve T-Shirt</td>\n",
       "      <td>men</td>\n",
       "      <td>monte carlo</td>\n",
       "      <td>india</td>\n",
       "      <td>topwear</td>\n",
       "      <td>7 days</td>\n",
       "      <td>casual</td>\n",
       "    </tr>\n",
       "    <tr>\n",
       "      <th>332</th>\n",
       "      <td>Men Blue Printed T-Shirt</td>\n",
       "      <td>Sale price\\nRs. 945</td>\n",
       "      <td>Half Sleeve T-Shirt</td>\n",
       "      <td>men</td>\n",
       "      <td>monte carlo</td>\n",
       "      <td>india</td>\n",
       "      <td>topwear</td>\n",
       "      <td>7 days</td>\n",
       "      <td>casual</td>\n",
       "    </tr>\n",
       "    <tr>\n",
       "      <th>333</th>\n",
       "      <td>Men Blue Printed T-Shirt</td>\n",
       "      <td>Sale price\\nRs. 990</td>\n",
       "      <td>Half Sleeve T-Shirt</td>\n",
       "      <td>men</td>\n",
       "      <td>monte carlo</td>\n",
       "      <td>india</td>\n",
       "      <td>topwear</td>\n",
       "      <td>7 days</td>\n",
       "      <td>casual</td>\n",
       "    </tr>\n",
       "    <tr>\n",
       "      <th>334</th>\n",
       "      <td>Men Grey Printed T-Shirt</td>\n",
       "      <td>Sale price\\nRs. 990</td>\n",
       "      <td>Half Sleeve T-Shirt</td>\n",
       "      <td>men</td>\n",
       "      <td>monte carlo</td>\n",
       "      <td>india</td>\n",
       "      <td>topwear</td>\n",
       "      <td>7 days</td>\n",
       "      <td>casual</td>\n",
       "    </tr>\n",
       "    <tr>\n",
       "      <th>335</th>\n",
       "      <td>Men NAvy Blue Printed T-Shirt</td>\n",
       "      <td>Sale price\\nRs. 1,645</td>\n",
       "      <td>Half Sleeve T-Shirt</td>\n",
       "      <td>men</td>\n",
       "      <td>monte carlo</td>\n",
       "      <td>india</td>\n",
       "      <td>topwear</td>\n",
       "      <td>7 days</td>\n",
       "      <td>casual</td>\n",
       "    </tr>\n",
       "  </tbody>\n",
       "</table>\n",
       "<p>336 rows × 9 columns</p>\n",
       "</div>"
      ],
      "text/plain": [
       "                                  productname                 prices  \\\n",
       "0    Men Grey Stripe Polo Collar Half Slee...  Sale price\\nRs. 1,695   \n",
       "1    Men Pink Stripe Polo Collar Half Slee...  Sale price\\nRs. 1,345   \n",
       "2    Men Lime Green Solid Polo Collar Half...  Sale price\\nRs. 1,190   \n",
       "3    Men Turquoise Blue Stripe Polo Collar...  Sale price\\nRs. 1,490   \n",
       "4    Men Charcoal Stripe Polo Collar Half ...  Sale price\\nRs. 1,490   \n",
       "..                                        ...                    ...   \n",
       "331                  Men Blue Jaquard T-Shirt  Sale price\\nRs. 1,190   \n",
       "332                  Men Blue Printed T-Shirt    Sale price\\nRs. 945   \n",
       "333                  Men Blue Printed T-Shirt    Sale price\\nRs. 990   \n",
       "334                  Men Grey Printed T-Shirt    Sale price\\nRs. 990   \n",
       "335             Men NAvy Blue Printed T-Shirt  Sale price\\nRs. 1,645   \n",
       "\n",
       "             producttype category  brand_names country_of_origin Weartype  \\\n",
       "0    Half Sleeve T-Shirt      men  monte carlo             india  topwear   \n",
       "1    Half Sleeve T-Shirt      men  monte carlo             india  topwear   \n",
       "2    Half Sleeve T-Shirt      men  monte carlo             india  topwear   \n",
       "3    Half Sleeve T-Shirt      men  monte carlo             india  topwear   \n",
       "4    Half Sleeve T-Shirt      men  monte carlo             india  topwear   \n",
       "..                   ...      ...          ...               ...      ...   \n",
       "331  Half Sleeve T-Shirt      men  monte carlo             india  topwear   \n",
       "332  Half Sleeve T-Shirt      men  monte carlo             india  topwear   \n",
       "333  Half Sleeve T-Shirt      men  monte carlo             india  topwear   \n",
       "334  Half Sleeve T-Shirt      men  monte carlo             india  topwear   \n",
       "335  Half Sleeve T-Shirt      men  monte carlo             india  topwear   \n",
       "\n",
       "    return_time Occation  \n",
       "0        7 days   casual  \n",
       "1        7 days   casual  \n",
       "2        7 days   casual  \n",
       "3        7 days   casual  \n",
       "4        7 days   casual  \n",
       "..          ...      ...  \n",
       "331      7 days   casual  \n",
       "332      7 days   casual  \n",
       "333      7 days   casual  \n",
       "334      7 days   casual  \n",
       "335      7 days   casual  \n",
       "\n",
       "[336 rows x 9 columns]"
      ]
     },
     "execution_count": 33,
     "metadata": {},
     "output_type": "execute_result"
    }
   ],
   "source": [
    "df2 = pd.DataFrame(data3)\n",
    "df2"
   ]
  },
  {
   "cell_type": "code",
   "execution_count": 34,
   "id": "fa255a42",
   "metadata": {},
   "outputs": [],
   "source": [
    "df2.to_csv('datafame2.csv')"
   ]
  },
  {
   "cell_type": "code",
   "execution_count": 43,
   "id": "3f557afe",
   "metadata": {},
   "outputs": [],
   "source": [
    "driver= webdriver.Chrome()\n",
    "driver.get('https://www.biba.in/')"
   ]
  },
  {
   "cell_type": "code",
   "execution_count": 4,
   "id": "2dbf7073",
   "metadata": {},
   "outputs": [],
   "source": [
    "productnames=[]\n",
    "prices=[]\n",
    "producttype=[]\n",
    "colors=[]\n",
    "category=[]\n",
    "Occation=[]\n",
    "Weartype=[]\n",
    "brand_names=[]\n",
    "return_time=[]\n",
    "country_of_origin=[]\n",
    "materialtype=[]\n"
   ]
  },
  {
   "cell_type": "code",
   "execution_count": 6,
   "id": "a1b41fcf",
   "metadata": {
    "scrolled": true
   },
   "outputs": [
    {
     "name": "stdout",
     "output_type": "stream",
     "text": [
      "144\n"
     ]
    }
   ],
   "source": [
    "product2 = driver.find_elements(By.XPATH,'//a[@class=\"link d-lg-none\"]')\n",
    "\n",
    "for i in product2:\n",
    "    sampl2= i.text\n",
    "    productnames.append(sampl2)\n",
    "print(len(productnames))"
   ]
  },
  {
   "cell_type": "code",
   "execution_count": 7,
   "id": "650bf653",
   "metadata": {},
   "outputs": [
    {
     "name": "stdout",
     "output_type": "stream",
     "text": [
      "144\n"
     ]
    }
   ],
   "source": [
    "product3 = driver.find_elements(By.XPATH,'//span[@class=\"sales\"]')\n",
    "for i in product3:\n",
    "    re=i.text\n",
    "    prices.append(re)\n",
    "print(len(prices))    "
   ]
  },
  {
   "cell_type": "code",
   "execution_count": 8,
   "id": "d1235660",
   "metadata": {},
   "outputs": [
    {
     "name": "stdout",
     "output_type": "stream",
     "text": [
      "156\n"
     ]
    }
   ],
   "source": [
    "x = '15 days'\n",
    "for i in range(156):\n",
    "    return_time.append(x)\n",
    "print(len(return_time))    "
   ]
  },
  {
   "cell_type": "code",
   "execution_count": 9,
   "id": "37ba5c69",
   "metadata": {},
   "outputs": [],
   "source": [
    "links=[]"
   ]
  },
  {
   "cell_type": "code",
   "execution_count": 10,
   "id": "c8253c4c",
   "metadata": {},
   "outputs": [],
   "source": [
    "k = driver.find_elements(By.XPATH,'//a[@class=\"link d-lg-none\"]')\n",
    "\n",
    "for i in k:\n",
    "    red1 = i.get_attribute('href')\n",
    "    links.append(red1)"
   ]
  },
  {
   "cell_type": "code",
   "execution_count": 12,
   "id": "fce33991",
   "metadata": {},
   "outputs": [],
   "source": [
    "def item():\n",
    "    try:\n",
    "        g1= driver.find_element(By.XPATH,'//span[@class=\"features-lists-item-value\"]')\n",
    "        f0= g1.text\n",
    "    except Exception as e:\n",
    "        f0='not found'\n",
    "    return f0    "
   ]
  },
  {
   "cell_type": "code",
   "execution_count": 13,
   "id": "04f9a18f",
   "metadata": {},
   "outputs": [],
   "source": [
    "def color():\n",
    "    try:\n",
    "        c= driver.find_element(By.XPATH,'//span[@class=\"non-input-label color-name\"]')\n",
    "        f2=c.text\n",
    "    except Exception as e:\n",
    "        f2= 'nan'\n",
    "    return f2    "
   ]
  },
  {
   "cell_type": "code",
   "execution_count": 14,
   "id": "3c204cbb",
   "metadata": {},
   "outputs": [],
   "source": [
    "def material():\n",
    "    try:\n",
    "        d= driver.find_element(By.XPATH,'//li[@class=\"features-lists-item\"][7]/span')\n",
    "        f3=d.text\n",
    "    except Exception as e:\n",
    "        f3= 'nan'\n",
    "    return f3 "
   ]
  },
  {
   "cell_type": "code",
   "execution_count": 15,
   "id": "c36ca5a3",
   "metadata": {},
   "outputs": [],
   "source": [
    "for product in links:\n",
    "    driver.get(product)\n",
    "    time.sleep(2)\n",
    "    d2=item()\n",
    "    producttype.append(d2)\n",
    "    time.sleep(2)\n",
    "    d3=color()\n",
    "    colors.append(d3)\n",
    "    time.sleep(2)\n",
    "    d4=material()\n",
    "    materialtype.append(d4)\n",
    "driver.close()    "
   ]
  },
  {
   "cell_type": "code",
   "execution_count": 17,
   "id": "ab985efa",
   "metadata": {},
   "outputs": [
    {
     "name": "stdout",
     "output_type": "stream",
     "text": [
      "144\n"
     ]
    }
   ],
   "source": [
    "x= 'topwear'\n",
    "for i in range(144):\n",
    "    Weartype.append(x)\n",
    "print(len(Weartype))    "
   ]
  },
  {
   "cell_type": "code",
   "execution_count": 19,
   "id": "be888d96",
   "metadata": {},
   "outputs": [
    {
     "name": "stdout",
     "output_type": "stream",
     "text": [
      "246\n"
     ]
    }
   ],
   "source": [
    "product3 = driver.find_elements(By.XPATH,'//a[@class=\"link d-lg-none\"]')\n",
    "\n",
    "for i in product3:\n",
    "    sampl3= i.text\n",
    "    productnames.append(sampl3)\n",
    "print(len(productnames))"
   ]
  },
  {
   "cell_type": "code",
   "execution_count": 20,
   "id": "f124dc25",
   "metadata": {},
   "outputs": [
    {
     "name": "stdout",
     "output_type": "stream",
     "text": [
      "246\n"
     ]
    }
   ],
   "source": [
    "product5 = driver.find_elements(By.XPATH,'//span[@class=\"sales\"]')\n",
    "for i in product5:\n",
    "    re1=i.text\n",
    "    prices.append(re1)\n",
    "print(len(prices)) "
   ]
  },
  {
   "cell_type": "code",
   "execution_count": 23,
   "id": "a1246c41",
   "metadata": {},
   "outputs": [],
   "source": [
    "m = driver.find_elements(By.XPATH,'//a[@class=\"link d-lg-none\"]')\n",
    "\n",
    "for i in m:\n",
    "    red2 = i.get_attribute('href')\n",
    "    links.append(red2)"
   ]
  },
  {
   "cell_type": "code",
   "execution_count": 24,
   "id": "7b0791e6",
   "metadata": {},
   "outputs": [],
   "source": [
    "def item1():\n",
    "    try:\n",
    "        g2= driver.find_element(By.XPATH,'//span[@class=\"features-lists-item-value\"]')\n",
    "        f5= g2.text\n",
    "    except Exception as e:\n",
    "        f5='nan'\n",
    "    return f5"
   ]
  },
  {
   "cell_type": "code",
   "execution_count": 25,
   "id": "b5f335b4",
   "metadata": {},
   "outputs": [],
   "source": [
    "def material1():\n",
    "    try:\n",
    "        d1= driver.find_element(By.XPATH,'//li[@class=\"features-lists-item\"][4]/span')\n",
    "        f6=d1.text\n",
    "    except Exception as e:\n",
    "        f6= 'nan'\n",
    "    return f6 "
   ]
  },
  {
   "cell_type": "code",
   "execution_count": 38,
   "id": "1626a022",
   "metadata": {},
   "outputs": [],
   "source": [
    "def color():\n",
    "    try:\n",
    "        c1= driver.find_element(By.XPATH,'//span[@class=\"non-input-label color-name\"]')\n",
    "        f7=c1.text\n",
    "    except Exception as e:\n",
    "        f7= 'nan'\n",
    "    return f7 "
   ]
  },
  {
   "cell_type": "code",
   "execution_count": 29,
   "id": "ade14727",
   "metadata": {},
   "outputs": [
    {
     "name": "stdout",
     "output_type": "stream",
     "text": [
      "246\n"
     ]
    }
   ],
   "source": [
    "x1='palazzo'\n",
    "for i in range(31):\n",
    "    producttype.append(x1)\n",
    "print(len(producttype))    "
   ]
  },
  {
   "cell_type": "code",
   "execution_count": 33,
   "id": "fd5c1756",
   "metadata": {},
   "outputs": [],
   "source": [
    "x2='cotton'\n",
    "for i in range(31):\n",
    "    materialtype.append(x2)"
   ]
  },
  {
   "cell_type": "code",
   "execution_count": 35,
   "id": "23d3d6ed",
   "metadata": {},
   "outputs": [],
   "source": [
    "x3='Black'\n",
    "for i in range(31):\n",
    "    colors.append(x3)"
   ]
  },
  {
   "cell_type": "code",
   "execution_count": 39,
   "id": "aa01381d",
   "metadata": {},
   "outputs": [
    {
     "name": "stdout",
     "output_type": "stream",
     "text": [
      "246\n"
     ]
    }
   ],
   "source": [
    "a= 'india'\n",
    "for i in range(246):\n",
    "    country_of_origin.append(a)\n",
    "print(len(country_of_origin))    "
   ]
  },
  {
   "cell_type": "code",
   "execution_count": 40,
   "id": "fb0dc88b",
   "metadata": {},
   "outputs": [],
   "source": [
    "a1='Biba'\n",
    "for i in range(246):\n",
    "    brand_names.append(a1)"
   ]
  },
  {
   "cell_type": "code",
   "execution_count": 41,
   "id": "602b33f8",
   "metadata": {},
   "outputs": [],
   "source": [
    "a2='Regular'\n",
    "for i in range(246):\n",
    "    Occation.append(a2)"
   ]
  },
  {
   "cell_type": "code",
   "execution_count": 42,
   "id": "b3652be1",
   "metadata": {},
   "outputs": [
    {
     "name": "stdout",
     "output_type": "stream",
     "text": [
      "246\n"
     ]
    }
   ],
   "source": [
    "x= 'bottomwear'\n",
    "for i in range(102):\n",
    "    Weartype.append(x)\n",
    "print(len(Weartype))"
   ]
  },
  {
   "cell_type": "code",
   "execution_count": 44,
   "id": "7a63d41c",
   "metadata": {},
   "outputs": [
    {
     "name": "stdout",
     "output_type": "stream",
     "text": [
      "354\n"
     ]
    }
   ],
   "source": [
    "product6 = driver.find_elements(By.XPATH,'//a[@class=\"link d-lg-none\"]')\n",
    "\n",
    "for i in product6:\n",
    "    sampl4= i.text\n",
    "    productnames.append(sampl4)\n",
    "print(len(productnames))"
   ]
  },
  {
   "cell_type": "code",
   "execution_count": 45,
   "id": "1fda4b67",
   "metadata": {},
   "outputs": [
    {
     "name": "stdout",
     "output_type": "stream",
     "text": [
      "354\n"
     ]
    }
   ],
   "source": [
    "product7 = driver.find_elements(By.XPATH,'//span[@class=\"sales\"]')\n",
    "for i in product7:\n",
    "    re5=i.text\n",
    "    prices.append(re5)\n",
    "print(len(prices))"
   ]
  },
  {
   "cell_type": "code",
   "execution_count": 47,
   "id": "d8d96fcb",
   "metadata": {},
   "outputs": [],
   "source": [
    "m1 = driver.find_elements(By.XPATH,'//a[@class=\"link d-lg-none\"]')\n",
    "\n",
    "for i in m1:\n",
    "    red3 = i.get_attribute('href')\n",
    "    links.append(red3)"
   ]
  },
  {
   "cell_type": "code",
   "execution_count": 48,
   "id": "7a005c78",
   "metadata": {},
   "outputs": [],
   "source": [
    "def item2():\n",
    "    try:\n",
    "        g3= driver.find_element(By.XPATH,'//span[@class=\"features-lists-item-value\"]')\n",
    "        h= g3.text\n",
    "    except Exception as e:\n",
    "        h='nan'\n",
    "    return h"
   ]
  },
  {
   "cell_type": "code",
   "execution_count": 49,
   "id": "23322ba2",
   "metadata": {},
   "outputs": [],
   "source": [
    "def material2():\n",
    "    try:\n",
    "        t1= driver.find_element(By.XPATH,'//li[@class=\"features-lists-item\"][6]/span')\n",
    "        h1=t1.text\n",
    "    except Exception as e:\n",
    "        h1= 'nan'\n",
    "    return h1 "
   ]
  },
  {
   "cell_type": "code",
   "execution_count": 50,
   "id": "3b2b32b4",
   "metadata": {},
   "outputs": [],
   "source": [
    "def color2():\n",
    "    try:\n",
    "        c2= driver.find_element(By.XPATH,'//span[@class=\"non-input-label color-name\"]')\n",
    "        h2=c2.text\n",
    "    except Exception as e:\n",
    "        h2= 'nan'\n",
    "    return h2 "
   ]
  },
  {
   "cell_type": "code",
   "execution_count": 53,
   "id": "177072a4",
   "metadata": {},
   "outputs": [],
   "source": [
    "for product in links:\n",
    "    driver.get(product)\n",
    "    time.sleep(2)\n",
    "    m1=item2()\n",
    "    producttype.append(m1)\n",
    "    time.sleep(2)\n",
    "    m2=color2()\n",
    "    colors.append(m2)\n",
    "    time.sleep(2)\n",
    "    m3=material2()\n",
    "    materialtype.append(m3)\n",
    "driver.close() "
   ]
  },
  {
   "cell_type": "code",
   "execution_count": 54,
   "id": "ca73b188",
   "metadata": {},
   "outputs": [
    {
     "name": "stdout",
     "output_type": "stream",
     "text": [
      "354\n"
     ]
    }
   ],
   "source": [
    "a= 'india'\n",
    "for i in range(108):\n",
    "    country_of_origin.append(a)\n",
    "print(len(country_of_origin))"
   ]
  },
  {
   "cell_type": "code",
   "execution_count": 55,
   "id": "e2ec01a7",
   "metadata": {},
   "outputs": [],
   "source": [
    "a1='Biba'\n",
    "for i in range(108):\n",
    "    brand_names.append(a1)"
   ]
  },
  {
   "cell_type": "code",
   "execution_count": 56,
   "id": "84870833",
   "metadata": {},
   "outputs": [],
   "source": [
    "a2='Regular'\n",
    "for i in range(108):\n",
    "    Occation.append(a2)"
   ]
  },
  {
   "cell_type": "code",
   "execution_count": 57,
   "id": "15941e19",
   "metadata": {},
   "outputs": [
    {
     "name": "stdout",
     "output_type": "stream",
     "text": [
      "354\n"
     ]
    }
   ],
   "source": [
    "x= 'topwear'\n",
    "for i in range(108):\n",
    "    Weartype.append(x)\n",
    "print(len(Weartype))"
   ]
  },
  {
   "cell_type": "code",
   "execution_count": 59,
   "id": "12decc6e",
   "metadata": {},
   "outputs": [],
   "source": [
    "x3='woman'\n",
    "for i in range(354):\n",
    "    category.append(x3)"
   ]
  },
  {
   "cell_type": "code",
   "execution_count": 61,
   "id": "c52cee71",
   "metadata": {},
   "outputs": [],
   "source": [
    "x4='15 days'\n",
    "for i in range(198):\n",
    "    return_time.append(x4)"
   ]
  },
  {
   "cell_type": "code",
   "execution_count": 75,
   "id": "c1a7fd36",
   "metadata": {},
   "outputs": [],
   "source": [
    "data4= {'productname':productnames, 'prices':prices, 'producttype':producttype, 'category':category, 'brand_names':brand_names,\n",
    "         'country_of_origin':country_of_origin, 'Weartype':Weartype,'return_time':return_time,'Occation':Occation}"
   ]
  },
  {
   "cell_type": "code",
   "execution_count": 76,
   "id": "d20c840d",
   "metadata": {},
   "outputs": [
    {
     "data": {
      "text/html": [
       "<div>\n",
       "<style scoped>\n",
       "    .dataframe tbody tr th:only-of-type {\n",
       "        vertical-align: middle;\n",
       "    }\n",
       "\n",
       "    .dataframe tbody tr th {\n",
       "        vertical-align: top;\n",
       "    }\n",
       "\n",
       "    .dataframe thead th {\n",
       "        text-align: right;\n",
       "    }\n",
       "</style>\n",
       "<table border=\"1\" class=\"dataframe\">\n",
       "  <thead>\n",
       "    <tr style=\"text-align: right;\">\n",
       "      <th></th>\n",
       "      <th>productname</th>\n",
       "      <th>prices</th>\n",
       "      <th>producttype</th>\n",
       "      <th>category</th>\n",
       "      <th>brand_names</th>\n",
       "      <th>country_of_origin</th>\n",
       "      <th>Weartype</th>\n",
       "      <th>return_time</th>\n",
       "      <th>Occation</th>\n",
       "    </tr>\n",
       "  </thead>\n",
       "  <tbody>\n",
       "    <tr>\n",
       "      <th>0</th>\n",
       "      <td>Rust Cotton Flared Printed Short Kurti</td>\n",
       "      <td>₹900</td>\n",
       "      <td>Kurti</td>\n",
       "      <td>woman</td>\n",
       "      <td>Biba</td>\n",
       "      <td>india</td>\n",
       "      <td>topwear</td>\n",
       "      <td>15 days</td>\n",
       "      <td>Regular</td>\n",
       "    </tr>\n",
       "    <tr>\n",
       "      <th>1</th>\n",
       "      <td>Black Cotton Blend Printed Kurti</td>\n",
       "      <td>₹1,000</td>\n",
       "      <td>Kurti</td>\n",
       "      <td>woman</td>\n",
       "      <td>Biba</td>\n",
       "      <td>india</td>\n",
       "      <td>topwear</td>\n",
       "      <td>15 days</td>\n",
       "      <td>Regular</td>\n",
       "    </tr>\n",
       "    <tr>\n",
       "      <th>2</th>\n",
       "      <td>Black Woolen Short Yarndyed Kurti</td>\n",
       "      <td>₹900</td>\n",
       "      <td>Kurti</td>\n",
       "      <td>woman</td>\n",
       "      <td>Biba</td>\n",
       "      <td>india</td>\n",
       "      <td>topwear</td>\n",
       "      <td>15 days</td>\n",
       "      <td>Regular</td>\n",
       "    </tr>\n",
       "    <tr>\n",
       "      <th>3</th>\n",
       "      <td>Pink Woolen Short Yarndyed Kurti</td>\n",
       "      <td>₹900</td>\n",
       "      <td>Kurti</td>\n",
       "      <td>woman</td>\n",
       "      <td>Biba</td>\n",
       "      <td>india</td>\n",
       "      <td>topwear</td>\n",
       "      <td>15 days</td>\n",
       "      <td>Regular</td>\n",
       "    </tr>\n",
       "    <tr>\n",
       "      <th>4</th>\n",
       "      <td>Yellow Cotton Blend Printed Kurti</td>\n",
       "      <td>₹500</td>\n",
       "      <td>Kurti</td>\n",
       "      <td>woman</td>\n",
       "      <td>Biba</td>\n",
       "      <td>india</td>\n",
       "      <td>topwear</td>\n",
       "      <td>15 days</td>\n",
       "      <td>Regular</td>\n",
       "    </tr>\n",
       "    <tr>\n",
       "      <th>...</th>\n",
       "      <td>...</td>\n",
       "      <td>...</td>\n",
       "      <td>...</td>\n",
       "      <td>...</td>\n",
       "      <td>...</td>\n",
       "      <td>...</td>\n",
       "      <td>...</td>\n",
       "      <td>...</td>\n",
       "      <td>...</td>\n",
       "    </tr>\n",
       "    <tr>\n",
       "      <th>349</th>\n",
       "      <td>Beige Rayon Straight Fusion Dress</td>\n",
       "      <td>₹1,300</td>\n",
       "      <td>Dress</td>\n",
       "      <td>woman</td>\n",
       "      <td>Biba</td>\n",
       "      <td>india</td>\n",
       "      <td>topwear</td>\n",
       "      <td>15 days</td>\n",
       "      <td>Regular</td>\n",
       "    </tr>\n",
       "    <tr>\n",
       "      <th>350</th>\n",
       "      <td>Off White Cotton Flax Printed Kurta Dress</td>\n",
       "      <td>₹1,000</td>\n",
       "      <td>Dress</td>\n",
       "      <td>woman</td>\n",
       "      <td>Biba</td>\n",
       "      <td>india</td>\n",
       "      <td>topwear</td>\n",
       "      <td>15 days</td>\n",
       "      <td>Regular</td>\n",
       "    </tr>\n",
       "    <tr>\n",
       "      <th>351</th>\n",
       "      <td>Yellow Cotton Blend Flared Dress</td>\n",
       "      <td>₹2,498</td>\n",
       "      <td>Dress</td>\n",
       "      <td>woman</td>\n",
       "      <td>Biba</td>\n",
       "      <td>india</td>\n",
       "      <td>topwear</td>\n",
       "      <td>15 days</td>\n",
       "      <td>Regular</td>\n",
       "    </tr>\n",
       "    <tr>\n",
       "      <th>352</th>\n",
       "      <td>White And Green Cotton Kurta Printed Kurta Dress</td>\n",
       "      <td>₹900</td>\n",
       "      <td>Dress</td>\n",
       "      <td>woman</td>\n",
       "      <td>Biba</td>\n",
       "      <td>india</td>\n",
       "      <td>topwear</td>\n",
       "      <td>15 days</td>\n",
       "      <td>Regular</td>\n",
       "    </tr>\n",
       "    <tr>\n",
       "      <th>353</th>\n",
       "      <td>Yellow Flared Art Silk Printed Dress</td>\n",
       "      <td>₹2,309</td>\n",
       "      <td>Dress</td>\n",
       "      <td>woman</td>\n",
       "      <td>Biba</td>\n",
       "      <td>india</td>\n",
       "      <td>topwear</td>\n",
       "      <td>15 days</td>\n",
       "      <td>Regular</td>\n",
       "    </tr>\n",
       "  </tbody>\n",
       "</table>\n",
       "<p>354 rows × 9 columns</p>\n",
       "</div>"
      ],
      "text/plain": [
       "                                          productname  prices producttype  \\\n",
       "0              Rust Cotton Flared Printed Short Kurti    ₹900       Kurti   \n",
       "1                    Black Cotton Blend Printed Kurti  ₹1,000       Kurti   \n",
       "2                   Black Woolen Short Yarndyed Kurti    ₹900       Kurti   \n",
       "3                    Pink Woolen Short Yarndyed Kurti    ₹900       Kurti   \n",
       "4                   Yellow Cotton Blend Printed Kurti    ₹500       Kurti   \n",
       "..                                                ...     ...         ...   \n",
       "349                 Beige Rayon Straight Fusion Dress  ₹1,300       Dress   \n",
       "350         Off White Cotton Flax Printed Kurta Dress  ₹1,000       Dress   \n",
       "351                  Yellow Cotton Blend Flared Dress  ₹2,498       Dress   \n",
       "352  White And Green Cotton Kurta Printed Kurta Dress    ₹900       Dress   \n",
       "353              Yellow Flared Art Silk Printed Dress  ₹2,309       Dress   \n",
       "\n",
       "    category brand_names country_of_origin Weartype return_time Occation  \n",
       "0      woman        Biba             india  topwear     15 days  Regular  \n",
       "1      woman        Biba             india  topwear     15 days  Regular  \n",
       "2      woman        Biba             india  topwear     15 days  Regular  \n",
       "3      woman        Biba             india  topwear     15 days  Regular  \n",
       "4      woman        Biba             india  topwear     15 days  Regular  \n",
       "..       ...         ...               ...      ...         ...      ...  \n",
       "349    woman        Biba             india  topwear     15 days  Regular  \n",
       "350    woman        Biba             india  topwear     15 days  Regular  \n",
       "351    woman        Biba             india  topwear     15 days  Regular  \n",
       "352    woman        Biba             india  topwear     15 days  Regular  \n",
       "353    woman        Biba             india  topwear     15 days  Regular  \n",
       "\n",
       "[354 rows x 9 columns]"
      ]
     },
     "execution_count": 76,
     "metadata": {},
     "output_type": "execute_result"
    }
   ],
   "source": [
    "df3= pd.DataFrame(data4)\n",
    "df3"
   ]
  },
  {
   "cell_type": "code",
   "execution_count": 77,
   "id": "52a42855",
   "metadata": {},
   "outputs": [],
   "source": [
    "df3.to_csv('datafame3.csv')"
   ]
  },
  {
   "cell_type": "code",
   "execution_count": 16,
   "id": "8fefa31f",
   "metadata": {},
   "outputs": [],
   "source": [
    "driver= webdriver.Chrome()\n",
    "driver.get('https://www2.hm.com/en_in/index.html')"
   ]
  },
  {
   "cell_type": "code",
   "execution_count": 3,
   "id": "a139ff61",
   "metadata": {},
   "outputs": [],
   "source": [
    "productnames=[]\n",
    "prices=[]\n",
    "producttype=[]\n",
    "colors=[]\n",
    "category=[]\n",
    "Occation=[]\n",
    "Weartype=[]\n",
    "brand_names=[]\n",
    "return_time=[]\n",
    "country_of_origin=[]\n",
    "materialtype=[]"
   ]
  },
  {
   "cell_type": "code",
   "execution_count": 4,
   "id": "279f3616",
   "metadata": {},
   "outputs": [
    {
     "name": "stdout",
     "output_type": "stream",
     "text": [
      "144\n"
     ]
    }
   ],
   "source": [
    "products1 = driver.find_elements(By.XPATH,'//a[@class=\"link\"]')\n",
    "\n",
    "for i in products1:\n",
    "    sampl1= i.text\n",
    "    productnames.append(sampl1)\n",
    "print(len(productnames))"
   ]
  },
  {
   "cell_type": "code",
   "execution_count": 6,
   "id": "ad4314b9",
   "metadata": {},
   "outputs": [
    {
     "name": "stdout",
     "output_type": "stream",
     "text": [
      "144\n"
     ]
    }
   ],
   "source": [
    "products2 = driver.find_elements(By.XPATH,'//span[@class=\"price regular\"]')\n",
    "for i in products2:\n",
    "    sampl2=i.text\n",
    "    prices.append(sampl2)\n",
    "print(len(prices))"
   ]
  },
  {
   "cell_type": "code",
   "execution_count": 7,
   "id": "ed9c877f",
   "metadata": {},
   "outputs": [],
   "source": [
    "def color():\n",
    "    try:\n",
    "        c1= driver.find_element(By.XPATH,'//h3[@class=\"product-input-label\"]')\n",
    "        h1=c1.text\n",
    "    except Exception as e:\n",
    "        h1= 'nan'\n",
    "    return h1"
   ]
  },
  {
   "cell_type": "code",
   "execution_count": 9,
   "id": "6784f6a2",
   "metadata": {},
   "outputs": [],
   "source": [
    "link=[]"
   ]
  },
  {
   "cell_type": "code",
   "execution_count": 10,
   "id": "9e45bbd1",
   "metadata": {},
   "outputs": [],
   "source": [
    "m1 = driver.find_elements(By.XPATH,'//a[@class=\"link\"]')\n",
    "\n",
    "for i in m1:\n",
    "    red1 = i.get_attribute('href')\n",
    "    link.append(red1)"
   ]
  },
  {
   "cell_type": "code",
   "execution_count": 34,
   "id": "79210c4d",
   "metadata": {},
   "outputs": [],
   "source": [
    "x='HM'\n",
    "for i in range(98):\n",
    "    brand_names.append(x)"
   ]
  },
  {
   "cell_type": "code",
   "execution_count": 30,
   "id": "47710d07",
   "metadata": {},
   "outputs": [],
   "source": [
    "x2='Regular'\n",
    "for i in range(98):\n",
    "    Occation.append(x2)"
   ]
  },
  {
   "cell_type": "code",
   "execution_count": 31,
   "id": "8493f1f0",
   "metadata": {},
   "outputs": [],
   "source": [
    "x3='bottomwear'\n",
    "for i in range(98):\n",
    "    Weartype.append(x3)"
   ]
  },
  {
   "cell_type": "code",
   "execution_count": 19,
   "id": "926364eb",
   "metadata": {},
   "outputs": [
    {
     "name": "stdout",
     "output_type": "stream",
     "text": [
      "242\n"
     ]
    }
   ],
   "source": [
    "products2 = driver.find_elements(By.XPATH,'//a[@class=\"link\"]')\n",
    "\n",
    "for i in products2:\n",
    "    sampl3= i.text\n",
    "    productnames.append(sampl3)\n",
    "print(len(productnames))"
   ]
  },
  {
   "cell_type": "code",
   "execution_count": 20,
   "id": "a4da016c",
   "metadata": {},
   "outputs": [
    {
     "name": "stdout",
     "output_type": "stream",
     "text": [
      "242\n"
     ]
    }
   ],
   "source": [
    "products3 = driver.find_elements(By.XPATH,'//span[@class=\"price regular\"]')\n",
    "for i in products3:\n",
    "    sampl4=i.text\n",
    "    prices.append(sampl4)\n",
    "print(len(prices))"
   ]
  },
  {
   "cell_type": "code",
   "execution_count": 25,
   "id": "c1d071aa",
   "metadata": {},
   "outputs": [],
   "source": [
    "def color1():\n",
    "    try:\n",
    "        c3= driver.find_element(By.XPATH,'//h3[@class=\"product-input-label\"]')\n",
    "        h3=c3.text\n",
    "    except Exception as e:\n",
    "        h3= 'nan'\n",
    "    return h3"
   ]
  },
  {
   "cell_type": "code",
   "execution_count": 26,
   "id": "303eca7c",
   "metadata": {},
   "outputs": [],
   "source": [
    "def material1():\n",
    "    try:\n",
    "        t2= driver.find_element(By.XPATH,'//dt[@class=\"fa226d c0e4fd c2656c\"]')\n",
    "        h4=t2.text\n",
    "    except Exception as e:\n",
    "        h4= 'nan'\n",
    "    return h4"
   ]
  },
  {
   "cell_type": "code",
   "execution_count": 24,
   "id": "4f1ff35e",
   "metadata": {},
   "outputs": [],
   "source": [
    "m2 = driver.find_elements(By.XPATH,'//a[@class=\"link\"]')\n",
    "\n",
    "for i in m2:\n",
    "    red2 = i.get_attribute('href')\n",
    "    link.append(red2)"
   ]
  },
  {
   "cell_type": "code",
   "execution_count": 28,
   "id": "f0bed9b5",
   "metadata": {},
   "outputs": [],
   "source": [
    "for product in link:\n",
    "    driver.get(product)\n",
    "    time.sleep(2)\n",
    "    n1=color1()\n",
    "    colors.append(n1)\n",
    "    time.sleep(2)\n",
    "    n2=material1()\n",
    "    materialtype.append(n2)"
   ]
  },
  {
   "cell_type": "code",
   "execution_count": 37,
   "id": "3cb412c4",
   "metadata": {},
   "outputs": [],
   "source": [
    "data5= {'productname':productnames, 'prices':prices, 'producttype':producttype, 'category':category, 'brand_names':brand_names,\n",
    "         'country_of_origin':country_of_origin, 'Weartype':Weartype,'return_time':return_time,'Occation':Occation,'color':colors,\n",
    "           'materialtype':materialtype}"
   ]
  },
  {
   "cell_type": "code",
   "execution_count": 38,
   "id": "72a56435",
   "metadata": {},
   "outputs": [
    {
     "data": {
      "text/html": [
       "<div>\n",
       "<style scoped>\n",
       "    .dataframe tbody tr th:only-of-type {\n",
       "        vertical-align: middle;\n",
       "    }\n",
       "\n",
       "    .dataframe tbody tr th {\n",
       "        vertical-align: top;\n",
       "    }\n",
       "\n",
       "    .dataframe thead th {\n",
       "        text-align: right;\n",
       "    }\n",
       "</style>\n",
       "<table border=\"1\" class=\"dataframe\">\n",
       "  <thead>\n",
       "    <tr style=\"text-align: right;\">\n",
       "      <th></th>\n",
       "      <th>productname</th>\n",
       "      <th>prices</th>\n",
       "      <th>producttype</th>\n",
       "      <th>category</th>\n",
       "      <th>brand_names</th>\n",
       "      <th>country_of_origin</th>\n",
       "      <th>Weartype</th>\n",
       "      <th>return_time</th>\n",
       "      <th>Occation</th>\n",
       "      <th>color</th>\n",
       "      <th>materialtype</th>\n",
       "    </tr>\n",
       "  </thead>\n",
       "  <tbody>\n",
       "    <tr>\n",
       "      <th>0</th>\n",
       "      <td>Regular Fit T-shirt</td>\n",
       "      <td>Rs.399.00</td>\n",
       "      <td>T-Shirt</td>\n",
       "      <td>men</td>\n",
       "      <td>HM</td>\n",
       "      <td>india</td>\n",
       "      <td>topwear</td>\n",
       "      <td>15 days</td>\n",
       "      <td>Regular</td>\n",
       "      <td>Khaki green</td>\n",
       "      <td></td>\n",
       "    </tr>\n",
       "    <tr>\n",
       "      <th>1</th>\n",
       "      <td>Loose Fit T-shirt</td>\n",
       "      <td>Rs.799.00</td>\n",
       "      <td>T-Shirt</td>\n",
       "      <td>men</td>\n",
       "      <td>HM</td>\n",
       "      <td>india</td>\n",
       "      <td>topwear</td>\n",
       "      <td>15 days</td>\n",
       "      <td>Regular</td>\n",
       "      <td>Light beige</td>\n",
       "      <td></td>\n",
       "    </tr>\n",
       "    <tr>\n",
       "      <th>2</th>\n",
       "      <td>Slim Fit Ribbed vest top</td>\n",
       "      <td>Rs.599.00</td>\n",
       "      <td>T-Shirt</td>\n",
       "      <td>men</td>\n",
       "      <td>HM</td>\n",
       "      <td>india</td>\n",
       "      <td>topwear</td>\n",
       "      <td>15 days</td>\n",
       "      <td>Regular</td>\n",
       "      <td>Black</td>\n",
       "      <td></td>\n",
       "    </tr>\n",
       "    <tr>\n",
       "      <th>3</th>\n",
       "      <td>Slim Fit Polo shirt</td>\n",
       "      <td>Rs.799.00</td>\n",
       "      <td>T-Shirt</td>\n",
       "      <td>men</td>\n",
       "      <td>HM</td>\n",
       "      <td>india</td>\n",
       "      <td>topwear</td>\n",
       "      <td>15 days</td>\n",
       "      <td>Regular</td>\n",
       "      <td>Light beige</td>\n",
       "      <td></td>\n",
       "    </tr>\n",
       "    <tr>\n",
       "      <th>4</th>\n",
       "      <td>Slim Fit Cotton T-shirt</td>\n",
       "      <td>Rs.699.00</td>\n",
       "      <td>T-Shirt</td>\n",
       "      <td>men</td>\n",
       "      <td>HM</td>\n",
       "      <td>india</td>\n",
       "      <td>topwear</td>\n",
       "      <td>15 days</td>\n",
       "      <td>Regular</td>\n",
       "      <td>Black</td>\n",
       "      <td></td>\n",
       "    </tr>\n",
       "    <tr>\n",
       "      <th>...</th>\n",
       "      <td>...</td>\n",
       "      <td>...</td>\n",
       "      <td>...</td>\n",
       "      <td>...</td>\n",
       "      <td>...</td>\n",
       "      <td>...</td>\n",
       "      <td>...</td>\n",
       "      <td>...</td>\n",
       "      <td>...</td>\n",
       "      <td>...</td>\n",
       "      <td>...</td>\n",
       "    </tr>\n",
       "    <tr>\n",
       "      <th>237</th>\n",
       "      <td>Hybrid Regular Tapered Joggers</td>\n",
       "      <td>Rs.2,999.00</td>\n",
       "      <td>DENIM</td>\n",
       "      <td>men</td>\n",
       "      <td>HM</td>\n",
       "      <td>india</td>\n",
       "      <td>bottomwear</td>\n",
       "      <td>15 days</td>\n",
       "      <td>Regular</td>\n",
       "      <td>Black</td>\n",
       "      <td></td>\n",
       "    </tr>\n",
       "    <tr>\n",
       "      <th>238</th>\n",
       "      <td>Skinny Jeans</td>\n",
       "      <td>Rs.1,999.00</td>\n",
       "      <td>DENIM</td>\n",
       "      <td>men</td>\n",
       "      <td>HM</td>\n",
       "      <td>india</td>\n",
       "      <td>bottomwear</td>\n",
       "      <td>15 days</td>\n",
       "      <td>Regular</td>\n",
       "      <td>Light denim blue</td>\n",
       "      <td></td>\n",
       "    </tr>\n",
       "    <tr>\n",
       "      <th>239</th>\n",
       "      <td>Loose Jeans</td>\n",
       "      <td>Rs.3,999.00</td>\n",
       "      <td>DENIM</td>\n",
       "      <td>men</td>\n",
       "      <td>HM</td>\n",
       "      <td>india</td>\n",
       "      <td>bottomwear</td>\n",
       "      <td>15 days</td>\n",
       "      <td>Regular</td>\n",
       "      <td>Cream</td>\n",
       "      <td></td>\n",
       "    </tr>\n",
       "    <tr>\n",
       "      <th>240</th>\n",
       "      <td>Skinny Jeans</td>\n",
       "      <td>Rs.2,699.00</td>\n",
       "      <td>DENIM</td>\n",
       "      <td>men</td>\n",
       "      <td>HM</td>\n",
       "      <td>india</td>\n",
       "      <td>bottomwear</td>\n",
       "      <td>15 days</td>\n",
       "      <td>Regular</td>\n",
       "      <td>Black/Trashed</td>\n",
       "      <td></td>\n",
       "    </tr>\n",
       "    <tr>\n",
       "      <th>241</th>\n",
       "      <td>Relaxed Denim Joggers</td>\n",
       "      <td>Rs.2,299.00</td>\n",
       "      <td>DENIM</td>\n",
       "      <td>men</td>\n",
       "      <td>HM</td>\n",
       "      <td>india</td>\n",
       "      <td>bottomwear</td>\n",
       "      <td>15 days</td>\n",
       "      <td>Regular</td>\n",
       "      <td>Black</td>\n",
       "      <td></td>\n",
       "    </tr>\n",
       "  </tbody>\n",
       "</table>\n",
       "<p>242 rows × 11 columns</p>\n",
       "</div>"
      ],
      "text/plain": [
       "                        productname       prices producttype category  \\\n",
       "0               Regular Fit T-shirt    Rs.399.00     T-Shirt      men   \n",
       "1                 Loose Fit T-shirt    Rs.799.00     T-Shirt      men   \n",
       "2          Slim Fit Ribbed vest top    Rs.599.00     T-Shirt      men   \n",
       "3               Slim Fit Polo shirt    Rs.799.00     T-Shirt      men   \n",
       "4           Slim Fit Cotton T-shirt    Rs.699.00     T-Shirt      men   \n",
       "..                              ...          ...         ...      ...   \n",
       "237  Hybrid Regular Tapered Joggers  Rs.2,999.00       DENIM      men   \n",
       "238                    Skinny Jeans  Rs.1,999.00       DENIM      men   \n",
       "239                     Loose Jeans  Rs.3,999.00       DENIM      men   \n",
       "240                    Skinny Jeans  Rs.2,699.00       DENIM      men   \n",
       "241           Relaxed Denim Joggers  Rs.2,299.00       DENIM      men   \n",
       "\n",
       "    brand_names country_of_origin    Weartype return_time Occation  \\\n",
       "0            HM             india     topwear     15 days  Regular   \n",
       "1            HM             india     topwear     15 days  Regular   \n",
       "2            HM             india     topwear     15 days  Regular   \n",
       "3            HM             india     topwear     15 days  Regular   \n",
       "4            HM             india     topwear     15 days  Regular   \n",
       "..          ...               ...         ...         ...      ...   \n",
       "237          HM             india  bottomwear     15 days  Regular   \n",
       "238          HM             india  bottomwear     15 days  Regular   \n",
       "239          HM             india  bottomwear     15 days  Regular   \n",
       "240          HM             india  bottomwear     15 days  Regular   \n",
       "241          HM             india  bottomwear     15 days  Regular   \n",
       "\n",
       "                color materialtype  \n",
       "0         Khaki green               \n",
       "1         Light beige               \n",
       "2               Black               \n",
       "3         Light beige               \n",
       "4               Black               \n",
       "..                ...          ...  \n",
       "237             Black               \n",
       "238  Light denim blue               \n",
       "239             Cream               \n",
       "240     Black/Trashed               \n",
       "241             Black               \n",
       "\n",
       "[242 rows x 11 columns]"
      ]
     },
     "execution_count": 38,
     "metadata": {},
     "output_type": "execute_result"
    }
   ],
   "source": [
    "df4= pd.DataFrame(data5)\n",
    "df4"
   ]
  },
  {
   "cell_type": "code",
   "execution_count": 36,
   "id": "cb8c8f62",
   "metadata": {},
   "outputs": [
    {
     "name": "stderr",
     "output_type": "stream",
     "text": [
      "There was an error managing chrome (error sending request for url (https://googlechromelabs.github.io/chrome-for-testing/known-good-versions-with-downloads.json): error trying to connect: dns error: No such host is known. (os error 11001)); using driver found in the cache\n"
     ]
    }
   ],
   "source": [
    "driver= webdriver.Chrome()\n",
    "driver.get('https://www.biba.in/')"
   ]
  },
  {
   "cell_type": "code",
   "execution_count": 3,
   "id": "deba35ca",
   "metadata": {},
   "outputs": [],
   "source": [
    "productnames=[]\n",
    "prices=[]\n",
    "producttype=[]\n",
    "colors=[]\n",
    "category=[]\n",
    "Occation=[]\n",
    "Weartype=[]\n",
    "brand_names=[]\n",
    "return_time=[]\n",
    "country_of_origin=[]\n",
    "materialtype=[]"
   ]
  },
  {
   "cell_type": "code",
   "execution_count": 4,
   "id": "c401de6a",
   "metadata": {},
   "outputs": [
    {
     "name": "stdout",
     "output_type": "stream",
     "text": [
      "120\n"
     ]
    }
   ],
   "source": [
    "products1 = driver.find_elements(By.XPATH,'//a[@class=\"link d-lg-none\"]')\n",
    "\n",
    "for i in products1:\n",
    "    sam1= i.text\n",
    "    productnames.append(sam1)\n",
    "print(len(productnames))"
   ]
  },
  {
   "cell_type": "code",
   "execution_count": 5,
   "id": "9db8d467",
   "metadata": {},
   "outputs": [
    {
     "name": "stdout",
     "output_type": "stream",
     "text": [
      "120\n"
     ]
    }
   ],
   "source": [
    "products2 = driver.find_elements(By.XPATH,'//span[@class=\"sales\"]')\n",
    "for i in products2:\n",
    "    sam2=i.text\n",
    "    prices.append(sam2)\n",
    "print(len(prices))"
   ]
  },
  {
   "cell_type": "code",
   "execution_count": 6,
   "id": "e9aae9d8",
   "metadata": {},
   "outputs": [],
   "source": [
    "link=[]"
   ]
  },
  {
   "cell_type": "code",
   "execution_count": 7,
   "id": "d3b24fe5",
   "metadata": {},
   "outputs": [],
   "source": [
    "reviews=[]"
   ]
  },
  {
   "cell_type": "code",
   "execution_count": 8,
   "id": "0cd51734",
   "metadata": {},
   "outputs": [],
   "source": [
    "lin= driver.find_elements(By.XPATH,'//a[@class=\"link d-lg-none\"]')\n",
    "\n",
    "for i in lin:\n",
    "    lin1 = i.get_attribute('href')\n",
    "    link.append(lin1)"
   ]
  },
  {
   "cell_type": "code",
   "execution_count": 9,
   "id": "7f427221",
   "metadata": {},
   "outputs": [],
   "source": [
    "def color():\n",
    "    try:\n",
    "        j1= driver.find_element(By.XPATH,'//span[@class=\"non-input-label color-name\"]')\n",
    "        mat1=j1.text\n",
    "    except Exception as e:\n",
    "        mat1= 'nan'\n",
    "    return mat1"
   ]
  },
  {
   "cell_type": "code",
   "execution_count": 10,
   "id": "c1ad9973",
   "metadata": {},
   "outputs": [],
   "source": [
    "def review():\n",
    "    try:\n",
    "        e1=driver.find_element(By.XPATH,'//span[@class=\"reviews-qa-label font-color-gray\"]')\n",
    "        b=e1.text\n",
    "    except Exception as e:\n",
    "        b='nan'\n",
    "    return b    "
   ]
  },
  {
   "cell_type": "code",
   "execution_count": 11,
   "id": "c7322d98",
   "metadata": {},
   "outputs": [],
   "source": [
    "def material():\n",
    "    try:\n",
    "        r1= driver.find_element(By.XPATH,'//ul[@class=\"features-lists\"]/li[8]/span')\n",
    "        mat2=r1.text\n",
    "    except Exception as e:\n",
    "        mat2= 'nan'\n",
    "    return mat2"
   ]
  },
  {
   "cell_type": "code",
   "execution_count": 13,
   "id": "2ed98661",
   "metadata": {},
   "outputs": [],
   "source": [
    "for product in link:\n",
    "    driver.get(product)\n",
    "    time.sleep(2)\n",
    "    n1=color()\n",
    "    colors.append(n1)\n",
    "    time.sleep(2)\n",
    "    n2=material()\n",
    "    materialtype.append(n2)\n",
    "    time.sleep(2)\n",
    "    n3=review()\n",
    "    reviews.append(n3)"
   ]
  },
  {
   "cell_type": "code",
   "execution_count": 23,
   "id": "b2001fef",
   "metadata": {},
   "outputs": [
    {
     "name": "stdout",
     "output_type": "stream",
     "text": [
      "240\n"
     ]
    }
   ],
   "source": [
    "products2 = driver.find_elements(By.XPATH,'//a[@class=\"link d-lg-none\"]')\n",
    "\n",
    "for i in products2:\n",
    "    sam2= i.text\n",
    "    productnames.append(sam2)\n",
    "print(len(productnames))"
   ]
  },
  {
   "cell_type": "code",
   "execution_count": 24,
   "id": "c1bd32b1",
   "metadata": {},
   "outputs": [
    {
     "name": "stdout",
     "output_type": "stream",
     "text": [
      "240\n"
     ]
    }
   ],
   "source": [
    "products3 = driver.find_elements(By.XPATH,'//span[@class=\"sales\"]')\n",
    "for i in products3:\n",
    "    sam3=i.text\n",
    "    prices.append(sam3)\n",
    "print(len(prices))"
   ]
  },
  {
   "cell_type": "code",
   "execution_count": 25,
   "id": "76b462e2",
   "metadata": {},
   "outputs": [],
   "source": [
    "def color1():\n",
    "    try:\n",
    "        j2= driver.find_element(By.XPATH,'//span[@class=\"non-input-label color-name\"]')\n",
    "        ma2=j2.text\n",
    "    except Exception as e:\n",
    "        ma2= 'nan'\n",
    "    return ma2"
   ]
  },
  {
   "cell_type": "code",
   "execution_count": 26,
   "id": "aa7e42e1",
   "metadata": {},
   "outputs": [],
   "source": [
    "def material1():\n",
    "    try:\n",
    "        r3= driver.find_element(By.XPATH,'//ul[@class=\"features-lists\"]/li[6]/span')\n",
    "        ma3=r3.text\n",
    "    except Exception as e:\n",
    "        ma3= 'nan'\n",
    "    return ma3"
   ]
  },
  {
   "cell_type": "code",
   "execution_count": 28,
   "id": "6a20e5c6",
   "metadata": {},
   "outputs": [],
   "source": [
    "lins= driver.find_elements(By.XPATH,'//a[@class=\"link d-lg-none\"]')\n",
    "\n",
    "for i in lins:\n",
    "    lin2 = i.get_attribute('href')\n",
    "    link.append(lin2)"
   ]
  },
  {
   "cell_type": "code",
   "execution_count": 29,
   "id": "596b2248",
   "metadata": {},
   "outputs": [],
   "source": [
    "x='Top'\n",
    "for i in range(240):\n",
    "    producttype.append(x)"
   ]
  },
  {
   "cell_type": "code",
   "execution_count": 30,
   "id": "16f8e030",
   "metadata": {},
   "outputs": [],
   "source": [
    "c='topwear'\n",
    "for i in range(240):\n",
    "    Weartype.append(c)\n"
   ]
  },
  {
   "cell_type": "code",
   "execution_count": 32,
   "id": "539bc03b",
   "metadata": {},
   "outputs": [],
   "source": [
    "for product in link:\n",
    "    driver.get(product)\n",
    "    time.sleep(2)\n",
    "    n4=color1()\n",
    "    colors.append(n4)\n",
    "    time.sleep(2)\n",
    "    n5=material1()\n",
    "    materialtype.append(n5)\n",
    "    time.sleep(2)"
   ]
  },
  {
   "cell_type": "code",
   "execution_count": 37,
   "id": "4a6397c6",
   "metadata": {},
   "outputs": [
    {
     "name": "stdout",
     "output_type": "stream",
     "text": [
      "346\n"
     ]
    }
   ],
   "source": [
    "products4 = driver.find_elements(By.XPATH,'//a[@class=\"link d-lg-none\"]')\n",
    "\n",
    "for i in products4:\n",
    "    sam45= i.text\n",
    "    productnames.append(sam45)\n",
    "print(len(productnames))"
   ]
  },
  {
   "cell_type": "code",
   "execution_count": 38,
   "id": "b7f7fa04",
   "metadata": {},
   "outputs": [
    {
     "name": "stdout",
     "output_type": "stream",
     "text": [
      "346\n"
     ]
    }
   ],
   "source": [
    "products5 = driver.find_elements(By.XPATH,'//span[@class=\"sales\"]')\n",
    "for i in products5:\n",
    "    sam34=i.text\n",
    "    prices.append(sam34)\n",
    "print(len(prices))"
   ]
  },
  {
   "cell_type": "code",
   "execution_count": 39,
   "id": "9b9c6473",
   "metadata": {},
   "outputs": [],
   "source": [
    "def color2():\n",
    "    try:\n",
    "        j5= driver.find_element(By.XPATH,'//span[@class=\"non-input-label color-name\"]')\n",
    "        ma7=j5.text\n",
    "    except Exception as e:\n",
    "        ma7= 'nan'\n",
    "    return ma7"
   ]
  },
  {
   "cell_type": "code",
   "execution_count": 40,
   "id": "1604d625",
   "metadata": {},
   "outputs": [],
   "source": [
    "def material2():\n",
    "    try:\n",
    "        r7= driver.find_element(By.XPATH,'//ul[@class=\"features-lists\"]/li[6]/span')\n",
    "        ma8=r7.text\n",
    "    except Exception as e:\n",
    "        ma8= 'nan'\n",
    "    return ma8"
   ]
  },
  {
   "cell_type": "code",
   "execution_count": 43,
   "id": "3080ffed",
   "metadata": {},
   "outputs": [],
   "source": [
    "lins1= driver.find_elements(By.XPATH,'//a[@class=\"link d-lg-none\"]')\n",
    "\n",
    "for i in lins1:\n",
    "    lin3 = i.get_attribute('href')\n",
    "    link.append(lin3)"
   ]
  },
  {
   "cell_type": "code",
   "execution_count": 44,
   "id": "b8689f88",
   "metadata": {},
   "outputs": [],
   "source": [
    "for product in link:\n",
    "    driver.get(product)\n",
    "    time.sleep(2)\n",
    "    n7=color2()\n",
    "    colors.append(n7)\n",
    "    time.sleep(2)\n",
    "    n8=material2()\n",
    "    materialtype.append(n8)\n",
    "    time.sleep(2)"
   ]
  },
  {
   "cell_type": "code",
   "execution_count": 53,
   "id": "c7ff59f1",
   "metadata": {},
   "outputs": [
    {
     "data": {
      "text/plain": [
       "346"
      ]
     },
     "execution_count": 53,
     "metadata": {},
     "output_type": "execute_result"
    }
   ],
   "source": [
    "len(Weartype)\n",
    "    "
   ]
  },
  {
   "cell_type": "code",
   "execution_count": 54,
   "id": "7684a092",
   "metadata": {},
   "outputs": [],
   "source": [
    "c='15 days'\n",
    "for i in range(346):\n",
    "    return_time.append(c)"
   ]
  },
  {
   "cell_type": "code",
   "execution_count": 55,
   "id": "eab27121",
   "metadata": {},
   "outputs": [],
   "source": [
    "v1='Biba'\n",
    "for i in range(346):\n",
    "    brand_names.append(v1)"
   ]
  },
  {
   "cell_type": "code",
   "execution_count": 56,
   "id": "ca946f85",
   "metadata": {},
   "outputs": [],
   "source": [
    "v2='India'\n",
    "for i in range(346):\n",
    "    country_of_origin.append(v1)"
   ]
  },
  {
   "cell_type": "code",
   "execution_count": 57,
   "id": "12954857",
   "metadata": {},
   "outputs": [
    {
     "name": "stdout",
     "output_type": "stream",
     "text": [
      "346\n"
     ]
    }
   ],
   "source": [
    "v3='Celebration'\n",
    "for i in range(346):\n",
    "    Occation.append(v3)\n",
    "print(len(Occation))    "
   ]
  },
  {
   "cell_type": "code",
   "execution_count": 60,
   "id": "eccd0d50",
   "metadata": {},
   "outputs": [],
   "source": [
    "driver= webdriver.Chrome()\n",
    "driver.get('https://allensolly.abfrl.in/')"
   ]
  },
  {
   "cell_type": "code",
   "execution_count": 61,
   "id": "bc5bfb8b",
   "metadata": {},
   "outputs": [
    {
     "name": "stdout",
     "output_type": "stream",
     "text": [
      "458\n"
     ]
    }
   ],
   "source": [
    "products41= driver.find_elements(By.XPATH,'//div[@class=\"ProductCard_description__BQzle\"]')\n",
    "\n",
    "for i in products41:\n",
    "    sam54= i.text\n",
    "    productnames.append(sam54)\n",
    "print(len(productnames))"
   ]
  },
  {
   "cell_type": "code",
   "execution_count": 62,
   "id": "180ce548",
   "metadata": {},
   "outputs": [
    {
     "name": "stdout",
     "output_type": "stream",
     "text": [
      "458\n"
     ]
    }
   ],
   "source": [
    "products31 = driver.find_elements(By.XPATH,'//span[@class=\"price\"]')\n",
    "for i in products31:\n",
    "    sam31=i.text\n",
    "    prices.append(sam31)\n",
    "print(len(prices))"
   ]
  },
  {
   "cell_type": "code",
   "execution_count": 64,
   "id": "2dda48af",
   "metadata": {},
   "outputs": [],
   "source": [
    "def color3():\n",
    "    try:\n",
    "        t1= driver.find_element(By.XPATH,'//span[@class=\"Color_pdpColor_text_value__CtGmk\"]')\n",
    "        mat11=t1.text\n",
    "    except Exception as e:\n",
    "        mat11= 'nan'\n",
    "    return mat11"
   ]
  },
  {
   "cell_type": "code",
   "execution_count": 70,
   "id": "98f24acb",
   "metadata": {},
   "outputs": [],
   "source": [
    "c='Casual'\n",
    "for i in range(112):\n",
    "    Occation.append(c)"
   ]
  },
  {
   "cell_type": "code",
   "execution_count": 73,
   "id": "16d44980",
   "metadata": {},
   "outputs": [
    {
     "name": "stdout",
     "output_type": "stream",
     "text": [
      "458\n"
     ]
    }
   ],
   "source": [
    "f='kids'\n",
    "for i in range(112):\n",
    "    category.append(f)\n",
    "print(len(category))    "
   ]
  },
  {
   "cell_type": "code",
   "execution_count": 116,
   "id": "e284848c",
   "metadata": {},
   "outputs": [],
   "source": [
    "data6= {'productname':productnames, 'prices':prices, 'producttype':producttype, 'category':category, 'brand_names':brand_names,\n",
    "         'country_of_origin':country_of_origin, 'Weartype':Weartype,'return_time':return_time,'Occation':Occation,'color':colors,\n",
    "           'materialtype':materialtype,'Reviews':reviews}"
   ]
  },
  {
   "cell_type": "code",
   "execution_count": 117,
   "id": "025a553d",
   "metadata": {},
   "outputs": [
    {
     "data": {
      "text/html": [
       "<div>\n",
       "<style scoped>\n",
       "    .dataframe tbody tr th:only-of-type {\n",
       "        vertical-align: middle;\n",
       "    }\n",
       "\n",
       "    .dataframe tbody tr th {\n",
       "        vertical-align: top;\n",
       "    }\n",
       "\n",
       "    .dataframe thead th {\n",
       "        text-align: right;\n",
       "    }\n",
       "</style>\n",
       "<table border=\"1\" class=\"dataframe\">\n",
       "  <thead>\n",
       "    <tr style=\"text-align: right;\">\n",
       "      <th></th>\n",
       "      <th>productname</th>\n",
       "      <th>prices</th>\n",
       "      <th>producttype</th>\n",
       "      <th>category</th>\n",
       "      <th>brand_names</th>\n",
       "      <th>country_of_origin</th>\n",
       "      <th>Weartype</th>\n",
       "      <th>return_time</th>\n",
       "      <th>Occation</th>\n",
       "      <th>color</th>\n",
       "      <th>materialtype</th>\n",
       "      <th>Reviews</th>\n",
       "    </tr>\n",
       "  </thead>\n",
       "  <tbody>\n",
       "    <tr>\n",
       "      <th>0</th>\n",
       "      <td>Ecru Cotton Straight Kurta Regular Pants Suit Set</td>\n",
       "      <td>₹1,300</td>\n",
       "      <td>Top</td>\n",
       "      <td>Kids</td>\n",
       "      <td>Biba</td>\n",
       "      <td>Biba</td>\n",
       "      <td>topwear</td>\n",
       "      <td>15 days</td>\n",
       "      <td>Celebration</td>\n",
       "      <td>Ecru</td>\n",
       "      <td>With Dupatta</td>\n",
       "      <td>112</td>\n",
       "    </tr>\n",
       "    <tr>\n",
       "      <th>1</th>\n",
       "      <td>Pink Rayon Tiered Printed Kurta</td>\n",
       "      <td>₹909</td>\n",
       "      <td>Top</td>\n",
       "      <td>Kids</td>\n",
       "      <td>Biba</td>\n",
       "      <td>Biba</td>\n",
       "      <td>topwear</td>\n",
       "      <td>15 days</td>\n",
       "      <td>Celebration</td>\n",
       "      <td>Pink</td>\n",
       "      <td>nan</td>\n",
       "      <td>134</td>\n",
       "    </tr>\n",
       "    <tr>\n",
       "      <th>2</th>\n",
       "      <td>Lemon Yellow Cotton A-Line Kurta Regular Pants...</td>\n",
       "      <td>₹1,199</td>\n",
       "      <td>Top</td>\n",
       "      <td>Kids</td>\n",
       "      <td>Biba</td>\n",
       "      <td>Biba</td>\n",
       "      <td>topwear</td>\n",
       "      <td>15 days</td>\n",
       "      <td>Celebration</td>\n",
       "      <td>Lemon Yellow</td>\n",
       "      <td>A-Line</td>\n",
       "      <td>59</td>\n",
       "    </tr>\n",
       "    <tr>\n",
       "      <th>3</th>\n",
       "      <td>Turquoise Cotton Gathered 2 Piece Set</td>\n",
       "      <td>₹1,679</td>\n",
       "      <td>Top</td>\n",
       "      <td>Kids</td>\n",
       "      <td>Biba</td>\n",
       "      <td>Biba</td>\n",
       "      <td>topwear</td>\n",
       "      <td>15 days</td>\n",
       "      <td>Celebration</td>\n",
       "      <td>Turquoise</td>\n",
       "      <td>Gathered</td>\n",
       "      <td>64</td>\n",
       "    </tr>\n",
       "    <tr>\n",
       "      <th>4</th>\n",
       "      <td>Pista Green Straight Art Silk Kurta Lehenga Su...</td>\n",
       "      <td>₹2,250</td>\n",
       "      <td>Top</td>\n",
       "      <td>Kids</td>\n",
       "      <td>Biba</td>\n",
       "      <td>Biba</td>\n",
       "      <td>topwear</td>\n",
       "      <td>15 days</td>\n",
       "      <td>Celebration</td>\n",
       "      <td>Pista Green</td>\n",
       "      <td>With Dupatta</td>\n",
       "      <td>81</td>\n",
       "    </tr>\n",
       "    <tr>\n",
       "      <th>...</th>\n",
       "      <td>...</td>\n",
       "      <td>...</td>\n",
       "      <td>...</td>\n",
       "      <td>...</td>\n",
       "      <td>...</td>\n",
       "      <td>...</td>\n",
       "      <td>...</td>\n",
       "      <td>...</td>\n",
       "      <td>...</td>\n",
       "      <td>...</td>\n",
       "      <td>...</td>\n",
       "      <td>...</td>\n",
       "    </tr>\n",
       "    <tr>\n",
       "      <th>453</th>\n",
       "      <td>Boys Maroon Slim Fit Jeans</td>\n",
       "      <td>₹ 1,154</td>\n",
       "      <td>Jeans</td>\n",
       "      <td>kids</td>\n",
       "      <td>Allen Solly</td>\n",
       "      <td>India</td>\n",
       "      <td>bottomwear</td>\n",
       "      <td>7 days</td>\n",
       "      <td>Casual</td>\n",
       "      <td>pink</td>\n",
       "      <td>Cotton</td>\n",
       "      <td>110</td>\n",
       "    </tr>\n",
       "    <tr>\n",
       "      <th>454</th>\n",
       "      <td>Boys Navy Jogger Fit Jeans</td>\n",
       "      <td>₹ 849</td>\n",
       "      <td>Jeans</td>\n",
       "      <td>kids</td>\n",
       "      <td>Allen Solly</td>\n",
       "      <td>India</td>\n",
       "      <td>bottomwear</td>\n",
       "      <td>7 days</td>\n",
       "      <td>Casual</td>\n",
       "      <td>pink</td>\n",
       "      <td>Cotton</td>\n",
       "      <td>148</td>\n",
       "    </tr>\n",
       "    <tr>\n",
       "      <th>455</th>\n",
       "      <td>Boys Blue Jogger Fit Jeans</td>\n",
       "      <td>₹ 849</td>\n",
       "      <td>Jeans</td>\n",
       "      <td>kids</td>\n",
       "      <td>Allen Solly</td>\n",
       "      <td>India</td>\n",
       "      <td>bottomwear</td>\n",
       "      <td>7 days</td>\n",
       "      <td>Casual</td>\n",
       "      <td>pink</td>\n",
       "      <td>Cotton</td>\n",
       "      <td>67</td>\n",
       "    </tr>\n",
       "    <tr>\n",
       "      <th>456</th>\n",
       "      <td>Boys Blue Slim Fit Jeans</td>\n",
       "      <td>₹ 2,099</td>\n",
       "      <td>Jeans</td>\n",
       "      <td>kids</td>\n",
       "      <td>Allen Solly</td>\n",
       "      <td>India</td>\n",
       "      <td>bottomwear</td>\n",
       "      <td>7 days</td>\n",
       "      <td>Casual</td>\n",
       "      <td>pink</td>\n",
       "      <td>Cotton</td>\n",
       "      <td>102</td>\n",
       "    </tr>\n",
       "    <tr>\n",
       "      <th>457</th>\n",
       "      <td>Boys Navy Slim Fit Jeans</td>\n",
       "      <td>₹ 1,699</td>\n",
       "      <td>Jeans</td>\n",
       "      <td>kids</td>\n",
       "      <td>Allen Solly</td>\n",
       "      <td>India</td>\n",
       "      <td>bottomwear</td>\n",
       "      <td>7 days</td>\n",
       "      <td>Casual</td>\n",
       "      <td>pink</td>\n",
       "      <td>Cotton</td>\n",
       "      <td>130</td>\n",
       "    </tr>\n",
       "  </tbody>\n",
       "</table>\n",
       "<p>458 rows × 12 columns</p>\n",
       "</div>"
      ],
      "text/plain": [
       "                                           productname   prices producttype  \\\n",
       "0    Ecru Cotton Straight Kurta Regular Pants Suit Set   ₹1,300         Top   \n",
       "1                      Pink Rayon Tiered Printed Kurta     ₹909         Top   \n",
       "2    Lemon Yellow Cotton A-Line Kurta Regular Pants...   ₹1,199         Top   \n",
       "3                Turquoise Cotton Gathered 2 Piece Set   ₹1,679         Top   \n",
       "4    Pista Green Straight Art Silk Kurta Lehenga Su...   ₹2,250         Top   \n",
       "..                                                 ...      ...         ...   \n",
       "453                         Boys Maroon Slim Fit Jeans  ₹ 1,154       Jeans   \n",
       "454                         Boys Navy Jogger Fit Jeans    ₹ 849       Jeans   \n",
       "455                         Boys Blue Jogger Fit Jeans    ₹ 849       Jeans   \n",
       "456                           Boys Blue Slim Fit Jeans  ₹ 2,099       Jeans   \n",
       "457                           Boys Navy Slim Fit Jeans  ₹ 1,699       Jeans   \n",
       "\n",
       "    category  brand_names country_of_origin    Weartype return_time  \\\n",
       "0       Kids         Biba              Biba     topwear     15 days   \n",
       "1       Kids         Biba              Biba     topwear     15 days   \n",
       "2       Kids         Biba              Biba     topwear     15 days   \n",
       "3       Kids         Biba              Biba     topwear     15 days   \n",
       "4       Kids         Biba              Biba     topwear     15 days   \n",
       "..       ...          ...               ...         ...         ...   \n",
       "453     kids  Allen Solly             India  bottomwear      7 days   \n",
       "454     kids  Allen Solly             India  bottomwear      7 days   \n",
       "455     kids  Allen Solly             India  bottomwear      7 days   \n",
       "456     kids  Allen Solly             India  bottomwear      7 days   \n",
       "457     kids  Allen Solly             India  bottomwear      7 days   \n",
       "\n",
       "        Occation         color  materialtype  Reviews  \n",
       "0    Celebration          Ecru  With Dupatta      112  \n",
       "1    Celebration          Pink           nan      134  \n",
       "2    Celebration  Lemon Yellow        A-Line       59  \n",
       "3    Celebration     Turquoise      Gathered       64  \n",
       "4    Celebration   Pista Green  With Dupatta       81  \n",
       "..           ...           ...           ...      ...  \n",
       "453       Casual          pink        Cotton      110  \n",
       "454       Casual          pink        Cotton      148  \n",
       "455       Casual          pink        Cotton       67  \n",
       "456       Casual          pink        Cotton      102  \n",
       "457       Casual          pink        Cotton      130  \n",
       "\n",
       "[458 rows x 12 columns]"
      ]
     },
     "execution_count": 117,
     "metadata": {},
     "output_type": "execute_result"
    }
   ],
   "source": [
    "df6= pd.DataFrame(data6)\n",
    "df6"
   ]
  },
  {
   "cell_type": "code",
   "execution_count": 118,
   "id": "e9c18683",
   "metadata": {},
   "outputs": [],
   "source": [
    "df6.to_csv('datafame6.csv')"
   ]
  },
  {
   "cell_type": "code",
   "execution_count": 2,
   "id": "d35517de",
   "metadata": {},
   "outputs": [],
   "source": [
    "driver= webdriver.Chrome()\n",
    "driver.get('https://www.montecarlo.in/')"
   ]
  },
  {
   "cell_type": "code",
   "execution_count": 3,
   "id": "3a28ca5f",
   "metadata": {},
   "outputs": [],
   "source": [
    "productnames=[]\n",
    "prices=[]\n",
    "producttype=[]\n",
    "colors=[]\n",
    "category=[]\n",
    "Occation=[]\n",
    "Weartype=[]\n",
    "brand_names=[]\n",
    "return_time=[]\n",
    "country_of_origin=[]\n",
    "materialtype=[]\n",
    "reviews=[]"
   ]
  },
  {
   "cell_type": "code",
   "execution_count": 8,
   "id": "0cd05587",
   "metadata": {},
   "outputs": [],
   "source": [
    "start = 0\n",
    "end = 3\n",
    "for page in range(start,end):\n",
    "    item= driver.find_elements(By.XPATH,'//a[@class=\"product-item-meta__title\"]')\n",
    "    for i in item:\n",
    "        productnames.append(i.text)\n",
    "    nextt = driver.find_element(By.CLASS_NAME,\"pagination__nav-item\")\n",
    "    nextt.click()\n",
    "    time.sleep(2)"
   ]
  },
  {
   "cell_type": "code",
   "execution_count": 53,
   "id": "7957fc81",
   "metadata": {},
   "outputs": [
    {
     "name": "stdout",
     "output_type": "stream",
     "text": [
      "336\n"
     ]
    }
   ],
   "source": [
    "start = 0\n",
    "end = 7\n",
    "for page in range(start,end):\n",
    "    ite2= driver.find_elements(By.XPATH,'//span[@class=\"price price--highlight\"]')\n",
    "    for i in ite2:\n",
    "        prices.append(i.text)\n",
    "    ne2= driver.find_element(By.CLASS_NAME,'pagination__nav-item')\n",
    "    ne2.click()\n",
    "    time.sleep(2)\n",
    "print(len(prices))    "
   ]
  },
  {
   "cell_type": "code",
   "execution_count": 16,
   "id": "e9a5edea",
   "metadata": {},
   "outputs": [],
   "source": [
    "link=[]"
   ]
  },
  {
   "cell_type": "code",
   "execution_count": 22,
   "id": "f79728ae",
   "metadata": {},
   "outputs": [],
   "source": [
    "lin= driver.find_elements(By.XPATH,'//a[@class=\"product-item-meta__title\"]')\n",
    "\n",
    "for i in lin:\n",
    "    lin5 = i.get_attribute('href')\n",
    "    link.append(lin5)"
   ]
  },
  {
   "cell_type": "code",
   "execution_count": 24,
   "id": "14996274",
   "metadata": {},
   "outputs": [],
   "source": [
    "def color():\n",
    "    try:\n",
    "        j1= driver.find_element(By.XPATH,'//div[@class=\"yash-blog-text shreyh\"][2]/p')\n",
    "        res1=j1.text\n",
    "    except Exception as e:\n",
    "        res1= 'nan'\n",
    "    return res1"
   ]
  },
  {
   "cell_type": "code",
   "execution_count": 25,
   "id": "5c771d85",
   "metadata": {},
   "outputs": [],
   "source": [
    "def material():\n",
    "    try:\n",
    "        j2= driver.find_element(By.XPATH,'//div[@class=\"yash-blog-text shreyh\"][4]/p')\n",
    "        res2=j2.text\n",
    "    except Exception as e:\n",
    "        res2= 'nan'\n",
    "    return res2"
   ]
  },
  {
   "cell_type": "code",
   "execution_count": 26,
   "id": "8c9c6929",
   "metadata": {},
   "outputs": [],
   "source": [
    "def brand():\n",
    "    try:\n",
    "        j3= driver.find_element(By.XPATH,'//div[@class=\"yash-blog-text shreyh\"][3]/p')\n",
    "        res3=j3.text\n",
    "    except Exception as e:\n",
    "        res3= 'nan'\n",
    "    return res3"
   ]
  },
  {
   "cell_type": "code",
   "execution_count": 27,
   "id": "7ac284f3",
   "metadata": {},
   "outputs": [],
   "source": [
    "def price():\n",
    "    try:\n",
    "        j4= driver.find_element(By.XPATH,'//div[@class=\"yash-blog-text shreyh\"][12]/p')\n",
    "        res4=j4.text\n",
    "    except Exception as e:\n",
    "        res4= 'nan'\n",
    "    return res4"
   ]
  },
  {
   "cell_type": "code",
   "execution_count": 28,
   "id": "6d082d5c",
   "metadata": {},
   "outputs": [],
   "source": [
    "def occat():\n",
    "    try:\n",
    "        j5= driver.find_element(By.XPATH,'//div[@class=\"yash-blog-text shreyh\"][7]/p')\n",
    "        res5=j5.text\n",
    "    except Exception as e:\n",
    "        res5= 'nan'\n",
    "    return res5"
   ]
  },
  {
   "cell_type": "code",
   "execution_count": 32,
   "id": "7dc2d60a",
   "metadata": {},
   "outputs": [],
   "source": [
    "for product in link:\n",
    "    driver.get(product)\n",
    "    time.sleep(2)\n",
    "    e1=color()\n",
    "    colors.append(e1)\n",
    "    time.sleep(2)\n",
    "    e2=material()\n",
    "    materialtype.append(e2)\n",
    "    time.sleep(2)\n",
    "    e3=brand()\n",
    "    brand_names.append(e3)\n",
    "    time.sleep(2)\n",
    "    e4=price()\n",
    "    prices.append(e4)\n",
    "    time.sleep(2)\n",
    "    e5=occat()\n",
    "    Occation.append(e5)\n",
    "    time.sleep(2)\n",
    "    \n",
    "    "
   ]
  },
  {
   "cell_type": "code",
   "execution_count": 57,
   "id": "7137fc66",
   "metadata": {},
   "outputs": [
    {
     "name": "stdout",
     "output_type": "stream",
     "text": [
      "480\n"
     ]
    }
   ],
   "source": [
    "start = 0\n",
    "end = 3\n",
    "for page in range(start,end):\n",
    "    item2= driver.find_elements(By.XPATH,'//a[@class=\"product-item-meta__title\"]')\n",
    "    for i in item2:\n",
    "        productnames.append(i.text)\n",
    "    nextt3 = driver.find_element(By.CLASS_NAME,\"pagination__nav-item\")\n",
    "    nextt3.click()\n",
    "    time.sleep(2)\n",
    "print(len(productnames))    "
   ]
  },
  {
   "cell_type": "code",
   "execution_count": 58,
   "id": "2911a321",
   "metadata": {},
   "outputs": [
    {
     "name": "stdout",
     "output_type": "stream",
     "text": [
      "480\n"
     ]
    }
   ],
   "source": [
    "start = 0\n",
    "end = 3\n",
    "for page in range(start,end):\n",
    "    ite3= driver.find_elements(By.XPATH,'//span[@class=\"price price--highlight\"]')\n",
    "    for i in ite3:\n",
    "        prices.append(i.text)\n",
    "    ne3= driver.find_element(By.CLASS_NAME,'pagination__nav-item')\n",
    "    ne3.click()\n",
    "    time.sleep(2)\n",
    "print(len(prices))"
   ]
  },
  {
   "cell_type": "code",
   "execution_count": 63,
   "id": "f2e2ab66",
   "metadata": {},
   "outputs": [
    {
     "name": "stdout",
     "output_type": "stream",
     "text": [
      "508\n"
     ]
    }
   ],
   "source": [
    "products1 = driver.find_elements(By.XPATH,'//a[@class=\"product-item-meta__title\"]')\n",
    "\n",
    "for i in products1:\n",
    "    sam1= i.text\n",
    "    productnames.append(sam1)\n",
    "print(len(productnames))"
   ]
  },
  {
   "cell_type": "code",
   "execution_count": 64,
   "id": "c487cb0e",
   "metadata": {},
   "outputs": [
    {
     "name": "stdout",
     "output_type": "stream",
     "text": [
      "508\n"
     ]
    }
   ],
   "source": [
    "products3 = driver.find_elements(By.XPATH,'//span[@class=\"price price--highlight\"]')\n",
    "for i in products3:\n",
    "    sam3=i.text\n",
    "    prices.append(sam3)\n",
    "print(len(prices))"
   ]
  },
  {
   "cell_type": "code",
   "execution_count": 69,
   "id": "cda6068a",
   "metadata": {},
   "outputs": [
    {
     "name": "stdout",
     "output_type": "stream",
     "text": [
      "584\n"
     ]
    }
   ],
   "source": [
    "products5 = driver.find_elements(By.XPATH,'//a[@class=\"product-item-meta__title\"]')\n",
    "\n",
    "for i in products5:\n",
    "    sam9= i.text\n",
    "    productnames.append(sam9)\n",
    "print(len(productnames))"
   ]
  },
  {
   "cell_type": "code",
   "execution_count": 70,
   "id": "b0783b14",
   "metadata": {},
   "outputs": [
    {
     "name": "stdout",
     "output_type": "stream",
     "text": [
      "584\n"
     ]
    }
   ],
   "source": [
    "products6= driver.find_elements(By.XPATH,'//span[@class=\"price price--highlight\"]')\n",
    "for i in products6:\n",
    "    sam10=i.text\n",
    "    prices.append(sam10)\n",
    "print(len(prices))"
   ]
  },
  {
   "cell_type": "code",
   "execution_count": null,
   "id": "e54627ed",
   "metadata": {},
   "outputs": [],
   "source": [
    "productnames=[]\n",
    "prices=[]\n",
    "producttype=[]\n",
    "colors=[]\n",
    "category=[]\n",
    "Occation=[]\n",
    "Weartype=[]\n",
    "brand_names=[]\n",
    "return_time=[]\n",
    "country_of_origin=[]\n",
    "materialtype=[]\n",
    "reviews=[]"
   ]
  },
  {
   "cell_type": "code",
   "execution_count": 87,
   "id": "1a4134ba",
   "metadata": {},
   "outputs": [],
   "source": [
    "data7= {'productname':productnames, 'prices':prices, 'producttype':producttype, 'category':category, 'brand_names':brand_names,\n",
    "         'country_of_origin':country_of_origin, 'Weartype':Weartype,'return_time':return_time,'Occation':Occation,\n",
    "           'materialtype':materialtype,'Reviews':reviews}"
   ]
  },
  {
   "cell_type": "code",
   "execution_count": 88,
   "id": "7c9fd705",
   "metadata": {},
   "outputs": [
    {
     "data": {
      "text/html": [
       "<div>\n",
       "<style scoped>\n",
       "    .dataframe tbody tr th:only-of-type {\n",
       "        vertical-align: middle;\n",
       "    }\n",
       "\n",
       "    .dataframe tbody tr th {\n",
       "        vertical-align: top;\n",
       "    }\n",
       "\n",
       "    .dataframe thead th {\n",
       "        text-align: right;\n",
       "    }\n",
       "</style>\n",
       "<table border=\"1\" class=\"dataframe\">\n",
       "  <thead>\n",
       "    <tr style=\"text-align: right;\">\n",
       "      <th></th>\n",
       "      <th>productname</th>\n",
       "      <th>prices</th>\n",
       "      <th>producttype</th>\n",
       "      <th>category</th>\n",
       "      <th>brand_names</th>\n",
       "      <th>country_of_origin</th>\n",
       "      <th>Weartype</th>\n",
       "      <th>return_time</th>\n",
       "      <th>Occation</th>\n",
       "      <th>materialtype</th>\n",
       "      <th>Reviews</th>\n",
       "    </tr>\n",
       "  </thead>\n",
       "  <tbody>\n",
       "    <tr>\n",
       "      <th>0</th>\n",
       "      <td>Boys Red Printed Round Neck Full Slee...</td>\n",
       "      <td>Sale price\\nRs. 858</td>\n",
       "      <td>T-Shirt</td>\n",
       "      <td>Kids</td>\n",
       "      <td>Monte Carlo</td>\n",
       "      <td>India</td>\n",
       "      <td>topwear</td>\n",
       "      <td>7 days</td>\n",
       "      <td>Casual</td>\n",
       "      <td>Cotton Blend</td>\n",
       "      <td>172</td>\n",
       "    </tr>\n",
       "    <tr>\n",
       "      <th>1</th>\n",
       "      <td>Boys Green Printed Round Neck Full Sl...</td>\n",
       "      <td>Sale price\\nRs. 858</td>\n",
       "      <td>T-Shirt</td>\n",
       "      <td>Kids</td>\n",
       "      <td>Monte Carlo</td>\n",
       "      <td>India</td>\n",
       "      <td>topwear</td>\n",
       "      <td>7 days</td>\n",
       "      <td>Casual</td>\n",
       "      <td>Cotton Blend</td>\n",
       "      <td>121</td>\n",
       "    </tr>\n",
       "    <tr>\n",
       "      <th>2</th>\n",
       "      <td>Boys Off White Printed Round Neck Ful...</td>\n",
       "      <td>Sale price\\nRs. 858</td>\n",
       "      <td>T-Shirt</td>\n",
       "      <td>Kids</td>\n",
       "      <td>Monte Carlo</td>\n",
       "      <td>India</td>\n",
       "      <td>topwear</td>\n",
       "      <td>7 days</td>\n",
       "      <td>Casual</td>\n",
       "      <td>Cotton Blend</td>\n",
       "      <td>149</td>\n",
       "    </tr>\n",
       "    <tr>\n",
       "      <th>3</th>\n",
       "      <td>Boys White Printed T-Shirt</td>\n",
       "      <td>Sale price\\nRs. 741</td>\n",
       "      <td>T-Shirt</td>\n",
       "      <td>Kids</td>\n",
       "      <td>Monte Carlo</td>\n",
       "      <td>India</td>\n",
       "      <td>topwear</td>\n",
       "      <td>7 days</td>\n",
       "      <td>Casual</td>\n",
       "      <td>Cotton Blend</td>\n",
       "      <td>187</td>\n",
       "    </tr>\n",
       "    <tr>\n",
       "      <th>4</th>\n",
       "      <td>Boys Green Printed T-Shirt</td>\n",
       "      <td>Sale price\\nRs. 614</td>\n",
       "      <td>T-Shirt</td>\n",
       "      <td>Kids</td>\n",
       "      <td>Monte Carlo</td>\n",
       "      <td>India</td>\n",
       "      <td>topwear</td>\n",
       "      <td>7 days</td>\n",
       "      <td>Casual</td>\n",
       "      <td>Cotton Blend</td>\n",
       "      <td>162</td>\n",
       "    </tr>\n",
       "    <tr>\n",
       "      <th>...</th>\n",
       "      <td>...</td>\n",
       "      <td>...</td>\n",
       "      <td>...</td>\n",
       "      <td>...</td>\n",
       "      <td>...</td>\n",
       "      <td>...</td>\n",
       "      <td>...</td>\n",
       "      <td>...</td>\n",
       "      <td>...</td>\n",
       "      <td>...</td>\n",
       "      <td>...</td>\n",
       "    </tr>\n",
       "    <tr>\n",
       "      <th>579</th>\n",
       "      <td>Boys NAvy Blue Regular Fit Lower</td>\n",
       "      <td>Sale price\\nRs. 644</td>\n",
       "      <td>Lowers</td>\n",
       "      <td>Kids</td>\n",
       "      <td>Monte Carlo</td>\n",
       "      <td>India</td>\n",
       "      <td>bottomwear</td>\n",
       "      <td>7 days</td>\n",
       "      <td>Casual</td>\n",
       "      <td>Cotton Blend</td>\n",
       "      <td>66</td>\n",
       "    </tr>\n",
       "    <tr>\n",
       "      <th>580</th>\n",
       "      <td>Boys Navy Blue Printed Lower</td>\n",
       "      <td>Sale price\\nRs. 731</td>\n",
       "      <td>Lowers</td>\n",
       "      <td>Kids</td>\n",
       "      <td>Monte Carlo</td>\n",
       "      <td>India</td>\n",
       "      <td>bottomwear</td>\n",
       "      <td>7 days</td>\n",
       "      <td>Casual</td>\n",
       "      <td>Cotton Blend</td>\n",
       "      <td>56</td>\n",
       "    </tr>\n",
       "    <tr>\n",
       "      <th>581</th>\n",
       "      <td>Boys Grey Printed Lower</td>\n",
       "      <td>Sale price\\nRs. 575</td>\n",
       "      <td>Lowers</td>\n",
       "      <td>Kids</td>\n",
       "      <td>Monte Carlo</td>\n",
       "      <td>India</td>\n",
       "      <td>bottomwear</td>\n",
       "      <td>7 days</td>\n",
       "      <td>Casual</td>\n",
       "      <td>Cotton Blend</td>\n",
       "      <td>76</td>\n",
       "    </tr>\n",
       "    <tr>\n",
       "      <th>582</th>\n",
       "      <td>Boys Black Printed Lower</td>\n",
       "      <td>Sale price\\nRs. 735</td>\n",
       "      <td>Lowers</td>\n",
       "      <td>Kids</td>\n",
       "      <td>Monte Carlo</td>\n",
       "      <td>India</td>\n",
       "      <td>bottomwear</td>\n",
       "      <td>7 days</td>\n",
       "      <td>Casual</td>\n",
       "      <td>Cotton Blend</td>\n",
       "      <td>144</td>\n",
       "    </tr>\n",
       "    <tr>\n",
       "      <th>583</th>\n",
       "      <td>Boys Black Printed Lower</td>\n",
       "      <td>Sale price\\nRs. 768</td>\n",
       "      <td>Lowers</td>\n",
       "      <td>Kids</td>\n",
       "      <td>Monte Carlo</td>\n",
       "      <td>India</td>\n",
       "      <td>bottomwear</td>\n",
       "      <td>7 days</td>\n",
       "      <td>Casual</td>\n",
       "      <td>Cotton Blend</td>\n",
       "      <td>49</td>\n",
       "    </tr>\n",
       "  </tbody>\n",
       "</table>\n",
       "<p>584 rows × 11 columns</p>\n",
       "</div>"
      ],
      "text/plain": [
       "                                  productname               prices  \\\n",
       "0    Boys Red Printed Round Neck Full Slee...  Sale price\\nRs. 858   \n",
       "1    Boys Green Printed Round Neck Full Sl...  Sale price\\nRs. 858   \n",
       "2    Boys Off White Printed Round Neck Ful...  Sale price\\nRs. 858   \n",
       "3                  Boys White Printed T-Shirt  Sale price\\nRs. 741   \n",
       "4                  Boys Green Printed T-Shirt  Sale price\\nRs. 614   \n",
       "..                                        ...                  ...   \n",
       "579          Boys NAvy Blue Regular Fit Lower  Sale price\\nRs. 644   \n",
       "580              Boys Navy Blue Printed Lower  Sale price\\nRs. 731   \n",
       "581                   Boys Grey Printed Lower  Sale price\\nRs. 575   \n",
       "582                  Boys Black Printed Lower  Sale price\\nRs. 735   \n",
       "583                  Boys Black Printed Lower  Sale price\\nRs. 768   \n",
       "\n",
       "    producttype category  brand_names country_of_origin    Weartype  \\\n",
       "0       T-Shirt     Kids  Monte Carlo             India     topwear   \n",
       "1       T-Shirt     Kids  Monte Carlo             India     topwear   \n",
       "2       T-Shirt     Kids  Monte Carlo             India     topwear   \n",
       "3       T-Shirt     Kids  Monte Carlo             India     topwear   \n",
       "4       T-Shirt     Kids  Monte Carlo             India     topwear   \n",
       "..          ...      ...          ...               ...         ...   \n",
       "579      Lowers     Kids  Monte Carlo             India  bottomwear   \n",
       "580      Lowers     Kids  Monte Carlo             India  bottomwear   \n",
       "581      Lowers     Kids  Monte Carlo             India  bottomwear   \n",
       "582      Lowers     Kids  Monte Carlo             India  bottomwear   \n",
       "583      Lowers     Kids  Monte Carlo             India  bottomwear   \n",
       "\n",
       "    return_time Occation  materialtype  Reviews  \n",
       "0        7 days   Casual  Cotton Blend      172  \n",
       "1        7 days   Casual  Cotton Blend      121  \n",
       "2        7 days   Casual  Cotton Blend      149  \n",
       "3        7 days   Casual  Cotton Blend      187  \n",
       "4        7 days   Casual  Cotton Blend      162  \n",
       "..          ...      ...           ...      ...  \n",
       "579      7 days   Casual  Cotton Blend       66  \n",
       "580      7 days   Casual  Cotton Blend       56  \n",
       "581      7 days   Casual  Cotton Blend       76  \n",
       "582      7 days   Casual  Cotton Blend      144  \n",
       "583      7 days   Casual  Cotton Blend       49  \n",
       "\n",
       "[584 rows x 11 columns]"
      ]
     },
     "execution_count": 88,
     "metadata": {},
     "output_type": "execute_result"
    }
   ],
   "source": [
    "df7= pd.DataFrame(data7)\n",
    "df7"
   ]
  },
  {
   "cell_type": "code",
   "execution_count": 89,
   "id": "338862bf",
   "metadata": {},
   "outputs": [],
   "source": [
    "df7.to_csv('datafame7.csv')"
   ]
  },
  {
   "cell_type": "code",
   "execution_count": 6,
   "id": "a49cec2b",
   "metadata": {},
   "outputs": [],
   "source": [
    "driver= webdriver.Chrome()\n",
    "driver.get('https://www2.hm.com/en_in/index.html')"
   ]
  },
  {
   "cell_type": "code",
   "execution_count": 3,
   "id": "ae71f34d",
   "metadata": {},
   "outputs": [],
   "source": [
    "productnames=[]\n",
    "prices=[]\n",
    "producttype=[]\n",
    "colors=[]\n",
    "category=[]\n",
    "Occation=[]\n",
    "Weartype=[]\n",
    "brand_names=[]\n",
    "return_time=[]\n",
    "country_of_origin=[]\n",
    "materialtype=[]\n",
    "reviews=[]"
   ]
  },
  {
   "cell_type": "code",
   "execution_count": 7,
   "id": "799998cb",
   "metadata": {},
   "outputs": [
    {
     "name": "stdout",
     "output_type": "stream",
     "text": [
      "163\n"
     ]
    }
   ],
   "source": [
    "product11 = driver.find_elements(By.XPATH,'//a[@class=\"link\"]')\n",
    "\n",
    "for i in product11:\n",
    "    s1= i.text\n",
    "    productnames.append(s1)\n",
    "print(len(productnames))"
   ]
  },
  {
   "cell_type": "code",
   "execution_count": 10,
   "id": "e6c1359e",
   "metadata": {},
   "outputs": [
    {
     "name": "stdout",
     "output_type": "stream",
     "text": [
      "144\n"
     ]
    }
   ],
   "source": [
    "product12= driver.find_elements(By.XPATH,'//span[@class=\"price regular\"]')\n",
    "for i in product12:\n",
    "    s2=i.text\n",
    "    prices.append(s2)\n",
    "print(len(prices))"
   ]
  },
  {
   "cell_type": "code",
   "execution_count": 13,
   "id": "44fc7a69",
   "metadata": {},
   "outputs": [],
   "source": [
    "def color():\n",
    "    try:\n",
    "        j1= driver.find_element(By.XPATH,'//h3[@class=\"product-input-label\"]')\n",
    "        res1=j1.text\n",
    "    except Exception as e:\n",
    "        res1= 'nan'\n",
    "    return res1"
   ]
  },
  {
   "cell_type": "code",
   "execution_count": 14,
   "id": "167f8812",
   "metadata": {},
   "outputs": [],
   "source": [
    "def review():\n",
    "    try:\n",
    "        j2= driver.find_element(By.XPATH,'//span[@class=\"d1cd7b b475fe e54fbe\"]')\n",
    "        res2=j2.text\n",
    "    except Exception as e:\n",
    "        res2= 'nan'\n",
    "    return res2"
   ]
  },
  {
   "cell_type": "code",
   "execution_count": 15,
   "id": "e648e114",
   "metadata": {},
   "outputs": [],
   "source": [
    "def material():\n",
    "    try:\n",
    "        j3= driver.find_element(By.XPATH,'//ul[@class=\"f94b22\"]/li/p')\n",
    "        res3=j3.text\n",
    "    except Exception as e:\n",
    "        res3= 'nan'\n",
    "    return res3"
   ]
  },
  {
   "cell_type": "code",
   "execution_count": 16,
   "id": "4591beda",
   "metadata": {},
   "outputs": [],
   "source": [
    "link=[]"
   ]
  },
  {
   "cell_type": "code",
   "execution_count": 17,
   "id": "06621aa0",
   "metadata": {},
   "outputs": [],
   "source": [
    "lin= driver.find_elements(By.XPATH,'//a[@class=\"link\"]')\n",
    "\n",
    "for i in lin:\n",
    "    lin1 = i.get_attribute('href')\n",
    "    link.append(lin1)"
   ]
  },
  {
   "cell_type": "code",
   "execution_count": 19,
   "id": "1dc44c8a",
   "metadata": {},
   "outputs": [],
   "source": [
    "for product in link:\n",
    "    driver.get(product)\n",
    "    time.sleep(2)\n",
    "    e1=color()\n",
    "    colors.append(e1)\n",
    "    time.sleep(2)\n",
    "    e2=material()\n",
    "    materialtype.append(e2)\n",
    "    time.sleep(2)\n",
    "    e3=review()\n",
    "    reviews.append(e3)\n",
    "    time.sleep(2)"
   ]
  },
  {
   "cell_type": "code",
   "execution_count": 23,
   "id": "4848e401",
   "metadata": {},
   "outputs": [
    {
     "name": "stdout",
     "output_type": "stream",
     "text": [
      "232\n"
     ]
    }
   ],
   "source": [
    "product13= driver.find_elements(By.XPATH,'//a[@class=\"link\"]')\n",
    "\n",
    "for i in product13:\n",
    "    s3= i.text\n",
    "    productnames.append(s3)\n",
    "print(len(productnames))"
   ]
  },
  {
   "cell_type": "code",
   "execution_count": 24,
   "id": "274f6473",
   "metadata": {},
   "outputs": [
    {
     "name": "stdout",
     "output_type": "stream",
     "text": [
      "232\n"
     ]
    }
   ],
   "source": [
    "product14= driver.find_elements(By.XPATH,'//span[@class=\"price regular\"]')\n",
    "for i in product14:\n",
    "    s4=i.text\n",
    "    prices.append(s4)\n",
    "print(len(prices))"
   ]
  },
  {
   "cell_type": "code",
   "execution_count": 26,
   "id": "cab01268",
   "metadata": {},
   "outputs": [
    {
     "name": "stdout",
     "output_type": "stream",
     "text": [
      "303\n"
     ]
    }
   ],
   "source": [
    "product15= driver.find_elements(By.XPATH,'//a[@class=\"link\"]')\n",
    "\n",
    "for i in product15:\n",
    "    s5= i.text\n",
    "    productnames.append(s5)\n",
    "print(len(productnames))"
   ]
  },
  {
   "cell_type": "code",
   "execution_count": 27,
   "id": "240dc977",
   "metadata": {},
   "outputs": [
    {
     "name": "stdout",
     "output_type": "stream",
     "text": [
      "303\n"
     ]
    }
   ],
   "source": [
    "product16= driver.find_elements(By.XPATH,'//span[@class=\"price regular\"]')\n",
    "for i in product16:\n",
    "    s6=i.text\n",
    "    prices.append(s6)\n",
    "print(len(prices))"
   ]
  },
  {
   "cell_type": "code",
   "execution_count": 44,
   "id": "cac6f977",
   "metadata": {},
   "outputs": [],
   "source": [
    "data8= {'productname':productnames, 'prices':prices, 'producttype':producttype, 'category':category, 'brand_names':brand_names,\n",
    "         'country_of_origin':country_of_origin, 'Weartype':Weartype,'return_time':return_time,'Occation':Occation,\n",
    "           'materialtype':materialtype,'Reviews':reviews}"
   ]
  },
  {
   "cell_type": "code",
   "execution_count": 45,
   "id": "cc3bb6e9",
   "metadata": {},
   "outputs": [
    {
     "data": {
      "text/html": [
       "<div>\n",
       "<style scoped>\n",
       "    .dataframe tbody tr th:only-of-type {\n",
       "        vertical-align: middle;\n",
       "    }\n",
       "\n",
       "    .dataframe tbody tr th {\n",
       "        vertical-align: top;\n",
       "    }\n",
       "\n",
       "    .dataframe thead th {\n",
       "        text-align: right;\n",
       "    }\n",
       "</style>\n",
       "<table border=\"1\" class=\"dataframe\">\n",
       "  <thead>\n",
       "    <tr style=\"text-align: right;\">\n",
       "      <th></th>\n",
       "      <th>productname</th>\n",
       "      <th>prices</th>\n",
       "      <th>producttype</th>\n",
       "      <th>category</th>\n",
       "      <th>brand_names</th>\n",
       "      <th>country_of_origin</th>\n",
       "      <th>Weartype</th>\n",
       "      <th>return_time</th>\n",
       "      <th>Occation</th>\n",
       "      <th>materialtype</th>\n",
       "      <th>Reviews</th>\n",
       "    </tr>\n",
       "  </thead>\n",
       "  <tbody>\n",
       "    <tr>\n",
       "      <th>0</th>\n",
       "      <td>Everyday Polo T-Shirt</td>\n",
       "      <td>Rs.799.00</td>\n",
       "      <td>sportswear</td>\n",
       "      <td>kids</td>\n",
       "      <td>polo</td>\n",
       "      <td>India</td>\n",
       "      <td>topwear</td>\n",
       "      <td>30 days</td>\n",
       "      <td>Celebration</td>\n",
       "      <td>Cotton Blend</td>\n",
       "      <td>(2 reviews)</td>\n",
       "    </tr>\n",
       "    <tr>\n",
       "      <th>1</th>\n",
       "      <td>Flip Side T-Shirt</td>\n",
       "      <td>Rs.799.00</td>\n",
       "      <td>sportswear</td>\n",
       "      <td>kids</td>\n",
       "      <td>polo</td>\n",
       "      <td>India</td>\n",
       "      <td>topwear</td>\n",
       "      <td>30 days</td>\n",
       "      <td>Celebration</td>\n",
       "      <td>Cotton Blend</td>\n",
       "      <td>nan</td>\n",
       "    </tr>\n",
       "    <tr>\n",
       "      <th>2</th>\n",
       "      <td>Lane 4 T-Shirt</td>\n",
       "      <td>Rs.1,299.00</td>\n",
       "      <td>sportswear</td>\n",
       "      <td>kids</td>\n",
       "      <td>polo</td>\n",
       "      <td>India</td>\n",
       "      <td>topwear</td>\n",
       "      <td>30 days</td>\n",
       "      <td>Celebration</td>\n",
       "      <td>Cotton Blend</td>\n",
       "      <td>nan</td>\n",
       "    </tr>\n",
       "    <tr>\n",
       "      <th>3</th>\n",
       "      <td>Everyday Comfort T-Shirt</td>\n",
       "      <td>Rs.799.00</td>\n",
       "      <td>sportswear</td>\n",
       "      <td>kids</td>\n",
       "      <td>polo</td>\n",
       "      <td>India</td>\n",
       "      <td>topwear</td>\n",
       "      <td>30 days</td>\n",
       "      <td>Celebration</td>\n",
       "      <td>Cotton Blend</td>\n",
       "      <td>nan</td>\n",
       "    </tr>\n",
       "    <tr>\n",
       "      <th>4</th>\n",
       "      <td>Loader T-Shirt</td>\n",
       "      <td>Rs.1,299.00</td>\n",
       "      <td>sportswear</td>\n",
       "      <td>kids</td>\n",
       "      <td>polo</td>\n",
       "      <td>India</td>\n",
       "      <td>topwear</td>\n",
       "      <td>30 days</td>\n",
       "      <td>Celebration</td>\n",
       "      <td>Cotton Blend</td>\n",
       "      <td>nan</td>\n",
       "    </tr>\n",
       "    <tr>\n",
       "      <th>...</th>\n",
       "      <td>...</td>\n",
       "      <td>...</td>\n",
       "      <td>...</td>\n",
       "      <td>...</td>\n",
       "      <td>...</td>\n",
       "      <td>...</td>\n",
       "      <td>...</td>\n",
       "      <td>...</td>\n",
       "      <td>...</td>\n",
       "      <td>...</td>\n",
       "      <td>...</td>\n",
       "    </tr>\n",
       "    <tr>\n",
       "      <th>298</th>\n",
       "      <td>Warm fleece joggers</td>\n",
       "      <td>Rs.1,999.00</td>\n",
       "      <td>sportswear</td>\n",
       "      <td>kids</td>\n",
       "      <td>polo</td>\n",
       "      <td>India</td>\n",
       "      <td>topwear</td>\n",
       "      <td>30 days</td>\n",
       "      <td>Celebration</td>\n",
       "      <td>Cotton Blend</td>\n",
       "      <td>187</td>\n",
       "    </tr>\n",
       "    <tr>\n",
       "      <th>299</th>\n",
       "      <td>DryMove™ Running vest</td>\n",
       "      <td>Rs.2,299.00</td>\n",
       "      <td>sportswear</td>\n",
       "      <td>kids</td>\n",
       "      <td>polo</td>\n",
       "      <td>India</td>\n",
       "      <td>topwear</td>\n",
       "      <td>30 days</td>\n",
       "      <td>Celebration</td>\n",
       "      <td>Cotton Blend</td>\n",
       "      <td>89</td>\n",
       "    </tr>\n",
       "    <tr>\n",
       "      <th>300</th>\n",
       "      <td>Track jacket in DryMove™</td>\n",
       "      <td>Rs.2,699.00</td>\n",
       "      <td>sportswear</td>\n",
       "      <td>kids</td>\n",
       "      <td>polo</td>\n",
       "      <td>India</td>\n",
       "      <td>topwear</td>\n",
       "      <td>30 days</td>\n",
       "      <td>Celebration</td>\n",
       "      <td>Cotton Blend</td>\n",
       "      <td>128</td>\n",
       "    </tr>\n",
       "    <tr>\n",
       "      <th>301</th>\n",
       "      <td>DryMove™ Basketball shorts</td>\n",
       "      <td>Rs.1,499.00</td>\n",
       "      <td>sportswear</td>\n",
       "      <td>kids</td>\n",
       "      <td>polo</td>\n",
       "      <td>India</td>\n",
       "      <td>topwear</td>\n",
       "      <td>30 days</td>\n",
       "      <td>Celebration</td>\n",
       "      <td>Cotton Blend</td>\n",
       "      <td>33</td>\n",
       "    </tr>\n",
       "    <tr>\n",
       "      <th>302</th>\n",
       "      <td>DryMove™ Sports shorts</td>\n",
       "      <td>Rs.1,499.00</td>\n",
       "      <td>sportswear</td>\n",
       "      <td>kids</td>\n",
       "      <td>polo</td>\n",
       "      <td>India</td>\n",
       "      <td>topwear</td>\n",
       "      <td>30 days</td>\n",
       "      <td>Celebration</td>\n",
       "      <td>Cotton Blend</td>\n",
       "      <td>116</td>\n",
       "    </tr>\n",
       "  </tbody>\n",
       "</table>\n",
       "<p>303 rows × 11 columns</p>\n",
       "</div>"
      ],
      "text/plain": [
       "                    productname       prices producttype category brand_names  \\\n",
       "0         Everyday Polo T-Shirt    Rs.799.00  sportswear     kids        polo   \n",
       "1             Flip Side T-Shirt    Rs.799.00  sportswear     kids        polo   \n",
       "2                Lane 4 T-Shirt  Rs.1,299.00  sportswear     kids        polo   \n",
       "3      Everyday Comfort T-Shirt    Rs.799.00  sportswear     kids        polo   \n",
       "4                Loader T-Shirt  Rs.1,299.00  sportswear     kids        polo   \n",
       "..                          ...          ...         ...      ...         ...   \n",
       "298         Warm fleece joggers  Rs.1,999.00  sportswear     kids        polo   \n",
       "299       DryMove™ Running vest  Rs.2,299.00  sportswear     kids        polo   \n",
       "300    Track jacket in DryMove™  Rs.2,699.00  sportswear     kids        polo   \n",
       "301  DryMove™ Basketball shorts  Rs.1,499.00  sportswear     kids        polo   \n",
       "302      DryMove™ Sports shorts  Rs.1,499.00  sportswear     kids        polo   \n",
       "\n",
       "    country_of_origin Weartype return_time     Occation  materialtype  \\\n",
       "0               India  topwear     30 days  Celebration  Cotton Blend   \n",
       "1               India  topwear     30 days  Celebration  Cotton Blend   \n",
       "2               India  topwear     30 days  Celebration  Cotton Blend   \n",
       "3               India  topwear     30 days  Celebration  Cotton Blend   \n",
       "4               India  topwear     30 days  Celebration  Cotton Blend   \n",
       "..                ...      ...         ...          ...           ...   \n",
       "298             India  topwear     30 days  Celebration  Cotton Blend   \n",
       "299             India  topwear     30 days  Celebration  Cotton Blend   \n",
       "300             India  topwear     30 days  Celebration  Cotton Blend   \n",
       "301             India  topwear     30 days  Celebration  Cotton Blend   \n",
       "302             India  topwear     30 days  Celebration  Cotton Blend   \n",
       "\n",
       "         Reviews  \n",
       "0    (2 reviews)  \n",
       "1            nan  \n",
       "2            nan  \n",
       "3            nan  \n",
       "4            nan  \n",
       "..           ...  \n",
       "298          187  \n",
       "299           89  \n",
       "300          128  \n",
       "301           33  \n",
       "302          116  \n",
       "\n",
       "[303 rows x 11 columns]"
      ]
     },
     "execution_count": 45,
     "metadata": {},
     "output_type": "execute_result"
    }
   ],
   "source": [
    "df8= pd.DataFrame(data8)\n",
    "df8"
   ]
  },
  {
   "cell_type": "code",
   "execution_count": 46,
   "id": "2988c2fc",
   "metadata": {},
   "outputs": [],
   "source": [
    "df8.to_csv('datafame8.csv')"
   ]
  },
  {
   "cell_type": "code",
   "execution_count": null,
   "id": "e9c50d84",
   "metadata": {},
   "outputs": [],
   "source": []
  }
 ],
 "metadata": {
  "kernelspec": {
   "display_name": "Python 3 (ipykernel)",
   "language": "python",
   "name": "python3"
  },
  "language_info": {
   "codemirror_mode": {
    "name": "ipython",
    "version": 3
   },
   "file_extension": ".py",
   "mimetype": "text/x-python",
   "name": "python",
   "nbconvert_exporter": "python",
   "pygments_lexer": "ipython3",
   "version": "3.10.9"
  }
 },
 "nbformat": 4,
 "nbformat_minor": 5
}
